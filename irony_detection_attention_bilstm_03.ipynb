{
  "nbformat": 4,
  "nbformat_minor": 0,
  "metadata": {
    "colab": {
      "name": "irony_detection_attention_bilstm_01.ipynb",
      "provenance": [],
      "collapsed_sections": [],
      "authorship_tag": "ABX9TyNqdWtvoyf657qaMQuKux1O",
      "include_colab_link": true
    },
    "kernelspec": {
      "name": "python3",
      "display_name": "Python 3"
    },
    "language_info": {
      "name": "python"
    }
  },
  "cells": [
    {
      "cell_type": "markdown",
      "metadata": {
        "id": "view-in-github",
        "colab_type": "text"
      },
      "source": [
        "<a href=\"https://colab.research.google.com/github/mayarachew/IronyDetectionInTweets/blob/main/irony_detection_attention_bilstm_03.ipynb\" target=\"_parent\"><img src=\"https://colab.research.google.com/assets/colab-badge.svg\" alt=\"Open In Colab\"/></a>"
      ]
    },
    {
      "cell_type": "code",
      "execution_count": 1,
      "metadata": {
        "id": "bhJZdJaSk0mu"
      },
      "outputs": [],
      "source": [
        "#from google.colab import drive\n",
        "#drive.mount('/content/drive')"
      ]
    },
    {
      "cell_type": "code",
      "source": [
        "#!cp -r \"/content/drive/My Drive/sentiment_analysis/irony_detection_EN_taskA\" \"irony_detection_EN\"\n",
        "#!cp -r \"/content/drive/My Drive/sentiment_analysis/irony_detection_pt2\" \"irony_detection_pt2\""
      ],
      "metadata": {
        "id": "0H4Q8s1CmGCW"
      },
      "execution_count": 2,
      "outputs": []
    },
    {
      "cell_type": "code",
      "source": [
        "#!pip install tensorflow_text\n",
        "#!pip install attention"
      ],
      "metadata": {
        "id": "9-mA1ZKFmpUk"
      },
      "execution_count": 3,
      "outputs": []
    },
    {
      "cell_type": "code",
      "source": [
        "from keras.models import Sequential\n",
        "from keras.layers import Dense, Activation,Dropout, Flatten, Embedding, SimpleRNN,LSTM,Bidirectional\n",
        "from keras.layers.embeddings import Embedding\n",
        "from attention import Attention\n",
        "from keras.datasets import reuters\n",
        "from keras.preprocessing.text import Tokenizer\n",
        "from keras.utils.np_utils import to_categorical\n",
        "from keras.preprocessing import sequence\n",
        "import pandas as pd\n",
        "from keras.preprocessing.sequence import pad_sequences\n",
        "import numpy as np\n",
        "from collections import Counter"
      ],
      "metadata": {
        "id": "d_kI-a9tsUFc"
      },
      "execution_count": 4,
      "outputs": []
    },
    {
      "cell_type": "code",
      "source": [
        "path_train = \"irony_detection_EN/SemEval2018-T3-train-taskA_emoji.txt\"\n",
        "path_valid = \"irony_detection_EN/SemEval2018-T3-valid-taskA_emoji.txt\"\n",
        "path_test = \"irony_detection_EN/SemEval2018-T3_gold_test_taskA_emoji.txt\""
      ],
      "metadata": {
        "id": "LQlVP9RXmWKN"
      },
      "execution_count": 5,
      "outputs": []
    },
    {
      "cell_type": "code",
      "source": [
        "df_train = pd.read_csv(path_train, sep='\\t',encoding=\"UTF-8\",low_memory = False)\n",
        "df_valid = pd.read_csv(path_valid, sep='\\t',encoding=\"UTF-8\",low_memory = False)\n",
        "df_test = pd.read_csv(path_test, sep='\\t',encoding=\"UTF-8\",low_memory = False)\n",
        "\n",
        "df_train.head()"
      ],
      "metadata": {
        "id": "W_CkgJDqrxrF",
        "colab": {
          "base_uri": "https://localhost:8080/",
          "height": 206
        },
        "outputId": "327d6678-b6ad-4a60-94f6-e7aee1d550cb"
      },
      "execution_count": 6,
      "outputs": [
        {
          "output_type": "execute_result",
          "data": {
            "text/html": [
              "\n",
              "  <div id=\"df-bed7837c-f577-4756-98b5-47c29fa0efab\">\n",
              "    <div class=\"colab-df-container\">\n",
              "      <div>\n",
              "<style scoped>\n",
              "    .dataframe tbody tr th:only-of-type {\n",
              "        vertical-align: middle;\n",
              "    }\n",
              "\n",
              "    .dataframe tbody tr th {\n",
              "        vertical-align: top;\n",
              "    }\n",
              "\n",
              "    .dataframe thead th {\n",
              "        text-align: right;\n",
              "    }\n",
              "</style>\n",
              "<table border=\"1\" class=\"dataframe\">\n",
              "  <thead>\n",
              "    <tr style=\"text-align: right;\">\n",
              "      <th></th>\n",
              "      <th>Tweet index</th>\n",
              "      <th>Tweet text</th>\n",
              "      <th>Label</th>\n",
              "    </tr>\n",
              "  </thead>\n",
              "  <tbody>\n",
              "    <tr>\n",
              "      <th>0</th>\n",
              "      <td>701</td>\n",
              "      <td>Ummm can I please have @KipMooreMusic for Chri...</td>\n",
              "      <td>0</td>\n",
              "    </tr>\n",
              "    <tr>\n",
              "      <th>1</th>\n",
              "      <td>2048</td>\n",
              "      <td>@TorteDeLini I'll check it out. :-)</td>\n",
              "      <td>0</td>\n",
              "    </tr>\n",
              "    <tr>\n",
              "      <th>2</th>\n",
              "      <td>645</td>\n",
              "      <td>I hate when random people get in the hot tub w...</td>\n",
              "      <td>1</td>\n",
              "    </tr>\n",
              "    <tr>\n",
              "      <th>3</th>\n",
              "      <td>3233</td>\n",
              "      <td>Storm coming! #todayimloving  http://t.co/hsNU...</td>\n",
              "      <td>1</td>\n",
              "    </tr>\n",
              "    <tr>\n",
              "      <th>4</th>\n",
              "      <td>3408</td>\n",
              "      <td>Today is already shaping up to be fabulous</td>\n",
              "      <td>1</td>\n",
              "    </tr>\n",
              "  </tbody>\n",
              "</table>\n",
              "</div>\n",
              "      <button class=\"colab-df-convert\" onclick=\"convertToInteractive('df-bed7837c-f577-4756-98b5-47c29fa0efab')\"\n",
              "              title=\"Convert this dataframe to an interactive table.\"\n",
              "              style=\"display:none;\">\n",
              "        \n",
              "  <svg xmlns=\"http://www.w3.org/2000/svg\" height=\"24px\"viewBox=\"0 0 24 24\"\n",
              "       width=\"24px\">\n",
              "    <path d=\"M0 0h24v24H0V0z\" fill=\"none\"/>\n",
              "    <path d=\"M18.56 5.44l.94 2.06.94-2.06 2.06-.94-2.06-.94-.94-2.06-.94 2.06-2.06.94zm-11 1L8.5 8.5l.94-2.06 2.06-.94-2.06-.94L8.5 2.5l-.94 2.06-2.06.94zm10 10l.94 2.06.94-2.06 2.06-.94-2.06-.94-.94-2.06-.94 2.06-2.06.94z\"/><path d=\"M17.41 7.96l-1.37-1.37c-.4-.4-.92-.59-1.43-.59-.52 0-1.04.2-1.43.59L10.3 9.45l-7.72 7.72c-.78.78-.78 2.05 0 2.83L4 21.41c.39.39.9.59 1.41.59.51 0 1.02-.2 1.41-.59l7.78-7.78 2.81-2.81c.8-.78.8-2.07 0-2.86zM5.41 20L4 18.59l7.72-7.72 1.47 1.35L5.41 20z\"/>\n",
              "  </svg>\n",
              "      </button>\n",
              "      \n",
              "  <style>\n",
              "    .colab-df-container {\n",
              "      display:flex;\n",
              "      flex-wrap:wrap;\n",
              "      gap: 12px;\n",
              "    }\n",
              "\n",
              "    .colab-df-convert {\n",
              "      background-color: #E8F0FE;\n",
              "      border: none;\n",
              "      border-radius: 50%;\n",
              "      cursor: pointer;\n",
              "      display: none;\n",
              "      fill: #1967D2;\n",
              "      height: 32px;\n",
              "      padding: 0 0 0 0;\n",
              "      width: 32px;\n",
              "    }\n",
              "\n",
              "    .colab-df-convert:hover {\n",
              "      background-color: #E2EBFA;\n",
              "      box-shadow: 0px 1px 2px rgba(60, 64, 67, 0.3), 0px 1px 3px 1px rgba(60, 64, 67, 0.15);\n",
              "      fill: #174EA6;\n",
              "    }\n",
              "\n",
              "    [theme=dark] .colab-df-convert {\n",
              "      background-color: #3B4455;\n",
              "      fill: #D2E3FC;\n",
              "    }\n",
              "\n",
              "    [theme=dark] .colab-df-convert:hover {\n",
              "      background-color: #434B5C;\n",
              "      box-shadow: 0px 1px 3px 1px rgba(0, 0, 0, 0.15);\n",
              "      filter: drop-shadow(0px 1px 2px rgba(0, 0, 0, 0.3));\n",
              "      fill: #FFFFFF;\n",
              "    }\n",
              "  </style>\n",
              "\n",
              "      <script>\n",
              "        const buttonEl =\n",
              "          document.querySelector('#df-bed7837c-f577-4756-98b5-47c29fa0efab button.colab-df-convert');\n",
              "        buttonEl.style.display =\n",
              "          google.colab.kernel.accessAllowed ? 'block' : 'none';\n",
              "\n",
              "        async function convertToInteractive(key) {\n",
              "          const element = document.querySelector('#df-bed7837c-f577-4756-98b5-47c29fa0efab');\n",
              "          const dataTable =\n",
              "            await google.colab.kernel.invokeFunction('convertToInteractive',\n",
              "                                                     [key], {});\n",
              "          if (!dataTable) return;\n",
              "\n",
              "          const docLinkHtml = 'Like what you see? Visit the ' +\n",
              "            '<a target=\"_blank\" href=https://colab.research.google.com/notebooks/data_table.ipynb>data table notebook</a>'\n",
              "            + ' to learn more about interactive tables.';\n",
              "          element.innerHTML = '';\n",
              "          dataTable['output_type'] = 'display_data';\n",
              "          await google.colab.output.renderOutput(dataTable, element);\n",
              "          const docLink = document.createElement('div');\n",
              "          docLink.innerHTML = docLinkHtml;\n",
              "          element.appendChild(docLink);\n",
              "        }\n",
              "      </script>\n",
              "    </div>\n",
              "  </div>\n",
              "  "
            ],
            "text/plain": [
              "   Tweet index                                         Tweet text  Label\n",
              "0          701  Ummm can I please have @KipMooreMusic for Chri...      0\n",
              "1         2048                @TorteDeLini I'll check it out. :-)      0\n",
              "2          645  I hate when random people get in the hot tub w...      1\n",
              "3         3233  Storm coming! #todayimloving  http://t.co/hsNU...      1\n",
              "4         3408        Today is already shaping up to be fabulous       1"
            ]
          },
          "metadata": {},
          "execution_count": 6
        }
      ]
    },
    {
      "cell_type": "code",
      "source": [
        "df_test['Label'] = pd.Categorical(df_test['Label'])\n",
        "df_test['Label'] = df_test['Label'].cat.codes\n",
        "\n",
        "df_train['Label'] = pd.Categorical(df_train['Label'])\n",
        "df_train['Label'] = df_train['Label'].cat.codes\n",
        "\n",
        "df_valid['Label'] = pd.Categorical(df_valid['Label'])\n",
        "df_valid['Label'] = df_valid['Label'].cat.codes"
      ],
      "metadata": {
        "id": "NhetYpklsyB7"
      },
      "execution_count": 7,
      "outputs": []
    },
    {
      "cell_type": "code",
      "source": [
        "y_train = df_train['Label']\n",
        "X_train = df_train['Tweet text']\n",
        "\n",
        "y_test = df_test['Label']\n",
        "X_test = df_test['Tweet text']\n",
        "\n",
        "y_valid = df_valid['Label']\n",
        "X_valid = df_valid['Tweet text']"
      ],
      "metadata": {
        "id": "GtoXk9BoryXV"
      },
      "execution_count": 8,
      "outputs": []
    },
    {
      "cell_type": "code",
      "source": [
        "df_train.dtypes\n"
      ],
      "metadata": {
        "id": "V4Xx__cczY9p",
        "colab": {
          "base_uri": "https://localhost:8080/"
        },
        "outputId": "615d8861-b0f7-4a8a-f8b6-b97827dca7a3"
      },
      "execution_count": 9,
      "outputs": [
        {
          "output_type": "execute_result",
          "data": {
            "text/plain": [
              "Tweet index     int64\n",
              "Tweet text     object\n",
              "Label            int8\n",
              "dtype: object"
            ]
          },
          "metadata": {},
          "execution_count": 9
        }
      ]
    },
    {
      "cell_type": "code",
      "source": [
        "num_classes = 2\n",
        "\n",
        "\n",
        "results = Counter()\n",
        "df_train['Tweet text'].str.lower().str.split().apply(results.update)\n",
        "df_valid['Tweet text'].str.lower().str.split().apply(results.update)\n",
        "df_test['Tweet text'].str.lower().str.split().apply(results.update)\n",
        "total_vocab_size = len(results)"
      ],
      "metadata": {
        "id": "MfLRKtQ3mKpm"
      },
      "execution_count": 10,
      "outputs": []
    },
    {
      "cell_type": "code",
      "source": [
        "soma = 0\n",
        "\n",
        "for item in df_train['Tweet text']:\n",
        "  soma += len(item)\n",
        "media = soma/len(df_train['Tweet text'])\n",
        "print(f'Em média, cada tweets possui {media} palavras.')"
      ],
      "metadata": {
        "id": "qwoESY8g21bp",
        "colab": {
          "base_uri": "https://localhost:8080/"
        },
        "outputId": "60a1429e-7675-4974-e2ce-c1ac0b7bb025"
      },
      "execution_count": 11,
      "outputs": [
        {
          "output_type": "stream",
          "name": "stdout",
          "text": [
            "Em média, cada tweets possui 87.95447101211923 palavras.\n"
          ]
        }
      ]
    },
    {
      "cell_type": "markdown",
      "source": [
        "Hiperparametros"
      ],
      "metadata": {
        "id": "uo36NUe33AV_"
      }
    },
    {
      "cell_type": "code",
      "source": [
        "vocab_size = 1000 # make the top list of words (common words)\n",
        "embedding_dim = 40\n",
        "max_length = 40\n",
        "bs = 32\n",
        "trunc_type = 'post'\n",
        "padding_type = 'post'\n",
        "oov_tok = '<OOV>' # OOV = Out of Vocabulary"
      ],
      "metadata": {
        "id": "5A5jAt6ml-nm"
      },
      "execution_count": 12,
      "outputs": []
    },
    {
      "cell_type": "code",
      "source": [
        "tokenizer = Tokenizer(num_words = vocab_size, oov_token=oov_tok)\n",
        "tokenizer.fit_on_texts(X_train)"
      ],
      "metadata": {
        "id": "M_N8MfIT3G3P"
      },
      "execution_count": 13,
      "outputs": []
    },
    {
      "cell_type": "code",
      "source": [
        "word_index = tokenizer.word_index\n",
        "len(word_index)"
      ],
      "metadata": {
        "id": "HQG4IDik3N8_",
        "colab": {
          "base_uri": "https://localhost:8080/"
        },
        "outputId": "ab19212a-74c3-4a0c-fce6-73f93763f879"
      },
      "execution_count": 14,
      "outputs": [
        {
          "output_type": "execute_result",
          "data": {
            "text/plain": [
              "11264"
            ]
          },
          "metadata": {},
          "execution_count": 14
        }
      ]
    },
    {
      "cell_type": "code",
      "source": [
        "train_sequences = tokenizer.texts_to_sequences(X_train)\n",
        "\n",
        "valid_sequences = tokenizer.texts_to_sequences(X_valid)\n",
        "\n",
        "test_sequences = tokenizer.texts_to_sequences(X_test)\n",
        "\n",
        "X_train_padded = pad_sequences(train_sequences, maxlen=max_length, padding=padding_type, truncating=trunc_type)\n",
        "\n",
        "X_valid_padded = pad_sequences(valid_sequences, maxlen=max_length, padding=padding_type, truncating=trunc_type)\n",
        "\n",
        "X_test_padded = pad_sequences(test_sequences, maxlen=max_length, padding=padding_type, truncating=trunc_type)\n"
      ],
      "metadata": {
        "id": "Ja6uDT6euApv"
      },
      "execution_count": 15,
      "outputs": []
    },
    {
      "cell_type": "markdown",
      "source": [
        "Verificando se está tudo correto"
      ],
      "metadata": {
        "id": "L0PuxAqI3yKF"
      }
    },
    {
      "cell_type": "code",
      "source": [
        "print(X_train.iloc[3])\n",
        "print(X_train_padded[3])"
      ],
      "metadata": {
        "id": "V_7u7j9SuDLG",
        "colab": {
          "base_uri": "https://localhost:8080/"
        },
        "outputId": "a26ff0c0-b794-4fec-bbf0-e50806ca9443"
      },
      "execution_count": 16,
      "outputs": [
        {
          "output_type": "stream",
          "name": "stdout",
          "text": [
            "Storm coming! #todayimloving  http://t.co/hsNULfHz8f\n",
            "[  1 310   1   8   6   7   1   0   0   0   0   0   0   0   0   0   0   0\n",
            "   0   0   0   0   0   0   0   0   0   0   0   0   0   0   0   0   0   0\n",
            "   0   0   0   0]\n"
          ]
        }
      ]
    },
    {
      "cell_type": "code",
      "source": [
        "X_train_padded.shape, X_valid_padded.shape"
      ],
      "metadata": {
        "id": "96L6KXnG7lFR",
        "colab": {
          "base_uri": "https://localhost:8080/"
        },
        "outputId": "8fe0cd76-5886-4832-a643-3c1a1525c763"
      },
      "execution_count": 17,
      "outputs": [
        {
          "output_type": "execute_result",
          "data": {
            "text/plain": [
              "((3053, 40), (764, 40))"
            ]
          },
          "metadata": {},
          "execution_count": 17
        }
      ]
    },
    {
      "cell_type": "code",
      "source": [
        "y_train = to_categorical(y_train)\n",
        "y_valid = to_categorical(y_valid)\n",
        "#y_test = to_categorical(y_test)"
      ],
      "metadata": {
        "id": "GAT6NTdpuRDm"
      },
      "execution_count": 18,
      "outputs": []
    },
    {
      "cell_type": "markdown",
      "source": [
        "Segue o modelo LSTM"
      ],
      "metadata": {
        "id": "PUMbZxfTtROx"
      }
    },
    {
      "cell_type": "code",
      "source": [
        "model = Sequential()\n",
        "model.add(Embedding(vocab_size, output_dim=max_length, input_length=max_length))\n",
        "model.add(Bidirectional(LSTM(64, return_sequences=True)))\n",
        "model.add(Dropout(0.5))\n",
        "model.add(Attention(max_length))\n",
        "model.add(Dense(2))\n",
        "model.add(Activation('sigmoid'))\n",
        "print(model.summary())\n"
      ],
      "metadata": {
        "id": "S0oQObrHtQYq",
        "colab": {
          "base_uri": "https://localhost:8080/"
        },
        "outputId": "1385a2c1-9164-46a6-df61-ce4f7d56ca63"
      },
      "execution_count": 19,
      "outputs": [
        {
          "output_type": "stream",
          "name": "stdout",
          "text": [
            "Model: \"sequential\"\n",
            "_________________________________________________________________\n",
            " Layer (type)                Output Shape              Param #   \n",
            "=================================================================\n",
            " embedding (Embedding)       (None, 40, 40)            40000     \n",
            "                                                                 \n",
            " bidirectional (Bidirectiona  (None, 40, 128)          53760     \n",
            " l)                                                              \n",
            "                                                                 \n",
            " dropout (Dropout)           (None, 40, 128)           0         \n",
            "                                                                 \n",
            " attention (Attention)       (None, 40)                26624     \n",
            "                                                                 \n",
            " dense (Dense)               (None, 2)                 82        \n",
            "                                                                 \n",
            " activation (Activation)     (None, 2)                 0         \n",
            "                                                                 \n",
            "=================================================================\n",
            "Total params: 120,466\n",
            "Trainable params: 120,466\n",
            "Non-trainable params: 0\n",
            "_________________________________________________________________\n",
            "None\n"
          ]
        }
      ]
    },
    {
      "cell_type": "code",
      "source": [
        "from tensorflow.keras.optimizers import SGD,Adam\n",
        "#sgd = SGD(learning_rate=0.05)\n",
        "#model.compile(loss='categorical_crossentropy', optimizer=sgd, metrics=['accuracy'])\n",
        "\n",
        "opt = Adam(learning_rate=0.0001, decay=1e-6)\n",
        "model.compile(\n",
        "    loss='binary_crossentropy',\n",
        "    optimizer=opt,\n",
        "    metrics=['accuracy'],\n",
        ")\n",
        "\n",
        "#model.compile(optimizer='adam',\n",
        "#                   loss=tf.keras.losses.BinaryCrossentropy(from_logits=True),\n",
        "#                   metrics=['accuracy'])"
      ],
      "metadata": {
        "id": "OL9ZvwaiudTF"
      },
      "execution_count": 20,
      "outputs": []
    },
    {
      "cell_type": "code",
      "source": [
        "model.fit(X_train_padded,y_train,validation_data=(X_valid_padded,y_valid),epochs=10,batch_size=bs)"
      ],
      "metadata": {
        "id": "YaFB_4xfugKV",
        "colab": {
          "base_uri": "https://localhost:8080/"
        },
        "outputId": "62f2291b-36a2-481b-8c25-2272fa370b9d"
      },
      "execution_count": 21,
      "outputs": [
        {
          "output_type": "stream",
          "name": "stdout",
          "text": [
            "Epoch 1/10\n",
            "96/96 [==============================] - 22s 131ms/step - loss: 0.6932 - accuracy: 0.4903 - val_loss: 0.6938 - val_accuracy: 0.4581\n",
            "Epoch 2/10\n",
            "96/96 [==============================] - 7s 72ms/step - loss: 0.6923 - accuracy: 0.5313 - val_loss: 0.6937 - val_accuracy: 0.4581\n",
            "Epoch 3/10\n",
            "96/96 [==============================] - 5s 48ms/step - loss: 0.6906 - accuracy: 0.5329 - val_loss: 0.6940 - val_accuracy: 0.4699\n",
            "Epoch 4/10\n",
            "96/96 [==============================] - 5s 47ms/step - loss: 0.6751 - accuracy: 0.5683 - val_loss: 0.6933 - val_accuracy: 0.5654\n",
            "Epoch 5/10\n",
            "96/96 [==============================] - 5s 48ms/step - loss: 0.6481 - accuracy: 0.6191 - val_loss: 0.6726 - val_accuracy: 0.5942\n",
            "Epoch 6/10\n",
            "96/96 [==============================] - 5s 47ms/step - loss: 0.6190 - accuracy: 0.6620 - val_loss: 0.6673 - val_accuracy: 0.6060\n",
            "Epoch 7/10\n",
            "96/96 [==============================] - 5s 47ms/step - loss: 0.5730 - accuracy: 0.6987 - val_loss: 0.6833 - val_accuracy: 0.6126\n",
            "Epoch 8/10\n",
            "96/96 [==============================] - 5s 47ms/step - loss: 0.5406 - accuracy: 0.7347 - val_loss: 0.6878 - val_accuracy: 0.5995\n",
            "Epoch 9/10\n",
            "96/96 [==============================] - 5s 47ms/step - loss: 0.5124 - accuracy: 0.7566 - val_loss: 0.7014 - val_accuracy: 0.6139\n",
            "Epoch 10/10\n",
            "96/96 [==============================] - 5s 47ms/step - loss: 0.4934 - accuracy: 0.7691 - val_loss: 0.7084 - val_accuracy: 0.6086\n"
          ]
        },
        {
          "output_type": "execute_result",
          "data": {
            "text/plain": [
              "<keras.callbacks.History at 0x7efbd1268750>"
            ]
          },
          "metadata": {},
          "execution_count": 21
        }
      ]
    },
    {
      "cell_type": "code",
      "source": [
        "import matplotlib.pyplot as plt\n",
        "\n",
        "def plot_graphs(history, metric):\n",
        "    plt.plot(history.history[metric])\n",
        "    plt.plot(history.history['val_'+metric], '')\n",
        "    plt.xlabel(\"Epochs\")\n",
        "    plt.ylabel(metric)\n",
        "    plt.legend([metric, 'val_'+metric])\n",
        "    plt.figure(figsize=(16, 8))\n",
        "    plt.subplot(1, 2, 1)\n",
        "    plot_graphs(history, 'accuracy')\n",
        "    plt.ylim(None, 1)\n",
        "    #plt.xticks(range(0,20))\n",
        "    plt.subplot(1, 2, 2)\n",
        "    plot_graphs(history, 'loss')\n",
        "    plt.ylim(0, None)\n",
        "    #plt.xticks(range(0,20))"
      ],
      "metadata": {
        "id": "sepT496a5MXH"
      },
      "execution_count": 22,
      "outputs": []
    },
    {
      "cell_type": "code",
      "source": [
        "# import classification_report\n",
        "from sklearn.metrics import classification_report\n",
        "\n",
        "_, test_acc = model.evaluate(X_test_padded, to_categorical(y_test), verbose=0)\n",
        "print(test_acc)\n",
        "\n",
        "y_pred = model.predict(X_test_padded, batch_size=bs, verbose=2)\n",
        "\n",
        "# get the class with highest probability for each sample\n",
        "y_pred = np.argmax(y_pred, axis=-1)\n",
        "\n",
        "# get the classification report\n",
        "print(classification_report(y_test, y_pred))"
      ],
      "metadata": {
        "id": "p1aVfStSvph6",
        "colab": {
          "base_uri": "https://localhost:8080/"
        },
        "outputId": "ba6797dd-81ca-4ecd-fabc-3fc98fdd45a7"
      },
      "execution_count": 23,
      "outputs": [
        {
          "output_type": "stream",
          "name": "stdout",
          "text": [
            "0.6492347121238708\n",
            "25/25 - 1s - 1s/epoch - 46ms/step\n",
            "              precision    recall  f1-score   support\n",
            "\n",
            "           0       0.71      0.70      0.71       473\n",
            "           1       0.56      0.58      0.57       311\n",
            "\n",
            "    accuracy                           0.65       784\n",
            "   macro avg       0.64      0.64      0.64       784\n",
            "weighted avg       0.65      0.65      0.65       784\n",
            "\n"
          ]
        }
      ]
    }
  ]
}