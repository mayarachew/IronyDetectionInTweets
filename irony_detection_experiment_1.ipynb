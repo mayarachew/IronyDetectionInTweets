{
  "nbformat": 4,
  "nbformat_minor": 0,
  "metadata": {
    "colab": {
      "name": "irony_detection_experiment_1.ipynb",
      "provenance": [],
      "collapsed_sections": [
        "Lw4PSWsmSL3e",
        "FLCiHXTJSQsD",
        "ePkf1I-gSUoU",
        "X671XcdFIe6B",
        "mPbEkoXg46tZ",
        "alc4gj9MjFOf"
      ],
      "authorship_tag": "ABX9TyPq1LURlVWUIsgc97lLf+in",
      "include_colab_link": true
    },
    "kernelspec": {
      "name": "python3",
      "display_name": "Python 3"
    },
    "language_info": {
      "name": "python"
    }
  },
  "cells": [
    {
      "cell_type": "markdown",
      "metadata": {
        "id": "view-in-github",
        "colab_type": "text"
      },
      "source": [
        "<a href=\"https://colab.research.google.com/github/mayarachew/IronyDetectionInTweets/blob/main/irony_detection_experiment_1.ipynb\" target=\"_parent\"><img src=\"https://colab.research.google.com/assets/colab-badge.svg\" alt=\"Open In Colab\"/></a>"
      ]
    },
    {
      "cell_type": "markdown",
      "metadata": {
        "id": "Lw4PSWsmSL3e"
      },
      "source": [
        "# Imports"
      ]
    },
    {
      "cell_type": "code",
      "metadata": {
        "id": "wK_Q5jIiR1zT",
        "colab": {
          "base_uri": "https://localhost:8080/"
        },
        "outputId": "f097a54d-414e-464c-bf72-353d8508541f"
      },
      "source": [
        "# Dataset\n",
        "from sklearn.datasets import fetch_20newsgroups\n",
        "\n",
        "from pprint import pprint\n",
        "import pandas as pd\n",
        "import numpy as np\n",
        "import matplotlib.pyplot as plt\n",
        "\n",
        "# Vectorizing and spliting\n",
        "from sklearn.feature_extraction.text import TfidfVectorizer\n",
        "from gensim.models import Word2Vec\n",
        "from gensim.models.doc2vec import Doc2Vec, TaggedDocument\n",
        "from sklearn.model_selection import KFold\n",
        "from sklearn.model_selection import GridSearchCV\n",
        "\n",
        "# Classifications\n",
        "from sklearn.svm import SVC\n",
        "from sklearn.model_selection import train_test_split\n",
        "from sklearn.metrics import classification_report\n",
        "\n",
        "# Confusion matrix\n",
        "from sklearn.metrics import confusion_matrix\n",
        "from sklearn.metrics import plot_confusion_matrix\n",
        "\n",
        "# Preprocessing\n",
        "import re, string\n",
        "import nltk\n",
        "from nltk.tokenize.treebank import TreebankWordDetokenizer\n",
        "from nltk.stem import LancasterStemmer, WordNetLemmatizer\n",
        "from nltk.corpus import stopwords \n",
        "from nltk.tokenize import TweetTokenizer\n",
        "nltk.download('punkt')\n",
        "from sklearn.preprocessing import MinMaxScaler\n",
        "\n",
        "import time\n",
        "from tqdm import tqdm\n",
        "import warnings\n",
        "warnings.filterwarnings(\"ignore\")\n",
        "\n",
        "# Classification\n",
        "from sklearn.naive_bayes import MultinomialNB\n",
        "from sklearn.ensemble import RandomForestClassifier\n",
        "from sklearn.svm import SVC\n",
        "from sklearn.metrics import classification_report\n",
        "\n",
        "# Test hyperparameters\n",
        "from sklearn.model_selection import RandomizedSearchCV\n",
        "\n",
        "# Confusion matrix\n",
        "from sklearn.metrics import confusion_matrix, ConfusionMatrixDisplay"
      ],
      "execution_count": 2,
      "outputs": [
        {
          "output_type": "stream",
          "name": "stdout",
          "text": [
            "[nltk_data] Downloading package punkt to /root/nltk_data...\n",
            "[nltk_data]   Package punkt is already up-to-date!\n"
          ]
        }
      ]
    },
    {
      "cell_type": "markdown",
      "metadata": {
        "id": "FLCiHXTJSQsD"
      },
      "source": [
        "# Read files"
      ]
    },
    {
      "cell_type": "code",
      "source": [
        "def read_files(file_path):\n",
        "  print()\n",
        "  print(file_path)\n",
        "\n",
        "  # Read tweets\n",
        "  df = pd.read_csv(file_path, encoding='utf8', sep='\\t')\n",
        "  \n",
        "  # Remove 'Tweet index' column\n",
        "  df = df.iloc[: , 1:]\n",
        "\n",
        "  # Drop rows with nan values\n",
        "  df = df.dropna()\n",
        "\n",
        "  # Print (rows, columns) without nan values\n",
        "  print('Shape:', df.shape)\n",
        "\n",
        "  # Print head of data\n",
        "  print(df.head())\n",
        "\n",
        "  # Find labels (columns)\n",
        "  labels = df['Label'].unique()\n",
        "\n",
        "  # Print labels\n",
        "  print('Labels:', labels) \n",
        "\n",
        "  return df"
      ],
      "metadata": {
        "id": "dpIvPP92T0Y3"
      },
      "execution_count": null,
      "outputs": []
    },
    {
      "cell_type": "code",
      "source": [
        "tweets_train_df = read_files('SemEval2018-T3-train-taskA.txt')\n",
        "tweets_emoji_df = read_files('SemEval2018-T3-train-taskA_emoji.txt')\n",
        "tweets_emoji_irony_df = read_files('SemEval2018-T3-train-taskA_emoji_ironyHashtags.txt')\n",
        "\n",
        "tweets_test_df = read_files('SemEval2018-T3_gold_test_taskA_emoji.txt')"
      ],
      "metadata": {
        "colab": {
          "base_uri": "https://localhost:8080/"
        },
        "id": "QzToQD5fUbjF",
        "outputId": "d0f7496b-933e-4107-ed39-91d115940175"
      },
      "execution_count": null,
      "outputs": [
        {
          "output_type": "stream",
          "name": "stdout",
          "text": [
            "\n",
            "SemEval2018-T3-train-taskA.txt\n",
            "Shape: (2442, 2)\n",
            "                                          Tweet text  Label\n",
            "0                                     Beautiful day       1\n",
            "1  @Moose_eBooks You seriously bought a giant TV ...      0\n",
            "2  @NewDay: .@JebBush considering a run for the @...      1\n",
            "3   a bad game last night. Way to go Packers! htt...      0\n",
            "4  But @DarklightDave was trying to find us, and ...      1\n",
            "Labels: [1 0]\n",
            "\n",
            "SemEval2018-T3-train-taskA_emoji.txt\n",
            "Shape: (3053, 2)\n",
            "                                          Tweet text  Label\n",
            "0  Ummm can I please have @KipMooreMusic for Chri...      0\n",
            "1                @TorteDeLini I'll check it out. :-)      0\n",
            "2  I hate when random people get in the hot tub w...      1\n",
            "3  Storm coming! #todayimloving  http://t.co/hsNU...      1\n",
            "4        Today is already shaping up to be fabulous       1\n",
            "Labels: [0 1]\n",
            "\n",
            "SemEval2018-T3-train-taskA_emoji_ironyHashtags.txt\n",
            "Shape: (3053, 2)\n",
            "                                          Tweet text  Label\n",
            "0  Ummm can I please have @KipMooreMusic for Chri...      0\n",
            "1                @TorteDeLini I'll check it out. :-)      0\n",
            "2  I hate when random people get in the hot tub w...      1\n",
            "3  Storm coming! #todayimloving #not http://t.co/...      1\n",
            "4  Today is already shaping up to be fabulous #sa...      1\n",
            "Labels: [0 1]\n",
            "\n",
            "SemEval2018-T3_gold_test_taskA_emoji.txt\n",
            "Shape: (784, 2)\n",
            "   Label                                         Tweet text\n",
            "0      0  @Callisto1947 Can U Help?||More conservatives ...\n",
            "1      1  Just walked in to #Starbucks and asked for a \"...\n",
            "2      0              #NOT GONNA WIN http://t.co/Mc9ebqjAqj\n",
            "3      0  @mickymantell He is exactly that sort of perso...\n",
            "4      1  So much #sarcasm at work mate 10/10 #boring 10...\n",
            "Labels: [0 1]\n"
          ]
        }
      ]
    },
    {
      "cell_type": "markdown",
      "metadata": {
        "id": "ePkf1I-gSUoU"
      },
      "source": [
        "# Preprocessing"
      ]
    },
    {
      "cell_type": "code",
      "metadata": {
        "id": "-PpDU5LFMKaU"
      },
      "source": [
        "def preprocessing(tweets, stop_words):\n",
        "  # Remove links\n",
        "  tweets['Tweet text'] = tweets['Tweet text'].str.replace(\n",
        "      \"\\S*https?:\\S*\", \"\", regex=True\n",
        "  )\n",
        "\n",
        "  # Remove mentions\n",
        "  tweets['Tweet text'] = tweets['Tweet text'].str.replace(\n",
        "      \"@[^ ]*\", \"\", regex=True\n",
        "  )\n",
        "\n",
        "  # Convert to lower case\n",
        "  tweets['Tweet text'] = tweets['Tweet text'].str.lower()\n",
        "\n",
        "  # Remove stopwords\n",
        "  tweets['Tweet text'] = tweets['Tweet text'].apply(\n",
        "      lambda x: \" \".join(\n",
        "          [word for word in str(x).split() if word not in (stop_words)]\n",
        "      )\n",
        "  )\n",
        "\n",
        "  # Remove spaces x2\n",
        "  tweets['Tweet text'] = tweets['Tweet text'].str.replace(\n",
        "      \"[ ]{2,}\", \"\", regex=True\n",
        "  )\n",
        "\n",
        "  print(tweets['Tweet text'].head())\n",
        "\n",
        "  return tweets"
      ],
      "execution_count": null,
      "outputs": []
    },
    {
      "cell_type": "code",
      "source": [
        "nltk.download('stopwords')\n",
        "stop_words = set(stopwords.words(\"english\"))\n",
        "\n",
        "print('\\ntweets_train_df_pp')\n",
        "tweets_train_df_pp = preprocessing(tweets_train_df,stop_words)\n",
        "print('\\ntweets_emoji_df_pp')\n",
        "tweets_emoji_df_pp = preprocessing(tweets_emoji_df,stop_words)\n",
        "print('\\ntweets_emoji_irony_df_pp')\n",
        "tweets_emoji_irony_df_pp = preprocessing(tweets_emoji_irony_df,stop_words)\n",
        "\n",
        "print('\\ntweets_test_df_pp')\n",
        "tweets_test_df_pp = preprocessing(tweets_test_df,stop_words)"
      ],
      "metadata": {
        "colab": {
          "base_uri": "https://localhost:8080/"
        },
        "id": "W6wTN310QqLM",
        "outputId": "2df6b08b-7498-4b2a-86e3-d6a95d952956"
      },
      "execution_count": null,
      "outputs": [
        {
          "output_type": "stream",
          "name": "stdout",
          "text": [
            "[nltk_data] Downloading package stopwords to /root/nltk_data...\n",
            "[nltk_data]   Package stopwords is already up-to-date!\n",
            "\n",
            "tweets_train_df_pp\n",
            "0                                        beautiful day\n",
            "1                  seriously bought giant tv play box?\n",
            "2             . considering run #5things <shocking> <>\n",
            "3                 bad game last night. way go packers!\n",
            "4    trying find us, battery died. guess found us? ...\n",
            "Name: Tweet text, dtype: object\n",
            "\n",
            "tweets_emoji_df_pp\n",
            "0    ummm please christmas?! dang looks great tonig...\n",
            "1                                  i'll check out. :-)\n",
            "2            hate random people get hot tub #favthings\n",
            "3                         storm coming! #todayimloving\n",
            "4                       today already shaping fabulous\n",
            "Name: Tweet text, dtype: object\n",
            "\n",
            "tweets_emoji_irony_df_pp\n",
            "0    ummm please christmas?! dang looks great tonig...\n",
            "1                                  i'll check out. :-)\n",
            "2       hate random people get hot tub #favthings #not\n",
            "3                    storm coming! #todayimloving #not\n",
            "4              today already shaping fabulous #sarcasm\n",
            "Name: Tweet text, dtype: object\n",
            "\n",
            "tweets_test_df_pp\n",
            "0    u help?||more conservatives needed #tsu + get ...\n",
            "1    walked #starbucks asked \"tall blonde\" hahahaha...\n",
            "2                                       #not gonna win\n",
            "3                         exactly sort person. weirdo!\n",
            "4    much #sarcasm work mate 10/10 #boring 100% #de...\n",
            "Name: Tweet text, dtype: object\n"
          ]
        }
      ]
    },
    {
      "cell_type": "markdown",
      "metadata": {
        "id": "X671XcdFIe6B"
      },
      "source": [
        "# TF-IDF"
      ]
    },
    {
      "cell_type": "code",
      "source": [
        "def apply_tfidf(X):\n",
        "  # Convert data into a matrix of TF-IDF features\n",
        "  vectorizer = TfidfVectorizer(norm=\"l1\")\n",
        "  features = vectorizer.fit_transform(X)\n",
        "  X_tfidf = pd.DataFrame(features.todense(), columns=vectorizer.get_feature_names())\n",
        "  \n",
        "  return X_tfidf"
      ],
      "metadata": {
        "id": "9_rrF-fAVqhl"
      },
      "execution_count": null,
      "outputs": []
    },
    {
      "cell_type": "code",
      "source": [
        "rows_tweets_train = len(tweets_train_df_pp['Tweet text'])\n",
        "rows_tweets_emoji_train = len(tweets_emoji_df_pp['Tweet text'])\n",
        "rows_tweets_emojy_irony_train = len(tweets_emoji_irony_df_pp['Tweet text'])\n",
        "\n",
        "rows_tweets_test = len(tweets_test_df_pp['Tweet text'])"
      ],
      "metadata": {
        "id": "OSKNO5HS6ard"
      },
      "execution_count": null,
      "outputs": []
    },
    {
      "cell_type": "code",
      "source": [
        "X = tweets_train_df_pp['Tweet text'].append(tweets_emoji_df_pp['Tweet text']).append(tweets_emoji_irony_df_pp['Tweet text']).append(tweets_test_df_pp['Tweet text'])\n",
        "X_tfidf = apply_tfidf(X)\n",
        "\n",
        "X_tfidf.shape"
      ],
      "metadata": {
        "id": "PdABR9CxV6K9",
        "colab": {
          "base_uri": "https://localhost:8080/"
        },
        "outputId": "db8f2c37-e14c-4a76-adf7-03d5b36a4d51"
      },
      "execution_count": null,
      "outputs": [
        {
          "output_type": "execute_result",
          "data": {
            "text/plain": [
              "(9332, 9967)"
            ]
          },
          "metadata": {},
          "execution_count": 37
        }
      ]
    },
    {
      "cell_type": "code",
      "source": [
        "# Get len\n",
        "rows_tweets_train = len(tweets_train_df_pp['Tweet text'])\n",
        "rows_tweets_emoji_train = len(tweets_emoji_df_pp['Tweet text'])\n",
        "rows_tweets_emojy_irony_train = len(tweets_emoji_irony_df_pp['Tweet text'])\n",
        "\n",
        "rows_tweets_test = len(tweets_test_df_pp['Tweet text'])\n",
        "\n",
        "# Divide tfidf\n",
        "X_tfidf_train = X_tfidf[:rows_tweets_train]\n",
        "X_tfidf.drop(X_tfidf.index[:rows_tweets_train])\n",
        "\n",
        "X_tfidf_emoji_train = X_tfidf[:rows_tweets_emoji_train]\n",
        "X_tfidf.drop(X_tfidf.index[:rows_tweets_emoji_train])\n",
        "\n",
        "X_tfidf_emoji_irony_train = X_tfidf[:rows_tweets_emojy_irony_train]\n",
        "X_tfidf.drop(X_tfidf.index[:rows_tweets_emojy_irony_train])\n",
        "\n",
        "X_tfidf_test = X_tfidf[:rows_tweets_test]\n",
        "X_tfidf.drop(X_tfidf.index[:rows_tweets_test])"
      ],
      "metadata": {
        "colab": {
          "base_uri": "https://localhost:8080/",
          "height": 678
        },
        "id": "gEV_egNF7GkM",
        "outputId": "efa01d17-3fe7-4112-d865-49d956052d85"
      },
      "execution_count": null,
      "outputs": [
        {
          "output_type": "execute_result",
          "data": {
            "text/html": [
              "\n",
              "  <div id=\"df-c2c600ec-a556-4ec3-b2c0-4bdd39e4d894\">\n",
              "    <div class=\"colab-df-container\">\n",
              "      <div>\n",
              "<style scoped>\n",
              "    .dataframe tbody tr th:only-of-type {\n",
              "        vertical-align: middle;\n",
              "    }\n",
              "\n",
              "    .dataframe tbody tr th {\n",
              "        vertical-align: top;\n",
              "    }\n",
              "\n",
              "    .dataframe thead th {\n",
              "        text-align: right;\n",
              "    }\n",
              "</style>\n",
              "<table border=\"1\" class=\"dataframe\">\n",
              "  <thead>\n",
              "    <tr style=\"text-align: right;\">\n",
              "      <th></th>\n",
              "      <th>00</th>\n",
              "      <th>000</th>\n",
              "      <th>01273276865</th>\n",
              "      <th>01am</th>\n",
              "      <th>02</th>\n",
              "      <th>034i</th>\n",
              "      <th>04</th>\n",
              "      <th>07</th>\n",
              "      <th>08</th>\n",
              "      <th>09</th>\n",
              "      <th>0_0</th>\n",
              "      <th>10</th>\n",
              "      <th>100</th>\n",
              "      <th>1000</th>\n",
              "      <th>1000000x</th>\n",
              "      <th>1000sms</th>\n",
              "      <th>100k</th>\n",
              "      <th>102</th>\n",
              "      <th>103</th>\n",
              "      <th>10k</th>\n",
              "      <th>11</th>\n",
              "      <th>110km</th>\n",
              "      <th>11am</th>\n",
              "      <th>12</th>\n",
              "      <th>120</th>\n",
              "      <th>123</th>\n",
              "      <th>127</th>\n",
              "      <th>12daysofchristmassweaterscontest</th>\n",
              "      <th>12p</th>\n",
              "      <th>12s</th>\n",
              "      <th>13</th>\n",
              "      <th>130</th>\n",
              "      <th>130km</th>\n",
              "      <th>136k</th>\n",
              "      <th>13cabs</th>\n",
              "      <th>14</th>\n",
              "      <th>140</th>\n",
              "      <th>1494</th>\n",
              "      <th>15</th>\n",
              "      <th>150</th>\n",
              "      <th>...</th>\n",
              "      <th>youspinmeround</th>\n",
              "      <th>yousufzai</th>\n",
              "      <th>youtube</th>\n",
              "      <th>youu</th>\n",
              "      <th>youve</th>\n",
              "      <th>yr</th>\n",
              "      <th>yrs</th>\n",
              "      <th>yu</th>\n",
              "      <th>yuk</th>\n",
              "      <th>yun</th>\n",
              "      <th>yung</th>\n",
              "      <th>yup</th>\n",
              "      <th>yups</th>\n",
              "      <th>yxe</th>\n",
              "      <th>yyj</th>\n",
              "      <th>zach</th>\n",
              "      <th>zayn</th>\n",
              "      <th>zealand</th>\n",
              "      <th>zebras</th>\n",
              "      <th>zeeginganinja</th>\n",
              "      <th>zemirbegic</th>\n",
              "      <th>zero</th>\n",
              "      <th>zimbabwe</th>\n",
              "      <th>zing</th>\n",
              "      <th>zionist</th>\n",
              "      <th>zipper</th>\n",
              "      <th>zoella</th>\n",
              "      <th>zoloft</th>\n",
              "      <th>zone</th>\n",
              "      <th>zuckerberg</th>\n",
              "      <th>zuma</th>\n",
              "      <th>zzzz</th>\n",
              "      <th>zzzzzzz</th>\n",
              "      <th>ëœå</th>\n",
              "      <th>ícias</th>\n",
              "      <th>งวย</th>\n",
              "      <th>⁰perfection</th>\n",
              "      <th>⁰you</th>\n",
              "      <th>你就算5隔格我都知你讲me</th>\n",
              "      <th>ｆｏｌｌｏｗ</th>\n",
              "    </tr>\n",
              "  </thead>\n",
              "  <tbody>\n",
              "    <tr>\n",
              "      <th>784</th>\n",
              "      <td>0.0</td>\n",
              "      <td>0.0</td>\n",
              "      <td>0.0</td>\n",
              "      <td>0.0</td>\n",
              "      <td>0.0</td>\n",
              "      <td>0.0</td>\n",
              "      <td>0.0</td>\n",
              "      <td>0.0</td>\n",
              "      <td>0.0</td>\n",
              "      <td>0.0</td>\n",
              "      <td>0.0</td>\n",
              "      <td>0.0</td>\n",
              "      <td>0.0</td>\n",
              "      <td>0.0</td>\n",
              "      <td>0.0</td>\n",
              "      <td>0.0</td>\n",
              "      <td>0.0</td>\n",
              "      <td>0.0</td>\n",
              "      <td>0.0</td>\n",
              "      <td>0.0</td>\n",
              "      <td>0.0</td>\n",
              "      <td>0.0</td>\n",
              "      <td>0.0</td>\n",
              "      <td>0.0</td>\n",
              "      <td>0.0</td>\n",
              "      <td>0.0</td>\n",
              "      <td>0.0</td>\n",
              "      <td>0.0</td>\n",
              "      <td>0.0</td>\n",
              "      <td>0.0</td>\n",
              "      <td>0.0</td>\n",
              "      <td>0.0</td>\n",
              "      <td>0.0</td>\n",
              "      <td>0.0</td>\n",
              "      <td>0.0</td>\n",
              "      <td>0.0</td>\n",
              "      <td>0.0</td>\n",
              "      <td>0.0</td>\n",
              "      <td>0.0</td>\n",
              "      <td>0.0</td>\n",
              "      <td>...</td>\n",
              "      <td>0.0</td>\n",
              "      <td>0.0</td>\n",
              "      <td>0.0</td>\n",
              "      <td>0.0</td>\n",
              "      <td>0.0</td>\n",
              "      <td>0.0</td>\n",
              "      <td>0.0</td>\n",
              "      <td>0.0</td>\n",
              "      <td>0.0</td>\n",
              "      <td>0.0</td>\n",
              "      <td>0.0</td>\n",
              "      <td>0.0</td>\n",
              "      <td>0.0</td>\n",
              "      <td>0.0</td>\n",
              "      <td>0.0</td>\n",
              "      <td>0.0</td>\n",
              "      <td>0.0</td>\n",
              "      <td>0.0</td>\n",
              "      <td>0.0</td>\n",
              "      <td>0.0</td>\n",
              "      <td>0.0</td>\n",
              "      <td>0.0</td>\n",
              "      <td>0.0</td>\n",
              "      <td>0.0</td>\n",
              "      <td>0.0</td>\n",
              "      <td>0.0</td>\n",
              "      <td>0.0</td>\n",
              "      <td>0.0</td>\n",
              "      <td>0.0</td>\n",
              "      <td>0.0</td>\n",
              "      <td>0.0</td>\n",
              "      <td>0.0</td>\n",
              "      <td>0.0</td>\n",
              "      <td>0.0</td>\n",
              "      <td>0.0</td>\n",
              "      <td>0.0</td>\n",
              "      <td>0.0</td>\n",
              "      <td>0.0</td>\n",
              "      <td>0.0</td>\n",
              "      <td>0.0</td>\n",
              "    </tr>\n",
              "    <tr>\n",
              "      <th>785</th>\n",
              "      <td>0.0</td>\n",
              "      <td>0.0</td>\n",
              "      <td>0.0</td>\n",
              "      <td>0.0</td>\n",
              "      <td>0.0</td>\n",
              "      <td>0.0</td>\n",
              "      <td>0.0</td>\n",
              "      <td>0.0</td>\n",
              "      <td>0.0</td>\n",
              "      <td>0.0</td>\n",
              "      <td>0.0</td>\n",
              "      <td>0.0</td>\n",
              "      <td>0.0</td>\n",
              "      <td>0.0</td>\n",
              "      <td>0.0</td>\n",
              "      <td>0.0</td>\n",
              "      <td>0.0</td>\n",
              "      <td>0.0</td>\n",
              "      <td>0.0</td>\n",
              "      <td>0.0</td>\n",
              "      <td>0.0</td>\n",
              "      <td>0.0</td>\n",
              "      <td>0.0</td>\n",
              "      <td>0.0</td>\n",
              "      <td>0.0</td>\n",
              "      <td>0.0</td>\n",
              "      <td>0.0</td>\n",
              "      <td>0.0</td>\n",
              "      <td>0.0</td>\n",
              "      <td>0.0</td>\n",
              "      <td>0.0</td>\n",
              "      <td>0.0</td>\n",
              "      <td>0.0</td>\n",
              "      <td>0.0</td>\n",
              "      <td>0.0</td>\n",
              "      <td>0.0</td>\n",
              "      <td>0.0</td>\n",
              "      <td>0.0</td>\n",
              "      <td>0.0</td>\n",
              "      <td>0.0</td>\n",
              "      <td>...</td>\n",
              "      <td>0.0</td>\n",
              "      <td>0.0</td>\n",
              "      <td>0.0</td>\n",
              "      <td>0.0</td>\n",
              "      <td>0.0</td>\n",
              "      <td>0.0</td>\n",
              "      <td>0.0</td>\n",
              "      <td>0.0</td>\n",
              "      <td>0.0</td>\n",
              "      <td>0.0</td>\n",
              "      <td>0.0</td>\n",
              "      <td>0.0</td>\n",
              "      <td>0.0</td>\n",
              "      <td>0.0</td>\n",
              "      <td>0.0</td>\n",
              "      <td>0.0</td>\n",
              "      <td>0.0</td>\n",
              "      <td>0.0</td>\n",
              "      <td>0.0</td>\n",
              "      <td>0.0</td>\n",
              "      <td>0.0</td>\n",
              "      <td>0.0</td>\n",
              "      <td>0.0</td>\n",
              "      <td>0.0</td>\n",
              "      <td>0.0</td>\n",
              "      <td>0.0</td>\n",
              "      <td>0.0</td>\n",
              "      <td>0.0</td>\n",
              "      <td>0.0</td>\n",
              "      <td>0.0</td>\n",
              "      <td>0.0</td>\n",
              "      <td>0.0</td>\n",
              "      <td>0.0</td>\n",
              "      <td>0.0</td>\n",
              "      <td>0.0</td>\n",
              "      <td>0.0</td>\n",
              "      <td>0.0</td>\n",
              "      <td>0.0</td>\n",
              "      <td>0.0</td>\n",
              "      <td>0.0</td>\n",
              "    </tr>\n",
              "    <tr>\n",
              "      <th>786</th>\n",
              "      <td>0.0</td>\n",
              "      <td>0.0</td>\n",
              "      <td>0.0</td>\n",
              "      <td>0.0</td>\n",
              "      <td>0.0</td>\n",
              "      <td>0.0</td>\n",
              "      <td>0.0</td>\n",
              "      <td>0.0</td>\n",
              "      <td>0.0</td>\n",
              "      <td>0.0</td>\n",
              "      <td>0.0</td>\n",
              "      <td>0.0</td>\n",
              "      <td>0.0</td>\n",
              "      <td>0.0</td>\n",
              "      <td>0.0</td>\n",
              "      <td>0.0</td>\n",
              "      <td>0.0</td>\n",
              "      <td>0.0</td>\n",
              "      <td>0.0</td>\n",
              "      <td>0.0</td>\n",
              "      <td>0.0</td>\n",
              "      <td>0.0</td>\n",
              "      <td>0.0</td>\n",
              "      <td>0.0</td>\n",
              "      <td>0.0</td>\n",
              "      <td>0.0</td>\n",
              "      <td>0.0</td>\n",
              "      <td>0.0</td>\n",
              "      <td>0.0</td>\n",
              "      <td>0.0</td>\n",
              "      <td>0.0</td>\n",
              "      <td>0.0</td>\n",
              "      <td>0.0</td>\n",
              "      <td>0.0</td>\n",
              "      <td>0.0</td>\n",
              "      <td>0.0</td>\n",
              "      <td>0.0</td>\n",
              "      <td>0.0</td>\n",
              "      <td>0.0</td>\n",
              "      <td>0.0</td>\n",
              "      <td>...</td>\n",
              "      <td>0.0</td>\n",
              "      <td>0.0</td>\n",
              "      <td>0.0</td>\n",
              "      <td>0.0</td>\n",
              "      <td>0.0</td>\n",
              "      <td>0.0</td>\n",
              "      <td>0.0</td>\n",
              "      <td>0.0</td>\n",
              "      <td>0.0</td>\n",
              "      <td>0.0</td>\n",
              "      <td>0.0</td>\n",
              "      <td>0.0</td>\n",
              "      <td>0.0</td>\n",
              "      <td>0.0</td>\n",
              "      <td>0.0</td>\n",
              "      <td>0.0</td>\n",
              "      <td>0.0</td>\n",
              "      <td>0.0</td>\n",
              "      <td>0.0</td>\n",
              "      <td>0.0</td>\n",
              "      <td>0.0</td>\n",
              "      <td>0.0</td>\n",
              "      <td>0.0</td>\n",
              "      <td>0.0</td>\n",
              "      <td>0.0</td>\n",
              "      <td>0.0</td>\n",
              "      <td>0.0</td>\n",
              "      <td>0.0</td>\n",
              "      <td>0.0</td>\n",
              "      <td>0.0</td>\n",
              "      <td>0.0</td>\n",
              "      <td>0.0</td>\n",
              "      <td>0.0</td>\n",
              "      <td>0.0</td>\n",
              "      <td>0.0</td>\n",
              "      <td>0.0</td>\n",
              "      <td>0.0</td>\n",
              "      <td>0.0</td>\n",
              "      <td>0.0</td>\n",
              "      <td>0.0</td>\n",
              "    </tr>\n",
              "    <tr>\n",
              "      <th>787</th>\n",
              "      <td>0.0</td>\n",
              "      <td>0.0</td>\n",
              "      <td>0.0</td>\n",
              "      <td>0.0</td>\n",
              "      <td>0.0</td>\n",
              "      <td>0.0</td>\n",
              "      <td>0.0</td>\n",
              "      <td>0.0</td>\n",
              "      <td>0.0</td>\n",
              "      <td>0.0</td>\n",
              "      <td>0.0</td>\n",
              "      <td>0.0</td>\n",
              "      <td>0.0</td>\n",
              "      <td>0.0</td>\n",
              "      <td>0.0</td>\n",
              "      <td>0.0</td>\n",
              "      <td>0.0</td>\n",
              "      <td>0.0</td>\n",
              "      <td>0.0</td>\n",
              "      <td>0.0</td>\n",
              "      <td>0.0</td>\n",
              "      <td>0.0</td>\n",
              "      <td>0.0</td>\n",
              "      <td>0.0</td>\n",
              "      <td>0.0</td>\n",
              "      <td>0.0</td>\n",
              "      <td>0.0</td>\n",
              "      <td>0.0</td>\n",
              "      <td>0.0</td>\n",
              "      <td>0.0</td>\n",
              "      <td>0.0</td>\n",
              "      <td>0.0</td>\n",
              "      <td>0.0</td>\n",
              "      <td>0.0</td>\n",
              "      <td>0.0</td>\n",
              "      <td>0.0</td>\n",
              "      <td>0.0</td>\n",
              "      <td>0.0</td>\n",
              "      <td>0.0</td>\n",
              "      <td>0.0</td>\n",
              "      <td>...</td>\n",
              "      <td>0.0</td>\n",
              "      <td>0.0</td>\n",
              "      <td>0.0</td>\n",
              "      <td>0.0</td>\n",
              "      <td>0.0</td>\n",
              "      <td>0.0</td>\n",
              "      <td>0.0</td>\n",
              "      <td>0.0</td>\n",
              "      <td>0.0</td>\n",
              "      <td>0.0</td>\n",
              "      <td>0.0</td>\n",
              "      <td>0.0</td>\n",
              "      <td>0.0</td>\n",
              "      <td>0.0</td>\n",
              "      <td>0.0</td>\n",
              "      <td>0.0</td>\n",
              "      <td>0.0</td>\n",
              "      <td>0.0</td>\n",
              "      <td>0.0</td>\n",
              "      <td>0.0</td>\n",
              "      <td>0.0</td>\n",
              "      <td>0.0</td>\n",
              "      <td>0.0</td>\n",
              "      <td>0.0</td>\n",
              "      <td>0.0</td>\n",
              "      <td>0.0</td>\n",
              "      <td>0.0</td>\n",
              "      <td>0.0</td>\n",
              "      <td>0.0</td>\n",
              "      <td>0.0</td>\n",
              "      <td>0.0</td>\n",
              "      <td>0.0</td>\n",
              "      <td>0.0</td>\n",
              "      <td>0.0</td>\n",
              "      <td>0.0</td>\n",
              "      <td>0.0</td>\n",
              "      <td>0.0</td>\n",
              "      <td>0.0</td>\n",
              "      <td>0.0</td>\n",
              "      <td>0.0</td>\n",
              "    </tr>\n",
              "    <tr>\n",
              "      <th>788</th>\n",
              "      <td>0.0</td>\n",
              "      <td>0.0</td>\n",
              "      <td>0.0</td>\n",
              "      <td>0.0</td>\n",
              "      <td>0.0</td>\n",
              "      <td>0.0</td>\n",
              "      <td>0.0</td>\n",
              "      <td>0.0</td>\n",
              "      <td>0.0</td>\n",
              "      <td>0.0</td>\n",
              "      <td>0.0</td>\n",
              "      <td>0.0</td>\n",
              "      <td>0.0</td>\n",
              "      <td>0.0</td>\n",
              "      <td>0.0</td>\n",
              "      <td>0.0</td>\n",
              "      <td>0.0</td>\n",
              "      <td>0.0</td>\n",
              "      <td>0.0</td>\n",
              "      <td>0.0</td>\n",
              "      <td>0.0</td>\n",
              "      <td>0.0</td>\n",
              "      <td>0.0</td>\n",
              "      <td>0.0</td>\n",
              "      <td>0.0</td>\n",
              "      <td>0.0</td>\n",
              "      <td>0.0</td>\n",
              "      <td>0.0</td>\n",
              "      <td>0.0</td>\n",
              "      <td>0.0</td>\n",
              "      <td>0.0</td>\n",
              "      <td>0.0</td>\n",
              "      <td>0.0</td>\n",
              "      <td>0.0</td>\n",
              "      <td>0.0</td>\n",
              "      <td>0.0</td>\n",
              "      <td>0.0</td>\n",
              "      <td>0.0</td>\n",
              "      <td>0.0</td>\n",
              "      <td>0.0</td>\n",
              "      <td>...</td>\n",
              "      <td>0.0</td>\n",
              "      <td>0.0</td>\n",
              "      <td>0.0</td>\n",
              "      <td>0.0</td>\n",
              "      <td>0.0</td>\n",
              "      <td>0.0</td>\n",
              "      <td>0.0</td>\n",
              "      <td>0.0</td>\n",
              "      <td>0.0</td>\n",
              "      <td>0.0</td>\n",
              "      <td>0.0</td>\n",
              "      <td>0.0</td>\n",
              "      <td>0.0</td>\n",
              "      <td>0.0</td>\n",
              "      <td>0.0</td>\n",
              "      <td>0.0</td>\n",
              "      <td>0.0</td>\n",
              "      <td>0.0</td>\n",
              "      <td>0.0</td>\n",
              "      <td>0.0</td>\n",
              "      <td>0.0</td>\n",
              "      <td>0.0</td>\n",
              "      <td>0.0</td>\n",
              "      <td>0.0</td>\n",
              "      <td>0.0</td>\n",
              "      <td>0.0</td>\n",
              "      <td>0.0</td>\n",
              "      <td>0.0</td>\n",
              "      <td>0.0</td>\n",
              "      <td>0.0</td>\n",
              "      <td>0.0</td>\n",
              "      <td>0.0</td>\n",
              "      <td>0.0</td>\n",
              "      <td>0.0</td>\n",
              "      <td>0.0</td>\n",
              "      <td>0.0</td>\n",
              "      <td>0.0</td>\n",
              "      <td>0.0</td>\n",
              "      <td>0.0</td>\n",
              "      <td>0.0</td>\n",
              "    </tr>\n",
              "    <tr>\n",
              "      <th>...</th>\n",
              "      <td>...</td>\n",
              "      <td>...</td>\n",
              "      <td>...</td>\n",
              "      <td>...</td>\n",
              "      <td>...</td>\n",
              "      <td>...</td>\n",
              "      <td>...</td>\n",
              "      <td>...</td>\n",
              "      <td>...</td>\n",
              "      <td>...</td>\n",
              "      <td>...</td>\n",
              "      <td>...</td>\n",
              "      <td>...</td>\n",
              "      <td>...</td>\n",
              "      <td>...</td>\n",
              "      <td>...</td>\n",
              "      <td>...</td>\n",
              "      <td>...</td>\n",
              "      <td>...</td>\n",
              "      <td>...</td>\n",
              "      <td>...</td>\n",
              "      <td>...</td>\n",
              "      <td>...</td>\n",
              "      <td>...</td>\n",
              "      <td>...</td>\n",
              "      <td>...</td>\n",
              "      <td>...</td>\n",
              "      <td>...</td>\n",
              "      <td>...</td>\n",
              "      <td>...</td>\n",
              "      <td>...</td>\n",
              "      <td>...</td>\n",
              "      <td>...</td>\n",
              "      <td>...</td>\n",
              "      <td>...</td>\n",
              "      <td>...</td>\n",
              "      <td>...</td>\n",
              "      <td>...</td>\n",
              "      <td>...</td>\n",
              "      <td>...</td>\n",
              "      <td>...</td>\n",
              "      <td>...</td>\n",
              "      <td>...</td>\n",
              "      <td>...</td>\n",
              "      <td>...</td>\n",
              "      <td>...</td>\n",
              "      <td>...</td>\n",
              "      <td>...</td>\n",
              "      <td>...</td>\n",
              "      <td>...</td>\n",
              "      <td>...</td>\n",
              "      <td>...</td>\n",
              "      <td>...</td>\n",
              "      <td>...</td>\n",
              "      <td>...</td>\n",
              "      <td>...</td>\n",
              "      <td>...</td>\n",
              "      <td>...</td>\n",
              "      <td>...</td>\n",
              "      <td>...</td>\n",
              "      <td>...</td>\n",
              "      <td>...</td>\n",
              "      <td>...</td>\n",
              "      <td>...</td>\n",
              "      <td>...</td>\n",
              "      <td>...</td>\n",
              "      <td>...</td>\n",
              "      <td>...</td>\n",
              "      <td>...</td>\n",
              "      <td>...</td>\n",
              "      <td>...</td>\n",
              "      <td>...</td>\n",
              "      <td>...</td>\n",
              "      <td>...</td>\n",
              "      <td>...</td>\n",
              "      <td>...</td>\n",
              "      <td>...</td>\n",
              "      <td>...</td>\n",
              "      <td>...</td>\n",
              "      <td>...</td>\n",
              "      <td>...</td>\n",
              "    </tr>\n",
              "    <tr>\n",
              "      <th>9327</th>\n",
              "      <td>0.0</td>\n",
              "      <td>0.0</td>\n",
              "      <td>0.0</td>\n",
              "      <td>0.0</td>\n",
              "      <td>0.0</td>\n",
              "      <td>0.0</td>\n",
              "      <td>0.0</td>\n",
              "      <td>0.0</td>\n",
              "      <td>0.0</td>\n",
              "      <td>0.0</td>\n",
              "      <td>0.0</td>\n",
              "      <td>0.0</td>\n",
              "      <td>0.0</td>\n",
              "      <td>0.0</td>\n",
              "      <td>0.0</td>\n",
              "      <td>0.0</td>\n",
              "      <td>0.0</td>\n",
              "      <td>0.0</td>\n",
              "      <td>0.0</td>\n",
              "      <td>0.0</td>\n",
              "      <td>0.0</td>\n",
              "      <td>0.0</td>\n",
              "      <td>0.0</td>\n",
              "      <td>0.0</td>\n",
              "      <td>0.0</td>\n",
              "      <td>0.0</td>\n",
              "      <td>0.0</td>\n",
              "      <td>0.0</td>\n",
              "      <td>0.0</td>\n",
              "      <td>0.0</td>\n",
              "      <td>0.0</td>\n",
              "      <td>0.0</td>\n",
              "      <td>0.0</td>\n",
              "      <td>0.0</td>\n",
              "      <td>0.0</td>\n",
              "      <td>0.0</td>\n",
              "      <td>0.0</td>\n",
              "      <td>0.0</td>\n",
              "      <td>0.0</td>\n",
              "      <td>0.0</td>\n",
              "      <td>...</td>\n",
              "      <td>0.0</td>\n",
              "      <td>0.0</td>\n",
              "      <td>0.0</td>\n",
              "      <td>0.0</td>\n",
              "      <td>0.0</td>\n",
              "      <td>0.0</td>\n",
              "      <td>0.0</td>\n",
              "      <td>0.0</td>\n",
              "      <td>0.0</td>\n",
              "      <td>0.0</td>\n",
              "      <td>0.0</td>\n",
              "      <td>0.0</td>\n",
              "      <td>0.0</td>\n",
              "      <td>0.0</td>\n",
              "      <td>0.0</td>\n",
              "      <td>0.0</td>\n",
              "      <td>0.0</td>\n",
              "      <td>0.0</td>\n",
              "      <td>0.0</td>\n",
              "      <td>0.0</td>\n",
              "      <td>0.0</td>\n",
              "      <td>0.0</td>\n",
              "      <td>0.0</td>\n",
              "      <td>0.0</td>\n",
              "      <td>0.0</td>\n",
              "      <td>0.0</td>\n",
              "      <td>0.0</td>\n",
              "      <td>0.0</td>\n",
              "      <td>0.0</td>\n",
              "      <td>0.0</td>\n",
              "      <td>0.0</td>\n",
              "      <td>0.0</td>\n",
              "      <td>0.0</td>\n",
              "      <td>0.0</td>\n",
              "      <td>0.0</td>\n",
              "      <td>0.0</td>\n",
              "      <td>0.0</td>\n",
              "      <td>0.0</td>\n",
              "      <td>0.0</td>\n",
              "      <td>0.0</td>\n",
              "    </tr>\n",
              "    <tr>\n",
              "      <th>9328</th>\n",
              "      <td>0.0</td>\n",
              "      <td>0.0</td>\n",
              "      <td>0.0</td>\n",
              "      <td>0.0</td>\n",
              "      <td>0.0</td>\n",
              "      <td>0.0</td>\n",
              "      <td>0.0</td>\n",
              "      <td>0.0</td>\n",
              "      <td>0.0</td>\n",
              "      <td>0.0</td>\n",
              "      <td>0.0</td>\n",
              "      <td>0.0</td>\n",
              "      <td>0.0</td>\n",
              "      <td>0.0</td>\n",
              "      <td>0.0</td>\n",
              "      <td>0.0</td>\n",
              "      <td>0.0</td>\n",
              "      <td>0.0</td>\n",
              "      <td>0.0</td>\n",
              "      <td>0.0</td>\n",
              "      <td>0.0</td>\n",
              "      <td>0.0</td>\n",
              "      <td>0.0</td>\n",
              "      <td>0.0</td>\n",
              "      <td>0.0</td>\n",
              "      <td>0.0</td>\n",
              "      <td>0.0</td>\n",
              "      <td>0.0</td>\n",
              "      <td>0.0</td>\n",
              "      <td>0.0</td>\n",
              "      <td>0.0</td>\n",
              "      <td>0.0</td>\n",
              "      <td>0.0</td>\n",
              "      <td>0.0</td>\n",
              "      <td>0.0</td>\n",
              "      <td>0.0</td>\n",
              "      <td>0.0</td>\n",
              "      <td>0.0</td>\n",
              "      <td>0.0</td>\n",
              "      <td>0.0</td>\n",
              "      <td>...</td>\n",
              "      <td>0.0</td>\n",
              "      <td>0.0</td>\n",
              "      <td>0.0</td>\n",
              "      <td>0.0</td>\n",
              "      <td>0.0</td>\n",
              "      <td>0.0</td>\n",
              "      <td>0.0</td>\n",
              "      <td>0.0</td>\n",
              "      <td>0.0</td>\n",
              "      <td>0.0</td>\n",
              "      <td>0.0</td>\n",
              "      <td>0.0</td>\n",
              "      <td>0.0</td>\n",
              "      <td>0.0</td>\n",
              "      <td>0.0</td>\n",
              "      <td>0.0</td>\n",
              "      <td>0.0</td>\n",
              "      <td>0.0</td>\n",
              "      <td>0.0</td>\n",
              "      <td>0.0</td>\n",
              "      <td>0.0</td>\n",
              "      <td>0.0</td>\n",
              "      <td>0.0</td>\n",
              "      <td>0.0</td>\n",
              "      <td>0.0</td>\n",
              "      <td>0.0</td>\n",
              "      <td>0.0</td>\n",
              "      <td>0.0</td>\n",
              "      <td>0.0</td>\n",
              "      <td>0.0</td>\n",
              "      <td>0.0</td>\n",
              "      <td>0.0</td>\n",
              "      <td>0.0</td>\n",
              "      <td>0.0</td>\n",
              "      <td>0.0</td>\n",
              "      <td>0.0</td>\n",
              "      <td>0.0</td>\n",
              "      <td>0.0</td>\n",
              "      <td>0.0</td>\n",
              "      <td>0.0</td>\n",
              "    </tr>\n",
              "    <tr>\n",
              "      <th>9329</th>\n",
              "      <td>0.0</td>\n",
              "      <td>0.0</td>\n",
              "      <td>0.0</td>\n",
              "      <td>0.0</td>\n",
              "      <td>0.0</td>\n",
              "      <td>0.0</td>\n",
              "      <td>0.0</td>\n",
              "      <td>0.0</td>\n",
              "      <td>0.0</td>\n",
              "      <td>0.0</td>\n",
              "      <td>0.0</td>\n",
              "      <td>0.0</td>\n",
              "      <td>0.0</td>\n",
              "      <td>0.0</td>\n",
              "      <td>0.0</td>\n",
              "      <td>0.0</td>\n",
              "      <td>0.0</td>\n",
              "      <td>0.0</td>\n",
              "      <td>0.0</td>\n",
              "      <td>0.0</td>\n",
              "      <td>0.0</td>\n",
              "      <td>0.0</td>\n",
              "      <td>0.0</td>\n",
              "      <td>0.0</td>\n",
              "      <td>0.0</td>\n",
              "      <td>0.0</td>\n",
              "      <td>0.0</td>\n",
              "      <td>0.0</td>\n",
              "      <td>0.0</td>\n",
              "      <td>0.0</td>\n",
              "      <td>0.0</td>\n",
              "      <td>0.0</td>\n",
              "      <td>0.0</td>\n",
              "      <td>0.0</td>\n",
              "      <td>0.0</td>\n",
              "      <td>0.0</td>\n",
              "      <td>0.0</td>\n",
              "      <td>0.0</td>\n",
              "      <td>0.0</td>\n",
              "      <td>0.0</td>\n",
              "      <td>...</td>\n",
              "      <td>0.0</td>\n",
              "      <td>0.0</td>\n",
              "      <td>0.0</td>\n",
              "      <td>0.0</td>\n",
              "      <td>0.0</td>\n",
              "      <td>0.0</td>\n",
              "      <td>0.0</td>\n",
              "      <td>0.0</td>\n",
              "      <td>0.0</td>\n",
              "      <td>0.0</td>\n",
              "      <td>0.0</td>\n",
              "      <td>0.0</td>\n",
              "      <td>0.0</td>\n",
              "      <td>0.0</td>\n",
              "      <td>0.0</td>\n",
              "      <td>0.0</td>\n",
              "      <td>0.0</td>\n",
              "      <td>0.0</td>\n",
              "      <td>0.0</td>\n",
              "      <td>0.0</td>\n",
              "      <td>0.0</td>\n",
              "      <td>0.0</td>\n",
              "      <td>0.0</td>\n",
              "      <td>0.0</td>\n",
              "      <td>0.0</td>\n",
              "      <td>0.0</td>\n",
              "      <td>0.0</td>\n",
              "      <td>0.0</td>\n",
              "      <td>0.0</td>\n",
              "      <td>0.0</td>\n",
              "      <td>0.0</td>\n",
              "      <td>0.0</td>\n",
              "      <td>0.0</td>\n",
              "      <td>0.0</td>\n",
              "      <td>0.0</td>\n",
              "      <td>0.0</td>\n",
              "      <td>0.0</td>\n",
              "      <td>0.0</td>\n",
              "      <td>0.0</td>\n",
              "      <td>0.0</td>\n",
              "    </tr>\n",
              "    <tr>\n",
              "      <th>9330</th>\n",
              "      <td>0.0</td>\n",
              "      <td>0.0</td>\n",
              "      <td>0.0</td>\n",
              "      <td>0.0</td>\n",
              "      <td>0.0</td>\n",
              "      <td>0.0</td>\n",
              "      <td>0.0</td>\n",
              "      <td>0.0</td>\n",
              "      <td>0.0</td>\n",
              "      <td>0.0</td>\n",
              "      <td>0.0</td>\n",
              "      <td>0.0</td>\n",
              "      <td>0.0</td>\n",
              "      <td>0.0</td>\n",
              "      <td>0.0</td>\n",
              "      <td>0.0</td>\n",
              "      <td>0.0</td>\n",
              "      <td>0.0</td>\n",
              "      <td>0.0</td>\n",
              "      <td>0.0</td>\n",
              "      <td>0.0</td>\n",
              "      <td>0.0</td>\n",
              "      <td>0.0</td>\n",
              "      <td>0.0</td>\n",
              "      <td>0.0</td>\n",
              "      <td>0.0</td>\n",
              "      <td>0.0</td>\n",
              "      <td>0.0</td>\n",
              "      <td>0.0</td>\n",
              "      <td>0.0</td>\n",
              "      <td>0.0</td>\n",
              "      <td>0.0</td>\n",
              "      <td>0.0</td>\n",
              "      <td>0.0</td>\n",
              "      <td>0.0</td>\n",
              "      <td>0.0</td>\n",
              "      <td>0.0</td>\n",
              "      <td>0.0</td>\n",
              "      <td>0.0</td>\n",
              "      <td>0.0</td>\n",
              "      <td>...</td>\n",
              "      <td>0.0</td>\n",
              "      <td>0.0</td>\n",
              "      <td>0.0</td>\n",
              "      <td>0.0</td>\n",
              "      <td>0.0</td>\n",
              "      <td>0.0</td>\n",
              "      <td>0.0</td>\n",
              "      <td>0.0</td>\n",
              "      <td>0.0</td>\n",
              "      <td>0.0</td>\n",
              "      <td>0.0</td>\n",
              "      <td>0.0</td>\n",
              "      <td>0.0</td>\n",
              "      <td>0.0</td>\n",
              "      <td>0.0</td>\n",
              "      <td>0.0</td>\n",
              "      <td>0.0</td>\n",
              "      <td>0.0</td>\n",
              "      <td>0.0</td>\n",
              "      <td>0.0</td>\n",
              "      <td>0.0</td>\n",
              "      <td>0.0</td>\n",
              "      <td>0.0</td>\n",
              "      <td>0.0</td>\n",
              "      <td>0.0</td>\n",
              "      <td>0.0</td>\n",
              "      <td>0.0</td>\n",
              "      <td>0.0</td>\n",
              "      <td>0.0</td>\n",
              "      <td>0.0</td>\n",
              "      <td>0.0</td>\n",
              "      <td>0.0</td>\n",
              "      <td>0.0</td>\n",
              "      <td>0.0</td>\n",
              "      <td>0.0</td>\n",
              "      <td>0.0</td>\n",
              "      <td>0.0</td>\n",
              "      <td>0.0</td>\n",
              "      <td>0.0</td>\n",
              "      <td>0.0</td>\n",
              "    </tr>\n",
              "    <tr>\n",
              "      <th>9331</th>\n",
              "      <td>0.0</td>\n",
              "      <td>0.0</td>\n",
              "      <td>0.0</td>\n",
              "      <td>0.0</td>\n",
              "      <td>0.0</td>\n",
              "      <td>0.0</td>\n",
              "      <td>0.0</td>\n",
              "      <td>0.0</td>\n",
              "      <td>0.0</td>\n",
              "      <td>0.0</td>\n",
              "      <td>0.0</td>\n",
              "      <td>0.0</td>\n",
              "      <td>0.0</td>\n",
              "      <td>0.0</td>\n",
              "      <td>0.0</td>\n",
              "      <td>0.0</td>\n",
              "      <td>0.0</td>\n",
              "      <td>0.0</td>\n",
              "      <td>0.0</td>\n",
              "      <td>0.0</td>\n",
              "      <td>0.0</td>\n",
              "      <td>0.0</td>\n",
              "      <td>0.0</td>\n",
              "      <td>0.0</td>\n",
              "      <td>0.0</td>\n",
              "      <td>0.0</td>\n",
              "      <td>0.0</td>\n",
              "      <td>0.0</td>\n",
              "      <td>0.0</td>\n",
              "      <td>0.0</td>\n",
              "      <td>0.0</td>\n",
              "      <td>0.0</td>\n",
              "      <td>0.0</td>\n",
              "      <td>0.0</td>\n",
              "      <td>0.0</td>\n",
              "      <td>0.0</td>\n",
              "      <td>0.0</td>\n",
              "      <td>0.0</td>\n",
              "      <td>0.0</td>\n",
              "      <td>0.0</td>\n",
              "      <td>...</td>\n",
              "      <td>0.0</td>\n",
              "      <td>0.0</td>\n",
              "      <td>0.0</td>\n",
              "      <td>0.0</td>\n",
              "      <td>0.0</td>\n",
              "      <td>0.0</td>\n",
              "      <td>0.0</td>\n",
              "      <td>0.0</td>\n",
              "      <td>0.0</td>\n",
              "      <td>0.0</td>\n",
              "      <td>0.0</td>\n",
              "      <td>0.0</td>\n",
              "      <td>0.0</td>\n",
              "      <td>0.0</td>\n",
              "      <td>0.0</td>\n",
              "      <td>0.0</td>\n",
              "      <td>0.0</td>\n",
              "      <td>0.0</td>\n",
              "      <td>0.0</td>\n",
              "      <td>0.0</td>\n",
              "      <td>0.0</td>\n",
              "      <td>0.0</td>\n",
              "      <td>0.0</td>\n",
              "      <td>0.0</td>\n",
              "      <td>0.0</td>\n",
              "      <td>0.0</td>\n",
              "      <td>0.0</td>\n",
              "      <td>0.0</td>\n",
              "      <td>0.0</td>\n",
              "      <td>0.0</td>\n",
              "      <td>0.0</td>\n",
              "      <td>0.0</td>\n",
              "      <td>0.0</td>\n",
              "      <td>0.0</td>\n",
              "      <td>0.0</td>\n",
              "      <td>0.0</td>\n",
              "      <td>0.0</td>\n",
              "      <td>0.0</td>\n",
              "      <td>0.0</td>\n",
              "      <td>0.0</td>\n",
              "    </tr>\n",
              "  </tbody>\n",
              "</table>\n",
              "<p>8548 rows × 9967 columns</p>\n",
              "</div>\n",
              "      <button class=\"colab-df-convert\" onclick=\"convertToInteractive('df-c2c600ec-a556-4ec3-b2c0-4bdd39e4d894')\"\n",
              "              title=\"Convert this dataframe to an interactive table.\"\n",
              "              style=\"display:none;\">\n",
              "        \n",
              "  <svg xmlns=\"http://www.w3.org/2000/svg\" height=\"24px\"viewBox=\"0 0 24 24\"\n",
              "       width=\"24px\">\n",
              "    <path d=\"M0 0h24v24H0V0z\" fill=\"none\"/>\n",
              "    <path d=\"M18.56 5.44l.94 2.06.94-2.06 2.06-.94-2.06-.94-.94-2.06-.94 2.06-2.06.94zm-11 1L8.5 8.5l.94-2.06 2.06-.94-2.06-.94L8.5 2.5l-.94 2.06-2.06.94zm10 10l.94 2.06.94-2.06 2.06-.94-2.06-.94-.94-2.06-.94 2.06-2.06.94z\"/><path d=\"M17.41 7.96l-1.37-1.37c-.4-.4-.92-.59-1.43-.59-.52 0-1.04.2-1.43.59L10.3 9.45l-7.72 7.72c-.78.78-.78 2.05 0 2.83L4 21.41c.39.39.9.59 1.41.59.51 0 1.02-.2 1.41-.59l7.78-7.78 2.81-2.81c.8-.78.8-2.07 0-2.86zM5.41 20L4 18.59l7.72-7.72 1.47 1.35L5.41 20z\"/>\n",
              "  </svg>\n",
              "      </button>\n",
              "      \n",
              "  <style>\n",
              "    .colab-df-container {\n",
              "      display:flex;\n",
              "      flex-wrap:wrap;\n",
              "      gap: 12px;\n",
              "    }\n",
              "\n",
              "    .colab-df-convert {\n",
              "      background-color: #E8F0FE;\n",
              "      border: none;\n",
              "      border-radius: 50%;\n",
              "      cursor: pointer;\n",
              "      display: none;\n",
              "      fill: #1967D2;\n",
              "      height: 32px;\n",
              "      padding: 0 0 0 0;\n",
              "      width: 32px;\n",
              "    }\n",
              "\n",
              "    .colab-df-convert:hover {\n",
              "      background-color: #E2EBFA;\n",
              "      box-shadow: 0px 1px 2px rgba(60, 64, 67, 0.3), 0px 1px 3px 1px rgba(60, 64, 67, 0.15);\n",
              "      fill: #174EA6;\n",
              "    }\n",
              "\n",
              "    [theme=dark] .colab-df-convert {\n",
              "      background-color: #3B4455;\n",
              "      fill: #D2E3FC;\n",
              "    }\n",
              "\n",
              "    [theme=dark] .colab-df-convert:hover {\n",
              "      background-color: #434B5C;\n",
              "      box-shadow: 0px 1px 3px 1px rgba(0, 0, 0, 0.15);\n",
              "      filter: drop-shadow(0px 1px 2px rgba(0, 0, 0, 0.3));\n",
              "      fill: #FFFFFF;\n",
              "    }\n",
              "  </style>\n",
              "\n",
              "      <script>\n",
              "        const buttonEl =\n",
              "          document.querySelector('#df-c2c600ec-a556-4ec3-b2c0-4bdd39e4d894 button.colab-df-convert');\n",
              "        buttonEl.style.display =\n",
              "          google.colab.kernel.accessAllowed ? 'block' : 'none';\n",
              "\n",
              "        async function convertToInteractive(key) {\n",
              "          const element = document.querySelector('#df-c2c600ec-a556-4ec3-b2c0-4bdd39e4d894');\n",
              "          const dataTable =\n",
              "            await google.colab.kernel.invokeFunction('convertToInteractive',\n",
              "                                                     [key], {});\n",
              "          if (!dataTable) return;\n",
              "\n",
              "          const docLinkHtml = 'Like what you see? Visit the ' +\n",
              "            '<a target=\"_blank\" href=https://colab.research.google.com/notebooks/data_table.ipynb>data table notebook</a>'\n",
              "            + ' to learn more about interactive tables.';\n",
              "          element.innerHTML = '';\n",
              "          dataTable['output_type'] = 'display_data';\n",
              "          await google.colab.output.renderOutput(dataTable, element);\n",
              "          const docLink = document.createElement('div');\n",
              "          docLink.innerHTML = docLinkHtml;\n",
              "          element.appendChild(docLink);\n",
              "        }\n",
              "      </script>\n",
              "    </div>\n",
              "  </div>\n",
              "  "
            ],
            "text/plain": [
              "       00  000  01273276865  01am  ...  ⁰perfection  ⁰you  你就算5隔格我都知你讲me  ｆｏｌｌｏｗ\n",
              "784   0.0  0.0          0.0   0.0  ...          0.0   0.0            0.0     0.0\n",
              "785   0.0  0.0          0.0   0.0  ...          0.0   0.0            0.0     0.0\n",
              "786   0.0  0.0          0.0   0.0  ...          0.0   0.0            0.0     0.0\n",
              "787   0.0  0.0          0.0   0.0  ...          0.0   0.0            0.0     0.0\n",
              "788   0.0  0.0          0.0   0.0  ...          0.0   0.0            0.0     0.0\n",
              "...   ...  ...          ...   ...  ...          ...   ...            ...     ...\n",
              "9327  0.0  0.0          0.0   0.0  ...          0.0   0.0            0.0     0.0\n",
              "9328  0.0  0.0          0.0   0.0  ...          0.0   0.0            0.0     0.0\n",
              "9329  0.0  0.0          0.0   0.0  ...          0.0   0.0            0.0     0.0\n",
              "9330  0.0  0.0          0.0   0.0  ...          0.0   0.0            0.0     0.0\n",
              "9331  0.0  0.0          0.0   0.0  ...          0.0   0.0            0.0     0.0\n",
              "\n",
              "[8548 rows x 9967 columns]"
            ]
          },
          "metadata": {},
          "execution_count": 38
        }
      ]
    },
    {
      "cell_type": "code",
      "source": [
        "print(X_tfidf_train.shape, \n",
        "      X_tfidf_emoji_train.shape, \n",
        "      X_tfidf_emoji_irony_train.shape,\n",
        "      X_tfidf_test.shape)"
      ],
      "metadata": {
        "colab": {
          "base_uri": "https://localhost:8080/"
        },
        "id": "DOfq0VV7mXY2",
        "outputId": "3e78dbee-a111-4c5d-d09d-f4d4419f70d2"
      },
      "execution_count": null,
      "outputs": [
        {
          "output_type": "stream",
          "name": "stdout",
          "text": [
            "(2442, 9967) (3053, 9967) (3053, 9967) (784, 9967)\n"
          ]
        }
      ]
    },
    {
      "cell_type": "markdown",
      "source": [
        "# Word2Vec"
      ],
      "metadata": {
        "id": "GXS1rcH2tryv"
      }
    },
    {
      "cell_type": "code",
      "source": [
        "def apply_word2vec(X):\n",
        "  # Tokenize\n",
        "  X = [TweetTokenizer().tokenize(text) for text in X]\n",
        "\n",
        "  # Define Word2Vec\n",
        "  vectorizer = Word2Vec(X, window=5, min_count=1, workers=4)\n",
        "  X_word2vec = []\n",
        "\n",
        "  # Sum embeddings\n",
        "  for text in X:\n",
        "    vectorizer.train(text, total_examples=1, epochs=1)\n",
        "    words = [vectorizer.wv[word] for word in text]\n",
        "    embeddings = np.sum(words, axis=0)\n",
        "    if embeddings.all() == 0.0:\n",
        "      embeddings = np.zeros(100)\n",
        "\n",
        "    X_word2vec.append(embeddings)\n",
        "\n",
        "  return X_word2vec"
      ],
      "metadata": {
        "id": "NHChee6JwBKg"
      },
      "execution_count": null,
      "outputs": []
    },
    {
      "cell_type": "code",
      "source": [
        "[TweetTokenizer().tokenize(text) for text in tweets_train_df_pp['Tweet text']][0]"
      ],
      "metadata": {
        "colab": {
          "base_uri": "https://localhost:8080/"
        },
        "id": "K07khrJMwKpE",
        "outputId": "c9ce605b-953f-4fde-d295-4dae4217d8cd"
      },
      "execution_count": null,
      "outputs": [
        {
          "output_type": "execute_result",
          "data": {
            "text/plain": [
              "['beautiful', 'day']"
            ]
          },
          "metadata": {},
          "execution_count": 57
        }
      ]
    },
    {
      "cell_type": "code",
      "source": [
        "X_word2vec_train = apply_word2vec(tweets_train_df_pp['Tweet text'])\n",
        "X_word2vec_emoji_train = apply_word2vec(tweets_emoji_df_pp['Tweet text'])\n",
        "X_word2vec_emoji_irony_train = apply_word2vec(tweets_emoji_irony_df_pp['Tweet text'])\n",
        "\n",
        "X_word2vec_test = apply_word2vec(tweets_test_df_pp['Tweet text'])"
      ],
      "metadata": {
        "id": "QlCGJbDcwP8F"
      },
      "execution_count": null,
      "outputs": []
    },
    {
      "cell_type": "code",
      "source": [
        "# Normalize data for word2vec Naive Bayes\n",
        "scaler = MinMaxScaler()\n",
        "\n",
        "X_word2vec_train_normalized = scaler.fit(X_word2vec_train).transform(X_word2vec_train)\n",
        "X_word2vec_emoji_train_normalized = scaler.fit(X_word2vec_emoji_train).transform(X_word2vec_emoji_train)\n",
        "X_word2vec_emoji_irony_train_normalized = scaler.fit(X_word2vec_emoji_irony_train).transform(X_word2vec_emoji_irony_train)\n",
        "X_word2vec_test_normalized = scaler.fit(X_word2vec_test).transform(X_word2vec_test)"
      ],
      "metadata": {
        "id": "YNrpLSGNvDpY"
      },
      "execution_count": null,
      "outputs": []
    },
    {
      "cell_type": "markdown",
      "metadata": {
        "id": "mPbEkoXg46tZ"
      },
      "source": [
        "# Test hyperparameters"
      ]
    },
    {
      "cell_type": "code",
      "source": [
        "def test_hyperparameters(classifier, X_train, y_train):\n",
        "    parameters = {}\n",
        "    classification = None\n",
        "\n",
        "    if classifier == 'Random Forest':\n",
        "        parameters = {'n_estimators': [100, 300, 500], \"max_depth\": [\n",
        "            3, 5, 7, None], 'criterion': ['gini', 'entropy'], 'max_features': ['auto', 'sqrt', 'log2']}\n",
        "        classification = RandomForestClassifier(random_state=0)\n",
        "    elif classifier == 'Naive Bayes':\n",
        "        parameters = {'alpha': [1, 0.1, 0.01, 0.001, 0.0001]}\n",
        "        classification = MultinomialNB()\n",
        "    elif classifier == 'SVM':\n",
        "        parameters = {'kernel': ['rbf', 'poly', 'sigmoid', 'linear'], \"C\": [1, 10, 100, 1000]}\n",
        "        classification = SVC(random_state=0)\n",
        "\n",
        "    score = 'f1'\n",
        "\n",
        "    print(\"# Defining hyperparameters based on %s\" % score)\n",
        "    print()\n",
        "\n",
        "    clf = RandomizedSearchCV(classification, parameters, scoring=\"%s_macro\" % score, cv=5, random_state=0)\n",
        "    clf.fit(X_train, y_train)\n",
        "\n",
        "    print(\"Best hyperparameters:\")\n",
        "    print()\n",
        "    print(clf.best_params_)"
      ],
      "metadata": {
        "id": "rkkpw1tGiE5C"
      },
      "execution_count": null,
      "outputs": []
    },
    {
      "cell_type": "markdown",
      "source": [
        "TF-IDF"
      ],
      "metadata": {
        "id": "EwixNMfzPZg2"
      }
    },
    {
      "cell_type": "code",
      "source": [
        "test_hyperparameters('Naive Bayes', X_tfidf_train, tweets_train_df['Label'])"
      ],
      "metadata": {
        "colab": {
          "base_uri": "https://localhost:8080/"
        },
        "id": "K6P9aw3Zbpf4",
        "outputId": "ba606b5c-5b27-4c06-fe16-3068932afad7"
      },
      "execution_count": null,
      "outputs": [
        {
          "output_type": "stream",
          "name": "stdout",
          "text": [
            "# Defining hyperparameters based on f1\n",
            "\n",
            "Best hyperparameters:\n",
            "\n",
            "{'alpha': 1}\n"
          ]
        }
      ]
    },
    {
      "cell_type": "code",
      "source": [
        "test_hyperparameters('SVM', X_tfidf_train, tweets_train_df['Label'])"
      ],
      "metadata": {
        "colab": {
          "base_uri": "https://localhost:8080/"
        },
        "id": "1CxxXnxXHO34",
        "outputId": "f69eddd1-f41c-40ff-bf49-1b903e012ea0"
      },
      "execution_count": null,
      "outputs": [
        {
          "output_type": "stream",
          "name": "stdout",
          "text": [
            "# Defining hyperparameters based on f1\n",
            "\n",
            "Best hyperparameters:\n",
            "\n",
            "{'kernel': 'rbf', 'C': 10}\n"
          ]
        }
      ]
    },
    {
      "cell_type": "code",
      "source": [
        "test_hyperparameters('Random Forest', X_tfidf_train, tweets_train_df['Label'])"
      ],
      "metadata": {
        "colab": {
          "base_uri": "https://localhost:8080/"
        },
        "id": "pv3L9k17HQpI",
        "outputId": "8c4f9763-1105-4049-ab28-09319c945b76"
      },
      "execution_count": null,
      "outputs": [
        {
          "output_type": "stream",
          "name": "stdout",
          "text": [
            "# Defining hyperparameters based on f1\n",
            "\n",
            "Best hyperparameters:\n",
            "\n",
            "{'n_estimators': 100, 'max_features': 'auto', 'max_depth': None, 'criterion': 'gini'}\n"
          ]
        }
      ]
    },
    {
      "cell_type": "markdown",
      "source": [
        "Word2vec"
      ],
      "metadata": {
        "id": "Ne7_8iGJPcwB"
      }
    },
    {
      "cell_type": "code",
      "source": [
        "test_hyperparameters('Naive Bayes', X_word2vec_train_normalized, tweets_train_df['Label'])"
      ],
      "metadata": {
        "colab": {
          "base_uri": "https://localhost:8080/"
        },
        "id": "wMaHP1sGrFGv",
        "outputId": "c1fea95d-35d6-47e2-e5ff-72c25f42dd2d"
      },
      "execution_count": null,
      "outputs": [
        {
          "output_type": "stream",
          "name": "stdout",
          "text": [
            "# Defining hyperparameters based on f1\n",
            "\n",
            "Best hyperparameters:\n",
            "\n",
            "{'alpha': 0.1}\n"
          ]
        }
      ]
    },
    {
      "cell_type": "code",
      "source": [
        "test_hyperparameters('SVM', X_word2vec_train, tweets_train_df['Label'])"
      ],
      "metadata": {
        "colab": {
          "base_uri": "https://localhost:8080/"
        },
        "id": "SIb_kCzSMtbM",
        "outputId": "07f50273-f253-4eb1-d64a-d8996c1f71fa"
      },
      "execution_count": null,
      "outputs": [
        {
          "output_type": "stream",
          "name": "stdout",
          "text": [
            "# Defining hyperparameters based on f1\n",
            "\n",
            "Best hyperparameters:\n",
            "\n",
            "{'kernel': 'linear', 'C': 10}\n"
          ]
        }
      ]
    },
    {
      "cell_type": "code",
      "source": [
        "test_hyperparameters('Random Forest', X_word2vec_train, tweets_train_df['Label'])"
      ],
      "metadata": {
        "colab": {
          "base_uri": "https://localhost:8080/"
        },
        "id": "L_n9Ed0JMnr-",
        "outputId": "43de90a2-7f0a-45a8-940d-b847e39b6585"
      },
      "execution_count": null,
      "outputs": [
        {
          "output_type": "stream",
          "name": "stdout",
          "text": [
            "# Defining hyperparameters based on f1\n",
            "\n",
            "Best hyperparameters:\n",
            "\n",
            "{'n_estimators': 100, 'max_features': 'auto', 'max_depth': None, 'criterion': 'gini'}\n"
          ]
        }
      ]
    },
    {
      "cell_type": "markdown",
      "source": [
        "# Classification"
      ],
      "metadata": {
        "id": "alc4gj9MjFOf"
      }
    },
    {
      "cell_type": "code",
      "source": [
        "def createClassifier(classifier, x_train, y_train, x_test, y_test):\n",
        "    # Create classifier\n",
        "    classifier.fit(x_train, y_train)\n",
        "\n",
        "    # Define test labels\n",
        "    y_true, y_pred = y_test, classifier.predict(x_test)\n",
        "\n",
        "    print('Classification report: ')\n",
        "    print(classification_report(y_true, y_pred, zero_division=1))\n",
        "    \n",
        "    return y_test"
      ],
      "metadata": {
        "id": "n9g6xVuliG67"
      },
      "execution_count": null,
      "outputs": []
    },
    {
      "cell_type": "code",
      "metadata": {
        "id": "U5G3en-JbGhd"
      },
      "source": [
        "def plotConfusionMatrix(classifier, x_test, y_test):\n",
        "    ConfusionMatrixDisplay.from_estimator(classifier, x_test, y_test, cmap=plt.cm.Blues)\n",
        "    plt.show()\n",
        "\n",
        "    return;"
      ],
      "execution_count": null,
      "outputs": []
    },
    {
      "cell_type": "code",
      "source": [
        "y_tweets_train_df = tweets_train_df['Label']\n",
        "y_tweets_emoji_df = tweets_emoji_df['Label']\n",
        "y_tweets_emoji_irony_df = tweets_emoji_irony_df['Label']\n",
        "\n",
        "y_test = tweets_test_df['Label']"
      ],
      "metadata": {
        "id": "4-6XM1EQoxN1"
      },
      "execution_count": null,
      "outputs": []
    },
    {
      "cell_type": "markdown",
      "source": [
        "*   Train: 'SemEval2018-T3-train-taskA.txt'\n",
        "*   Test: 'SemEval2018-T3_gold_test_taskA_emoji.txt'"
      ],
      "metadata": {
        "id": "vcdNZGYHpJok"
      }
    },
    {
      "cell_type": "code",
      "source": [
        "# TF-IDF and Naive Bayes\n",
        "nb_clf = MultinomialNB(alpha=1)\n",
        "\n",
        "y_pred = createClassifier(nb_clf, X_tfidf_train, y_tweets_train_df, \n",
        "                          X_tfidf_test, y_test)\n",
        "\n",
        "print('Confusion Matrix: ')\n",
        "plotConfusionMatrix(nb_clf, X_tfidf_test, y_test)"
      ],
      "metadata": {
        "id": "3JCAQO0-bthS",
        "colab": {
          "base_uri": "https://localhost:8080/",
          "height": 470
        },
        "outputId": "51e6e09b-c681-4bdf-e7a8-16c04c23577f"
      },
      "execution_count": null,
      "outputs": [
        {
          "output_type": "stream",
          "name": "stdout",
          "text": [
            "Classification report: \n",
            "              precision    recall  f1-score   support\n",
            "\n",
            "           0       0.63      0.56      0.59       473\n",
            "           1       0.42      0.49      0.46       311\n",
            "\n",
            "    accuracy                           0.53       784\n",
            "   macro avg       0.53      0.53      0.52       784\n",
            "weighted avg       0.55      0.53      0.54       784\n",
            "\n",
            "Confusion Matrix: \n"
          ]
        },
        {
          "output_type": "display_data",
          "data": {
            "image/png": "[encoded data removed]",
            "text/plain": [
              "<Figure size 432x288 with 2 Axes>"
            ]
          },
          "metadata": {
            "needs_background": "light"
          }
        }
      ]
    },
    {
      "cell_type": "code",
      "source": [
        "# TF-IDF and Support Vector Machine\n",
        "svm_clf = SVC(kernel='rbf', C=10)\n",
        "\n",
        "y_pred = createClassifier(svm_clf, X_tfidf_train, y_tweets_train_df, \n",
        "                          X_tfidf_test, y_test)\n",
        "\n",
        "print('Confusion Matrix: ')\n",
        "plotConfusionMatrix(nb_clf, X_tfidf_test, y_test)"
      ],
      "metadata": {
        "id": "mviBNYcusw4S",
        "colab": {
          "base_uri": "https://localhost:8080/",
          "height": 470
        },
        "outputId": "9f28d6f8-fdcf-4284-f8a4-694f4bc67dd5"
      },
      "execution_count": null,
      "outputs": [
        {
          "output_type": "stream",
          "name": "stdout",
          "text": [
            "Classification report: \n",
            "              precision    recall  f1-score   support\n",
            "\n",
            "           0       0.62      0.53      0.57       473\n",
            "           1       0.41      0.50      0.45       311\n",
            "\n",
            "    accuracy                           0.52       784\n",
            "   macro avg       0.52      0.52      0.51       784\n",
            "weighted avg       0.54      0.52      0.52       784\n",
            "\n",
            "Confusion Matrix: \n"
          ]
        },
        {
          "output_type": "display_data",
          "data": {
            "image/png": "[encoded data removed]",
            "text/plain": [
              "<Figure size 432x288 with 2 Axes>"
            ]
          },
          "metadata": {
            "needs_background": "light"
          }
        }
      ]
    },
    {
      "cell_type": "code",
      "source": [
        "# TF-IDF and Random Forest\n",
        "rf_clf = RandomForestClassifier(n_estimators=100, max_features='auto', max_depth=None, criterion='gini')\n",
        "\n",
        "y_pred = createClassifier(rf_clf, X_tfidf_train, y_tweets_train_df, \n",
        "                          X_tfidf_test, y_test)\n",
        "\n",
        "print('Confusion Matrix: ')\n",
        "plotConfusionMatrix(nb_clf, X_tfidf_test, y_test)"
      ],
      "metadata": {
        "id": "UPtxEU_9sbbg",
        "colab": {
          "base_uri": "https://localhost:8080/",
          "height": 470
        },
        "outputId": "f2c5ee4f-a403-48ec-e46d-3451779567f7"
      },
      "execution_count": null,
      "outputs": [
        {
          "output_type": "stream",
          "name": "stdout",
          "text": [
            "Classification report: \n",
            "              precision    recall  f1-score   support\n",
            "\n",
            "           0       0.62      0.53      0.57       473\n",
            "           1       0.41      0.50      0.45       311\n",
            "\n",
            "    accuracy                           0.52       784\n",
            "   macro avg       0.52      0.52      0.51       784\n",
            "weighted avg       0.54      0.52      0.52       784\n",
            "\n",
            "Confusion Matrix: \n"
          ]
        },
        {
          "output_type": "display_data",
          "data": {
            "image/png": "[encoded data removed]",
            "text/plain": [
              "<Figure size 432x288 with 2 Axes>"
            ]
          },
          "metadata": {
            "needs_background": "light"
          }
        }
      ]
    },
    {
      "cell_type": "code",
      "source": [
        "# Word2vec and Naive Bayes\n",
        "nb_clf = MultinomialNB(alpha=0.1)\n",
        "\n",
        "y_pred = createClassifier(nb_clf, X_word2vec_train_normalized, y_tweets_train_df, \n",
        "                          X_word2vec_test, y_test)\n",
        "\n",
        "print('Confusion Matrix: ')\n",
        "plotConfusionMatrix(nb_clf, X_word2vec_test, y_test)"
      ],
      "metadata": {
        "id": "K5F6hRMKvGHZ",
        "colab": {
          "base_uri": "https://localhost:8080/",
          "height": 470
        },
        "outputId": "bc44489c-6f84-46dd-9f6d-18a3704ad6d8"
      },
      "execution_count": null,
      "outputs": [
        {
          "output_type": "stream",
          "name": "stdout",
          "text": [
            "Classification report: \n",
            "              precision    recall  f1-score   support\n",
            "\n",
            "           0       0.60      1.00      0.75       473\n",
            "           1       1.00      0.00      0.00       311\n",
            "\n",
            "    accuracy                           0.60       784\n",
            "   macro avg       0.80      0.50      0.38       784\n",
            "weighted avg       0.76      0.60      0.45       784\n",
            "\n",
            "Confusion Matrix: \n"
          ]
        },
        {
          "output_type": "display_data",
          "data": {
            "image/png": "[encoded data removed]",
            "text/plain": [
              "<Figure size 432x288 with 2 Axes>"
            ]
          },
          "metadata": {
            "needs_background": "light"
          }
        }
      ]
    },
    {
      "cell_type": "code",
      "source": [
        "# Word2vec and Support Vector Machine\n",
        "svm_clf = SVC(kernel='linear', C=10)\n",
        "\n",
        "y_pred = createClassifier(svm_clf, X_word2vec_train, y_tweets_train_df, \n",
        "                          X_word2vec_test, y_test)\n",
        "\n",
        "print('Confusion Matrix: ')\n",
        "plotConfusionMatrix(nb_clf, X_word2vec_test, y_test)"
      ],
      "metadata": {
        "id": "o13drwMuvGHa",
        "colab": {
          "base_uri": "https://localhost:8080/",
          "height": 470
        },
        "outputId": "a90fa4e2-ef7d-42b7-961b-99323f90efcb"
      },
      "execution_count": null,
      "outputs": [
        {
          "output_type": "stream",
          "name": "stdout",
          "text": [
            "Classification report: \n",
            "              precision    recall  f1-score   support\n",
            "\n",
            "           0       0.62      0.73      0.67       473\n",
            "           1       0.45      0.34      0.38       311\n",
            "\n",
            "    accuracy                           0.57       784\n",
            "   macro avg       0.54      0.53      0.53       784\n",
            "weighted avg       0.55      0.57      0.56       784\n",
            "\n",
            "Confusion Matrix: \n"
          ]
        },
        {
          "output_type": "display_data",
          "data": {
            "image/png": "[encoded data removed]",
            "text/plain": [
              "<Figure size 432x288 with 2 Axes>"
            ]
          },
          "metadata": {
            "needs_background": "light"
          }
        }
      ]
    },
    {
      "cell_type": "code",
      "source": [
        "# Word2vec and Random Forest\n",
        "rf_clf = RandomForestClassifier(n_estimators=100, max_features='auto', max_depth=None, criterion='gini')\n",
        "\n",
        "y_pred = createClassifier(rf_clf, X_word2vec_train, y_tweets_train_df, \n",
        "                          X_word2vec_test, y_test)\n",
        "\n",
        "print('Confusion Matrix: ')\n",
        "plotConfusionMatrix(nb_clf, X_word2vec_test, y_test)"
      ],
      "metadata": {
        "id": "JG_44USsvGHa",
        "colab": {
          "base_uri": "https://localhost:8080/",
          "height": 470
        },
        "outputId": "10899f95-79f1-4eaa-b72d-f22d77f790c5"
      },
      "execution_count": null,
      "outputs": [
        {
          "output_type": "stream",
          "name": "stdout",
          "text": [
            "Classification report: \n",
            "              precision    recall  f1-score   support\n",
            "\n",
            "           0       0.62      0.68      0.65       473\n",
            "           1       0.44      0.38      0.41       311\n",
            "\n",
            "    accuracy                           0.56       784\n",
            "   macro avg       0.53      0.53      0.53       784\n",
            "weighted avg       0.55      0.56      0.55       784\n",
            "\n",
            "Confusion Matrix: \n"
          ]
        },
        {
          "output_type": "display_data",
          "data": {
            "image/png": "[encoded data removed]",
            "text/plain": [
              "<Figure size 432x288 with 2 Axes>"
            ]
          },
          "metadata": {
            "needs_background": "light"
          }
        }
      ]
    },
    {
      "cell_type": "markdown",
      "source": [
        "*   Train: 'SemEval2018-T3-train-taskA_emoji.txt'\n",
        "*   Test: 'SemEval2018-T3_gold_test_taskA_emoji.txt'"
      ],
      "metadata": {
        "id": "jdbCq1bfpbsz"
      }
    },
    {
      "cell_type": "code",
      "source": [
        "# TF-IDF and  Naive Bayes\n",
        "nb_clf = MultinomialNB(alpha=1)\n",
        "\n",
        "y_pred = createClassifier(nb_clf, X_tfidf_emoji_train, y_tweets_emoji_df, \n",
        "                          X_tfidf_test, y_test)\n",
        "\n",
        "print('Confusion Matrix: ')\n",
        "plotConfusionMatrix(nb_clf, X_tfidf_test, y_test)"
      ],
      "metadata": {
        "id": "O3HxAb0Kr104",
        "colab": {
          "base_uri": "https://localhost:8080/",
          "height": 470
        },
        "outputId": "bf9c5621-891f-4386-99b1-8930ee7dd61f"
      },
      "execution_count": null,
      "outputs": [
        {
          "output_type": "stream",
          "name": "stdout",
          "text": [
            "Classification report: \n",
            "              precision    recall  f1-score   support\n",
            "\n",
            "           0       0.60      0.62      0.61       473\n",
            "           1       0.39      0.36      0.38       311\n",
            "\n",
            "    accuracy                           0.52       784\n",
            "   macro avg       0.49      0.49      0.49       784\n",
            "weighted avg       0.52      0.52      0.52       784\n",
            "\n",
            "Confusion Matrix: \n"
          ]
        },
        {
          "output_type": "display_data",
          "data": {
            "image/png": "[encoded data removed]",
            "text/plain": [
              "<Figure size 432x288 with 2 Axes>"
            ]
          },
          "metadata": {
            "needs_background": "light"
          }
        }
      ]
    },
    {
      "cell_type": "code",
      "source": [
        "# TF-IDF and Support Vector Machine\n",
        "svm_clf = SVC(kernel='rbf', C=10)\n",
        "\n",
        "y_pred = createClassifier(svm_clf, X_tfidf_emoji_train, y_tweets_emoji_df, \n",
        "                          X_tfidf_test, y_test)\n",
        "\n",
        "print('Confusion Matrix: ')\n",
        "plotConfusionMatrix(nb_clf, X_tfidf_test, y_test)"
      ],
      "metadata": {
        "id": "7R9R_KTEs1-k",
        "colab": {
          "base_uri": "https://localhost:8080/",
          "height": 470
        },
        "outputId": "86c31b6b-c5e8-425a-f4d6-19555342ea4f"
      },
      "execution_count": null,
      "outputs": [
        {
          "output_type": "stream",
          "name": "stdout",
          "text": [
            "Classification report: \n",
            "              precision    recall  f1-score   support\n",
            "\n",
            "           0       0.60      0.50      0.55       473\n",
            "           1       0.39      0.48      0.43       311\n",
            "\n",
            "    accuracy                           0.49       784\n",
            "   macro avg       0.49      0.49      0.49       784\n",
            "weighted avg       0.51      0.49      0.50       784\n",
            "\n",
            "Confusion Matrix: \n"
          ]
        },
        {
          "output_type": "display_data",
          "data": {
            "image/png": "[encoded data removed]",
            "text/plain": [
              "<Figure size 432x288 with 2 Axes>"
            ]
          },
          "metadata": {
            "needs_background": "light"
          }
        }
      ]
    },
    {
      "cell_type": "code",
      "source": [
        "# TF-IDF and Random Forest\n",
        "rf_clf = RandomForestClassifier(n_estimators=100, max_features='auto', max_depth=None, criterion='gini')\n",
        "\n",
        "y_pred = createClassifier(rf_clf, X_tfidf_emoji_train, y_tweets_emoji_df, \n",
        "                          X_tfidf_test, y_test)\n",
        "\n",
        "print('Confusion Matrix: ')\n",
        "plotConfusionMatrix(nb_clf, X_tfidf_test, y_test)"
      ],
      "metadata": {
        "id": "jKyEG80ssXtZ",
        "colab": {
          "base_uri": "https://localhost:8080/",
          "height": 470
        },
        "outputId": "d83702be-9997-412c-ad34-64d399e6beb9"
      },
      "execution_count": null,
      "outputs": [
        {
          "output_type": "stream",
          "name": "stdout",
          "text": [
            "Classification report: \n",
            "              precision    recall  f1-score   support\n",
            "\n",
            "           0       0.60      0.50      0.55       473\n",
            "           1       0.40      0.50      0.44       311\n",
            "\n",
            "    accuracy                           0.50       784\n",
            "   macro avg       0.50      0.50      0.49       784\n",
            "weighted avg       0.52      0.50      0.51       784\n",
            "\n",
            "Confusion Matrix: \n"
          ]
        },
        {
          "output_type": "display_data",
          "data": {
            "image/png": "[encoded data removed]",
            "text/plain": [
              "<Figure size 432x288 with 2 Axes>"
            ]
          },
          "metadata": {
            "needs_background": "light"
          }
        }
      ]
    },
    {
      "cell_type": "code",
      "source": [
        "# Word2vec and Naive Bayes\n",
        "nb_clf = MultinomialNB(alpha=0.1)\n",
        "\n",
        "y_pred = createClassifier(nb_clf, X_word2vec_emoji_train_normalized, y_tweets_emoji_df, \n",
        "                          X_word2vec_test, y_test)\n",
        "\n",
        "print('Confusion Matrix: ')\n",
        "plotConfusionMatrix(nb_clf, X_word2vec_test, y_test)"
      ],
      "metadata": {
        "id": "ZOJtcSNBvAqW",
        "colab": {
          "base_uri": "https://localhost:8080/",
          "height": 470
        },
        "outputId": "f0052b0e-d954-4091-9a92-8d023b4f3e01"
      },
      "execution_count": null,
      "outputs": [
        {
          "output_type": "stream",
          "name": "stdout",
          "text": [
            "Classification report: \n",
            "              precision    recall  f1-score   support\n",
            "\n",
            "           0       0.60      1.00      0.75       473\n",
            "           1       1.00      0.00      0.00       311\n",
            "\n",
            "    accuracy                           0.60       784\n",
            "   macro avg       0.80      0.50      0.38       784\n",
            "weighted avg       0.76      0.60      0.45       784\n",
            "\n",
            "Confusion Matrix: \n"
          ]
        },
        {
          "output_type": "display_data",
          "data": {
            "image/png": "[encoded data removed]",
            "text/plain": [
              "<Figure size 432x288 with 2 Axes>"
            ]
          },
          "metadata": {
            "needs_background": "light"
          }
        }
      ]
    },
    {
      "cell_type": "code",
      "source": [
        "# Word2vec and Support Vector Machine\n",
        "svm_clf = SVC(kernel='linear', C=10)\n",
        "\n",
        "y_pred = createClassifier(svm_clf, X_word2vec_emoji_train, y_tweets_emoji_df, \n",
        "                          X_word2vec_test, y_test)\n",
        "\n",
        "print('Confusion Matrix: ')\n",
        "plotConfusionMatrix(nb_clf, X_word2vec_test, y_test)"
      ],
      "metadata": {
        "id": "YUc6P5bQvAqY",
        "colab": {
          "base_uri": "https://localhost:8080/",
          "height": 470
        },
        "outputId": "9dbaf82d-2d3d-4d6d-8089-70352278acf4"
      },
      "execution_count": null,
      "outputs": [
        {
          "output_type": "stream",
          "name": "stdout",
          "text": [
            "Classification report: \n",
            "              precision    recall  f1-score   support\n",
            "\n",
            "           0       0.61      0.86      0.71       473\n",
            "           1       0.42      0.16      0.23       311\n",
            "\n",
            "    accuracy                           0.58       784\n",
            "   macro avg       0.52      0.51      0.47       784\n",
            "weighted avg       0.53      0.58      0.52       784\n",
            "\n",
            "Confusion Matrix: \n"
          ]
        },
        {
          "output_type": "display_data",
          "data": {
            "image/png": "[encoded data removed]",
            "text/plain": [
              "<Figure size 432x288 with 2 Axes>"
            ]
          },
          "metadata": {
            "needs_background": "light"
          }
        }
      ]
    },
    {
      "cell_type": "code",
      "source": [
        "# Word2vec and Random Forest\n",
        "rf_clf = RandomForestClassifier(n_estimators=100, max_features='auto', max_depth=None, criterion='gini')\n",
        "\n",
        "y_pred = createClassifier(rf_clf, X_word2vec_emoji_train, y_tweets_emoji_df, \n",
        "                          X_word2vec_test, y_test)\n",
        "\n",
        "print('Confusion Matrix: ')\n",
        "# plotConfusionMatrix(nb_clf, X_word2vec_test, y_test)"
      ],
      "metadata": {
        "id": "NwyLmXUtvAqX",
        "colab": {
          "base_uri": "https://localhost:8080/"
        },
        "outputId": "a298ec1d-15f6-4f43-9a12-18e581c33380"
      },
      "execution_count": null,
      "outputs": [
        {
          "output_type": "stream",
          "name": "stdout",
          "text": [
            "Classification report: \n",
            "              precision    recall  f1-score   support\n",
            "\n",
            "           0       0.59      0.70      0.64       473\n",
            "           1       0.36      0.25      0.30       311\n",
            "\n",
            "    accuracy                           0.53       784\n",
            "   macro avg       0.48      0.48      0.47       784\n",
            "weighted avg       0.50      0.53      0.51       784\n",
            "\n",
            "Confusion Matrix: \n"
          ]
        }
      ]
    },
    {
      "cell_type": "markdown",
      "source": [
        "*   Train: 'SemEval2018-T3-train-taskA_emoji_ironyHashtags.txt'\n",
        "*   Test: 'SemEval2018-T3_gold_test_taskA_emoji.txt'"
      ],
      "metadata": {
        "id": "OTw8MMO4pjSZ"
      }
    },
    {
      "cell_type": "code",
      "source": [
        "# TF-IDF and Naive Bayes\n",
        "nb_clf = MultinomialNB(alpha=1)\n",
        "\n",
        "y_pred = createClassifier(nb_clf, X_tfidf_emoji_irony_train, y_tweets_emoji_irony_df, \n",
        "                          X_tfidf_test, y_test)\n",
        "\n",
        "print('Confusion Matrix: ')\n",
        "plotConfusionMatrix(nb_clf, X_tfidf_test, y_test)"
      ],
      "metadata": {
        "id": "hMJk5Krqr2hG",
        "colab": {
          "base_uri": "https://localhost:8080/",
          "height": 470
        },
        "outputId": "9314c6c4-db79-4d51-96aa-666763e3b9a2"
      },
      "execution_count": null,
      "outputs": [
        {
          "output_type": "stream",
          "name": "stdout",
          "text": [
            "Classification report: \n",
            "              precision    recall  f1-score   support\n",
            "\n",
            "           0       0.60      0.62      0.61       473\n",
            "           1       0.39      0.36      0.38       311\n",
            "\n",
            "    accuracy                           0.52       784\n",
            "   macro avg       0.49      0.49      0.49       784\n",
            "weighted avg       0.52      0.52      0.52       784\n",
            "\n",
            "Confusion Matrix: \n"
          ]
        },
        {
          "output_type": "display_data",
          "data": {
            "image/png": "[encoded data removed]",
            "text/plain": [
              "<Figure size 432x288 with 2 Axes>"
            ]
          },
          "metadata": {
            "needs_background": "light"
          }
        }
      ]
    },
    {
      "cell_type": "code",
      "source": [
        "# TF-IDF and Support Vector Machine\n",
        "svm_clf = SVC(kernel='rbf', C=10)\n",
        "\n",
        "y_pred = createClassifier(svm_clf, X_tfidf_emoji_irony_train, y_tweets_emoji_irony_df, \n",
        "                          X_tfidf_test, y_test)\n",
        "\n",
        "print('Confusion Matrix: ')\n",
        "plotConfusionMatrix(nb_clf, X_tfidf_test, y_test)"
      ],
      "metadata": {
        "id": "nqZO8Pc-bxSz",
        "colab": {
          "base_uri": "https://localhost:8080/",
          "height": 470
        },
        "outputId": "5fce6bbc-7ce3-4d2a-8d0b-5edb9dc24524"
      },
      "execution_count": null,
      "outputs": [
        {
          "output_type": "stream",
          "name": "stdout",
          "text": [
            "Classification report: \n",
            "              precision    recall  f1-score   support\n",
            "\n",
            "           0       0.60      0.50      0.55       473\n",
            "           1       0.39      0.48      0.43       311\n",
            "\n",
            "    accuracy                           0.49       784\n",
            "   macro avg       0.49      0.49      0.49       784\n",
            "weighted avg       0.51      0.49      0.50       784\n",
            "\n",
            "Confusion Matrix: \n"
          ]
        },
        {
          "output_type": "display_data",
          "data": {
            "image/png": "[encoded data removed]",
            "text/plain": [
              "<Figure size 432x288 with 2 Axes>"
            ]
          },
          "metadata": {
            "needs_background": "light"
          }
        }
      ]
    },
    {
      "cell_type": "code",
      "source": [
        "# TF-IDF and Random Forest\n",
        "rf_clf = RandomForestClassifier(n_estimators=100, max_features='auto', max_depth=None, criterion='gini')\n",
        "\n",
        "y_pred = createClassifier(rf_clf, X_tfidf_emoji_irony_train, y_tweets_emoji_irony_df, \n",
        "                          X_tfidf_test, y_test)\n",
        "\n",
        "print('Confusion Matrix: ')\n",
        "plotConfusionMatrix(nb_clf, X_tfidf_test, y_test)"
      ],
      "metadata": {
        "id": "4MV5Ojo7bvXY",
        "colab": {
          "base_uri": "https://localhost:8080/",
          "height": 470
        },
        "outputId": "3e39567e-3e41-4c9b-cd0d-bab8278ee201"
      },
      "execution_count": null,
      "outputs": [
        {
          "output_type": "stream",
          "name": "stdout",
          "text": [
            "Classification report: \n",
            "              precision    recall  f1-score   support\n",
            "\n",
            "           0       0.59      0.50      0.54       473\n",
            "           1       0.39      0.48      0.43       311\n",
            "\n",
            "    accuracy                           0.49       784\n",
            "   macro avg       0.49      0.49      0.49       784\n",
            "weighted avg       0.51      0.49      0.50       784\n",
            "\n",
            "Confusion Matrix: \n"
          ]
        },
        {
          "output_type": "display_data",
          "data": {
            "image/png": "[encoded data removed]",
            "text/plain": [
              "<Figure size 432x288 with 2 Axes>"
            ]
          },
          "metadata": {
            "needs_background": "light"
          }
        }
      ]
    },
    {
      "cell_type": "code",
      "source": [
        "# Word2vec and Naive Bayes\n",
        "nb_clf = MultinomialNB(alpha=0.1)\n",
        "\n",
        "y_pred = createClassifier(nb_clf, X_word2vec_emoji_irony_train_normalized, y_tweets_emoji_irony_df, \n",
        "                          X_word2vec_test, y_test)\n",
        "\n",
        "print('Confusion Matrix: ')\n",
        "plotConfusionMatrix(nb_clf, X_word2vec_test, y_test)"
      ],
      "metadata": {
        "id": "qAFVDMpmu599",
        "colab": {
          "base_uri": "https://localhost:8080/",
          "height": 470
        },
        "outputId": "ed6fbca6-2383-44e4-9e5c-08443a8e9bb1"
      },
      "execution_count": null,
      "outputs": [
        {
          "output_type": "stream",
          "name": "stdout",
          "text": [
            "Classification report: \n",
            "              precision    recall  f1-score   support\n",
            "\n",
            "           0       0.61      0.80      0.69       473\n",
            "           1       0.41      0.21      0.28       311\n",
            "\n",
            "    accuracy                           0.57       784\n",
            "   macro avg       0.51      0.50      0.48       784\n",
            "weighted avg       0.53      0.57      0.53       784\n",
            "\n",
            "Confusion Matrix: \n"
          ]
        },
        {
          "output_type": "display_data",
          "data": {
            "image/png": "[encoded data removed]",
            "text/plain": [
              "<Figure size 432x288 with 2 Axes>"
            ]
          },
          "metadata": {
            "needs_background": "light"
          }
        }
      ]
    },
    {
      "cell_type": "code",
      "source": [
        "# Word2vec and Support Vector Machine\n",
        "svm_clf = SVC(kernel='linear', C=10)\n",
        "\n",
        "y_pred = createClassifier(svm_clf, X_word2vec_emoji_irony_train, y_tweets_emoji_irony_df, \n",
        "                          X_word2vec_test, y_test)\n",
        "\n",
        "print('Confusion Matrix: ')\n",
        "plotConfusionMatrix(nb_clf, X_word2vec_test, y_test)"
      ],
      "metadata": {
        "id": "m2Roclogu59-",
        "colab": {
          "base_uri": "https://localhost:8080/",
          "height": 470
        },
        "outputId": "6e60cc12-b804-4921-fd35-c18109debfdd"
      },
      "execution_count": null,
      "outputs": [
        {
          "output_type": "stream",
          "name": "stdout",
          "text": [
            "Classification report: \n",
            "              precision    recall  f1-score   support\n",
            "\n",
            "           0       0.63      0.94      0.75       473\n",
            "           1       0.61      0.15      0.24       311\n",
            "\n",
            "    accuracy                           0.62       784\n",
            "   macro avg       0.62      0.54      0.50       784\n",
            "weighted avg       0.62      0.62      0.55       784\n",
            "\n",
            "Confusion Matrix: \n"
          ]
        },
        {
          "output_type": "display_data",
          "data": {
            "image/png": "[encoded data removed]",
            "text/plain": [
              "<Figure size 432x288 with 2 Axes>"
            ]
          },
          "metadata": {
            "needs_background": "light"
          }
        }
      ]
    },
    {
      "cell_type": "code",
      "source": [
        "# Word2vec and Random Forest\n",
        "rf_clf = RandomForestClassifier(n_estimators=100, max_features='auto', max_depth=None, criterion='gini')\n",
        "\n",
        "y_pred = createClassifier(rf_clf, X_word2vec_emoji_irony_train, y_tweets_emoji_irony_df, \n",
        "                          X_word2vec_test, y_test)\n",
        "\n",
        "print('Confusion Matrix: ')\n",
        "plotConfusionMatrix(nb_clf, X_word2vec_test, y_test)"
      ],
      "metadata": {
        "id": "ZHZJkJ6Pu59-",
        "colab": {
          "base_uri": "https://localhost:8080/",
          "height": 470
        },
        "outputId": "a606821e-fa4d-47d8-e81b-51b9b3462b28"
      },
      "execution_count": null,
      "outputs": [
        {
          "output_type": "stream",
          "name": "stdout",
          "text": [
            "Classification report: \n",
            "              precision    recall  f1-score   support\n",
            "\n",
            "           0       0.60      1.00      0.75       473\n",
            "           1       1.00      0.00      0.00       311\n",
            "\n",
            "    accuracy                           0.60       784\n",
            "   macro avg       0.80      0.50      0.38       784\n",
            "weighted avg       0.76      0.60      0.45       784\n",
            "\n",
            "Confusion Matrix: \n"
          ]
        },
        {
          "output_type": "display_data",
          "data": {
            "image/png": "[encoded data removed]",
            "text/plain": [
              "<Figure size 432x288 with 2 Axes>"
            ]
          },
          "metadata": {
            "needs_background": "light"
          }
        }
      ]
    }
  ]
}