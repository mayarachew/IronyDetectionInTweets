{
  "nbformat": 4,
  "nbformat_minor": 0,
  "metadata": {
    "colab": {
      "name": "irony_detection_EN_ulmfit.ipynb",
      "provenance": [],
      "collapsed_sections": [],
      "authorship_tag": "ABX9TyOkcxvNIxoMROM3yxWaDW/B",
      "include_colab_link": true
    },
    "kernelspec": {
      "name": "python3",
      "display_name": "Python 3"
    },
    "language_info": {
      "name": "python"
    },
    "accelerator": "GPU"
  },
  "cells": [
    {
      "cell_type": "markdown",
      "metadata": {
        "id": "view-in-github",
        "colab_type": "text"
      },
      "source": [
        "<a href=\"https://colab.research.google.com/github/mayarachew/IronyDetectionInTweets/blob/main/irony_detection_EN_ulmfit.ipynb\" target=\"_parent\"><img src=\"https://colab.research.google.com/assets/colab-badge.svg\" alt=\"Open In Colab\"/></a>"
      ]
    },
    {
      "cell_type": "code",
      "source": [
        "from google.colab import drive\n",
        "drive.mount('/content/drive')"
      ],
      "metadata": {
        "id": "0ynl6j-HYKjd"
      },
      "execution_count": null,
      "outputs": []
    },
    {
      "cell_type": "code",
      "source": [
        "!pip install -U fastai\n",
        "!pip install fastcore\n",
        "!pip install -Uqq fastbook\n",
        "\n",
        "import fastbook\n",
        "\n",
        "fastbook.setup_book()"
      ],
      "metadata": {
        "id": "C6VCKQH0aU1F"
      },
      "execution_count": null,
      "outputs": []
    },
    {
      "cell_type": "code",
      "source": [
        "!cp -r \"/content/drive/My Drive/sentiment_analysis/irony_detection_EN_taskA\" \"irony_detection_EN\"\n",
        "!cp -r \"/content/drive/My Drive/sentiment_analysis/irony_detection_pt2\" \"irony_detection_pt2\""
      ],
      "metadata": {
        "id": "ejL9Hu0BYPjO"
      },
      "execution_count": null,
      "outputs": []
    },
    {
      "cell_type": "code",
      "execution_count": null,
      "metadata": {
        "id": "ZBftUHuAUJ6a"
      },
      "outputs": [],
      "source": [
        "import pandas as pd\n",
        "import numpy as np\n",
        "import seaborn as sns\n",
        "import matplotlib as plt\n",
        "import itertools\n",
        "import nltk\n",
        "from nltk.corpus import stopwords\n",
        "from fastai.text.data import *\n",
        "from fastai import *\n",
        "from fastai.basics import *\n",
        "from fastbook import *\n",
        "from fastai.text.all import *\n",
        "from IPython.display import display,HTML\n",
        "from sklearn.metrics import classification_report\n",
        "from sklearn.metrics import confusion_matrix"
      ]
    },
    {
      "cell_type": "markdown",
      "source": [
        "Path variables"
      ],
      "metadata": {
        "id": "SdIMYn46dNZR"
      }
    },
    {
      "cell_type": "code",
      "source": [
        "path = Path(\"/content/gdrive/MyDrive/sentiment_analysis/irony_detection_EN_taskA/\")"
      ],
      "metadata": {
        "id": "JyxQs_DWdNlY"
      },
      "execution_count": null,
      "outputs": []
    },
    {
      "cell_type": "markdown",
      "source": [
        "Hyperparameters"
      ],
      "metadata": {
        "id": "fHSIVpifilmt"
      }
    },
    {
      "cell_type": "code",
      "source": [
        "n_epochs = 5\n",
        "SEED = 10\n",
        "debug = 0"
      ],
      "metadata": {
        "id": "MGOC9w7Xim1k"
      },
      "execution_count": null,
      "outputs": []
    },
    {
      "cell_type": "code",
      "source": [
        "df_train = pd.read_csv(path/\"SemEval2018-T3-train-taskA.txt\", sep='\\t',encoding=\"UTF-8\",low_memory = False)\n",
        "df_valid = pd.read_csv(path/\"SemEval2018-T3-valid-taskA.txt\", sep='\\t',encoding=\"UTF-8\",low_memory = False)\n",
        "df_test = pd.read_csv(path/\"SemEval2018-T3_gold_test_taskA_emoji.txt\", sep='\\t',encoding=\"UTF-8\",low_memory = False)\n",
        "\n",
        "df_train .head()"
      ],
      "metadata": {
        "colab": {
          "base_uri": "https://localhost:8080/",
          "height": 206
        },
        "id": "4GEOzgUSYCJO",
        "outputId": "5cbbbd34-0d90-4d1b-da31-e79655fd80d8"
      },
      "execution_count": null,
      "outputs": [
        {
          "output_type": "execute_result",
          "data": {
            "text/html": [
              "\n",
              "  <div id=\"df-a87093c9-b2e7-4fc0-8024-bf563b6603ee\">\n",
              "    <div class=\"colab-df-container\">\n",
              "      <div>\n",
              "<style scoped>\n",
              "    .dataframe tbody tr th:only-of-type {\n",
              "        vertical-align: middle;\n",
              "    }\n",
              "\n",
              "    .dataframe tbody tr th {\n",
              "        vertical-align: top;\n",
              "    }\n",
              "\n",
              "    .dataframe thead th {\n",
              "        text-align: right;\n",
              "    }\n",
              "</style>\n",
              "<table border=\"1\" class=\"dataframe\">\n",
              "  <thead>\n",
              "    <tr style=\"text-align: right;\">\n",
              "      <th></th>\n",
              "      <th>Tweet index</th>\n",
              "      <th>Tweet text</th>\n",
              "      <th>Label</th>\n",
              "    </tr>\n",
              "  </thead>\n",
              "  <tbody>\n",
              "    <tr>\n",
              "      <th>0</th>\n",
              "      <td>2248</td>\n",
              "      <td>Beautiful day</td>\n",
              "      <td>1</td>\n",
              "    </tr>\n",
              "    <tr>\n",
              "      <th>1</th>\n",
              "      <td>156</td>\n",
              "      <td>@Moose_eBooks You seriously bought a giant TV to play in the box?</td>\n",
              "      <td>0</td>\n",
              "    </tr>\n",
              "    <tr>\n",
              "      <th>2</th>\n",
              "      <td>2831</td>\n",
              "      <td>@NewDay: .@JebBush considering a run for the @WhiteHouse: http://t.co/nq5JO2ZrQ6 #5Things http://t.co/HC74bNlZuT &lt;shocking&gt; &lt;&gt;</td>\n",
              "      <td>1</td>\n",
              "    </tr>\n",
              "    <tr>\n",
              "      <th>3</th>\n",
              "      <td>842</td>\n",
              "      <td>a bad game last night. Way to go Packers! http://t.co/9vvSvsEnmF</td>\n",
              "      <td>0</td>\n",
              "    </tr>\n",
              "    <tr>\n",
              "      <th>4</th>\n",
              "      <td>20</td>\n",
              "      <td>But @DarklightDave was trying to find us, and my battery died. Guess how he found us? Yes, that bastard wand! !!!!!</td>\n",
              "      <td>1</td>\n",
              "    </tr>\n",
              "  </tbody>\n",
              "</table>\n",
              "</div>\n",
              "      <button class=\"colab-df-convert\" onclick=\"convertToInteractive('df-a87093c9-b2e7-4fc0-8024-bf563b6603ee')\"\n",
              "              title=\"Convert this dataframe to an interactive table.\"\n",
              "              style=\"display:none;\">\n",
              "        \n",
              "  <svg xmlns=\"http://www.w3.org/2000/svg\" height=\"24px\"viewBox=\"0 0 24 24\"\n",
              "       width=\"24px\">\n",
              "    <path d=\"M0 0h24v24H0V0z\" fill=\"none\"/>\n",
              "    <path d=\"M18.56 5.44l.94 2.06.94-2.06 2.06-.94-2.06-.94-.94-2.06-.94 2.06-2.06.94zm-11 1L8.5 8.5l.94-2.06 2.06-.94-2.06-.94L8.5 2.5l-.94 2.06-2.06.94zm10 10l.94 2.06.94-2.06 2.06-.94-2.06-.94-.94-2.06-.94 2.06-2.06.94z\"/><path d=\"M17.41 7.96l-1.37-1.37c-.4-.4-.92-.59-1.43-.59-.52 0-1.04.2-1.43.59L10.3 9.45l-7.72 7.72c-.78.78-.78 2.05 0 2.83L4 21.41c.39.39.9.59 1.41.59.51 0 1.02-.2 1.41-.59l7.78-7.78 2.81-2.81c.8-.78.8-2.07 0-2.86zM5.41 20L4 18.59l7.72-7.72 1.47 1.35L5.41 20z\"/>\n",
              "  </svg>\n",
              "      </button>\n",
              "      \n",
              "  <style>\n",
              "    .colab-df-container {\n",
              "      display:flex;\n",
              "      flex-wrap:wrap;\n",
              "      gap: 12px;\n",
              "    }\n",
              "\n",
              "    .colab-df-convert {\n",
              "      background-color: #E8F0FE;\n",
              "      border: none;\n",
              "      border-radius: 50%;\n",
              "      cursor: pointer;\n",
              "      display: none;\n",
              "      fill: #1967D2;\n",
              "      height: 32px;\n",
              "      padding: 0 0 0 0;\n",
              "      width: 32px;\n",
              "    }\n",
              "\n",
              "    .colab-df-convert:hover {\n",
              "      background-color: #E2EBFA;\n",
              "      box-shadow: 0px 1px 2px rgba(60, 64, 67, 0.3), 0px 1px 3px 1px rgba(60, 64, 67, 0.15);\n",
              "      fill: #174EA6;\n",
              "    }\n",
              "\n",
              "    [theme=dark] .colab-df-convert {\n",
              "      background-color: #3B4455;\n",
              "      fill: #D2E3FC;\n",
              "    }\n",
              "\n",
              "    [theme=dark] .colab-df-convert:hover {\n",
              "      background-color: #434B5C;\n",
              "      box-shadow: 0px 1px 3px 1px rgba(0, 0, 0, 0.15);\n",
              "      filter: drop-shadow(0px 1px 2px rgba(0, 0, 0, 0.3));\n",
              "      fill: #FFFFFF;\n",
              "    }\n",
              "  </style>\n",
              "\n",
              "      <script>\n",
              "        const buttonEl =\n",
              "          document.querySelector('#df-a87093c9-b2e7-4fc0-8024-bf563b6603ee button.colab-df-convert');\n",
              "        buttonEl.style.display =\n",
              "          google.colab.kernel.accessAllowed ? 'block' : 'none';\n",
              "\n",
              "        async function convertToInteractive(key) {\n",
              "          const element = document.querySelector('#df-a87093c9-b2e7-4fc0-8024-bf563b6603ee');\n",
              "          const dataTable =\n",
              "            await google.colab.kernel.invokeFunction('convertToInteractive',\n",
              "                                                     [key], {});\n",
              "          if (!dataTable) return;\n",
              "\n",
              "          const docLinkHtml = 'Like what you see? Visit the ' +\n",
              "            '<a target=\"_blank\" href=https://colab.research.google.com/notebooks/data_table.ipynb>data table notebook</a>'\n",
              "            + ' to learn more about interactive tables.';\n",
              "          element.innerHTML = '';\n",
              "          dataTable['output_type'] = 'display_data';\n",
              "          await google.colab.output.renderOutput(dataTable, element);\n",
              "          const docLink = document.createElement('div');\n",
              "          docLink.innerHTML = docLinkHtml;\n",
              "          element.appendChild(docLink);\n",
              "        }\n",
              "      </script>\n",
              "    </div>\n",
              "  </div>\n",
              "  "
            ],
            "text/plain": [
              "   Tweet index  \\\n",
              "0         2248   \n",
              "1          156   \n",
              "2         2831   \n",
              "3          842   \n",
              "4           20   \n",
              "\n",
              "                                                                                                                       Tweet text  \\\n",
              "0                                                                                                                  Beautiful day    \n",
              "1                                                               @Moose_eBooks You seriously bought a giant TV to play in the box?   \n",
              "2  @NewDay: .@JebBush considering a run for the @WhiteHouse: http://t.co/nq5JO2ZrQ6 #5Things http://t.co/HC74bNlZuT <shocking> <>   \n",
              "3                                                                a bad game last night. Way to go Packers! http://t.co/9vvSvsEnmF   \n",
              "4             But @DarklightDave was trying to find us, and my battery died. Guess how he found us? Yes, that bastard wand! !!!!!   \n",
              "\n",
              "   Label  \n",
              "0      1  \n",
              "1      0  \n",
              "2      1  \n",
              "3      0  \n",
              "4      1  "
            ]
          },
          "metadata": {},
          "execution_count": 28
        }
      ]
    },
    {
      "cell_type": "markdown",
      "source": [
        "Preprocessing of the Dataframe: some shit going on with Fastai"
      ],
      "metadata": {
        "id": "Achb8ePjG_G5"
      }
    },
    {
      "cell_type": "code",
      "source": [
        "# Add a is_valid colum. The ColSplitter() function below expects this column.\n",
        "df_valid['is_valid'] = True\n",
        "\n",
        "# Add a is_valid colum\n",
        "df_train['is_valid'] = False"
      ],
      "metadata": {
        "id": "96F-kqNLHD54"
      },
      "execution_count": null,
      "outputs": []
    },
    {
      "cell_type": "code",
      "source": [
        "# Stack the two dataframes into one.\n",
        "df = pd.concat([df_train,df_valid], ignore_index=True)\n",
        "df.head()"
      ],
      "metadata": {
        "colab": {
          "base_uri": "https://localhost:8080/",
          "height": 206
        },
        "id": "-nQ7xQ7JHMXh",
        "outputId": "2bc66fb8-20ff-4f2e-800d-1635d561f33c"
      },
      "execution_count": null,
      "outputs": [
        {
          "output_type": "execute_result",
          "data": {
            "text/html": [
              "\n",
              "  <div id=\"df-47a15b7c-7041-4ad3-99e8-ff07bdc6017e\">\n",
              "    <div class=\"colab-df-container\">\n",
              "      <div>\n",
              "<style scoped>\n",
              "    .dataframe tbody tr th:only-of-type {\n",
              "        vertical-align: middle;\n",
              "    }\n",
              "\n",
              "    .dataframe tbody tr th {\n",
              "        vertical-align: top;\n",
              "    }\n",
              "\n",
              "    .dataframe thead th {\n",
              "        text-align: right;\n",
              "    }\n",
              "</style>\n",
              "<table border=\"1\" class=\"dataframe\">\n",
              "  <thead>\n",
              "    <tr style=\"text-align: right;\">\n",
              "      <th></th>\n",
              "      <th>Tweet index</th>\n",
              "      <th>Tweet text</th>\n",
              "      <th>Label</th>\n",
              "      <th>is_valid</th>\n",
              "    </tr>\n",
              "  </thead>\n",
              "  <tbody>\n",
              "    <tr>\n",
              "      <th>0</th>\n",
              "      <td>2248</td>\n",
              "      <td>Beautiful day</td>\n",
              "      <td>1</td>\n",
              "      <td>False</td>\n",
              "    </tr>\n",
              "    <tr>\n",
              "      <th>1</th>\n",
              "      <td>156</td>\n",
              "      <td>@Moose_eBooks You seriously bought a giant TV to play in the box?</td>\n",
              "      <td>0</td>\n",
              "      <td>False</td>\n",
              "    </tr>\n",
              "    <tr>\n",
              "      <th>2</th>\n",
              "      <td>2831</td>\n",
              "      <td>@NewDay: .@JebBush considering a run for the @WhiteHouse: http://t.co/nq5JO2ZrQ6 #5Things http://t.co/HC74bNlZuT &lt;shocking&gt; &lt;&gt;</td>\n",
              "      <td>1</td>\n",
              "      <td>False</td>\n",
              "    </tr>\n",
              "    <tr>\n",
              "      <th>3</th>\n",
              "      <td>842</td>\n",
              "      <td>a bad game last night. Way to go Packers! http://t.co/9vvSvsEnmF</td>\n",
              "      <td>0</td>\n",
              "      <td>False</td>\n",
              "    </tr>\n",
              "    <tr>\n",
              "      <th>4</th>\n",
              "      <td>20</td>\n",
              "      <td>But @DarklightDave was trying to find us, and my battery died. Guess how he found us? Yes, that bastard wand! !!!!!</td>\n",
              "      <td>1</td>\n",
              "      <td>False</td>\n",
              "    </tr>\n",
              "  </tbody>\n",
              "</table>\n",
              "</div>\n",
              "      <button class=\"colab-df-convert\" onclick=\"convertToInteractive('df-47a15b7c-7041-4ad3-99e8-ff07bdc6017e')\"\n",
              "              title=\"Convert this dataframe to an interactive table.\"\n",
              "              style=\"display:none;\">\n",
              "        \n",
              "  <svg xmlns=\"http://www.w3.org/2000/svg\" height=\"24px\"viewBox=\"0 0 24 24\"\n",
              "       width=\"24px\">\n",
              "    <path d=\"M0 0h24v24H0V0z\" fill=\"none\"/>\n",
              "    <path d=\"M18.56 5.44l.94 2.06.94-2.06 2.06-.94-2.06-.94-.94-2.06-.94 2.06-2.06.94zm-11 1L8.5 8.5l.94-2.06 2.06-.94-2.06-.94L8.5 2.5l-.94 2.06-2.06.94zm10 10l.94 2.06.94-2.06 2.06-.94-2.06-.94-.94-2.06-.94 2.06-2.06.94z\"/><path d=\"M17.41 7.96l-1.37-1.37c-.4-.4-.92-.59-1.43-.59-.52 0-1.04.2-1.43.59L10.3 9.45l-7.72 7.72c-.78.78-.78 2.05 0 2.83L4 21.41c.39.39.9.59 1.41.59.51 0 1.02-.2 1.41-.59l7.78-7.78 2.81-2.81c.8-.78.8-2.07 0-2.86zM5.41 20L4 18.59l7.72-7.72 1.47 1.35L5.41 20z\"/>\n",
              "  </svg>\n",
              "      </button>\n",
              "      \n",
              "  <style>\n",
              "    .colab-df-container {\n",
              "      display:flex;\n",
              "      flex-wrap:wrap;\n",
              "      gap: 12px;\n",
              "    }\n",
              "\n",
              "    .colab-df-convert {\n",
              "      background-color: #E8F0FE;\n",
              "      border: none;\n",
              "      border-radius: 50%;\n",
              "      cursor: pointer;\n",
              "      display: none;\n",
              "      fill: #1967D2;\n",
              "      height: 32px;\n",
              "      padding: 0 0 0 0;\n",
              "      width: 32px;\n",
              "    }\n",
              "\n",
              "    .colab-df-convert:hover {\n",
              "      background-color: #E2EBFA;\n",
              "      box-shadow: 0px 1px 2px rgba(60, 64, 67, 0.3), 0px 1px 3px 1px rgba(60, 64, 67, 0.15);\n",
              "      fill: #174EA6;\n",
              "    }\n",
              "\n",
              "    [theme=dark] .colab-df-convert {\n",
              "      background-color: #3B4455;\n",
              "      fill: #D2E3FC;\n",
              "    }\n",
              "\n",
              "    [theme=dark] .colab-df-convert:hover {\n",
              "      background-color: #434B5C;\n",
              "      box-shadow: 0px 1px 3px 1px rgba(0, 0, 0, 0.15);\n",
              "      filter: drop-shadow(0px 1px 2px rgba(0, 0, 0, 0.3));\n",
              "      fill: #FFFFFF;\n",
              "    }\n",
              "  </style>\n",
              "\n",
              "      <script>\n",
              "        const buttonEl =\n",
              "          document.querySelector('#df-47a15b7c-7041-4ad3-99e8-ff07bdc6017e button.colab-df-convert');\n",
              "        buttonEl.style.display =\n",
              "          google.colab.kernel.accessAllowed ? 'block' : 'none';\n",
              "\n",
              "        async function convertToInteractive(key) {\n",
              "          const element = document.querySelector('#df-47a15b7c-7041-4ad3-99e8-ff07bdc6017e');\n",
              "          const dataTable =\n",
              "            await google.colab.kernel.invokeFunction('convertToInteractive',\n",
              "                                                     [key], {});\n",
              "          if (!dataTable) return;\n",
              "\n",
              "          const docLinkHtml = 'Like what you see? Visit the ' +\n",
              "            '<a target=\"_blank\" href=https://colab.research.google.com/notebooks/data_table.ipynb>data table notebook</a>'\n",
              "            + ' to learn more about interactive tables.';\n",
              "          element.innerHTML = '';\n",
              "          dataTable['output_type'] = 'display_data';\n",
              "          await google.colab.output.renderOutput(dataTable, element);\n",
              "          const docLink = document.createElement('div');\n",
              "          docLink.innerHTML = docLinkHtml;\n",
              "          element.appendChild(docLink);\n",
              "        }\n",
              "      </script>\n",
              "    </div>\n",
              "  </div>\n",
              "  "
            ],
            "text/plain": [
              "   Tweet index  \\\n",
              "0         2248   \n",
              "1          156   \n",
              "2         2831   \n",
              "3          842   \n",
              "4           20   \n",
              "\n",
              "                                                                                                                       Tweet text  \\\n",
              "0                                                                                                                  Beautiful day    \n",
              "1                                                               @Moose_eBooks You seriously bought a giant TV to play in the box?   \n",
              "2  @NewDay: .@JebBush considering a run for the @WhiteHouse: http://t.co/nq5JO2ZrQ6 #5Things http://t.co/HC74bNlZuT <shocking> <>   \n",
              "3                                                                a bad game last night. Way to go Packers! http://t.co/9vvSvsEnmF   \n",
              "4             But @DarklightDave was trying to find us, and my battery died. Guess how he found us? Yes, that bastard wand! !!!!!   \n",
              "\n",
              "   Label  is_valid  \n",
              "0      1     False  \n",
              "1      0     False  \n",
              "2      1     False  \n",
              "3      0     False  \n",
              "4      1     False  "
            ]
          },
          "metadata": {},
          "execution_count": 30
        }
      ]
    },
    {
      "cell_type": "code",
      "source": [
        "db_lm = DataBlock(\n",
        "        blocks=TextBlock.from_df('Tweet text',  seq_len=50, is_lm=True),\n",
        "        get_x=ColReader('text'), #sempre eh 'text'\n",
        "        splitter=ColSplitter())\n",
        "\n",
        "dls_lm = db_lm.dataloaders(df, bs=32) #64, 128\n",
        "dls_lm.show_batch(max_n=3)"
      ],
      "metadata": {
        "colab": {
          "base_uri": "https://localhost:8080/",
          "height": 213
        },
        "id": "nu2DYqEUYGG8",
        "outputId": "7d25dd5e-54b3-4407-ec93-a6224c87afc2"
      },
      "execution_count": null,
      "outputs": [
        {
          "output_type": "display_data",
          "data": {
            "text/html": [
              ""
            ],
            "text/plain": [
              "<IPython.core.display.HTML object>"
            ]
          },
          "metadata": {}
        },
        {
          "output_type": "display_data",
          "data": {
            "text/html": [
              "<table border=\"1\" class=\"dataframe\">\n",
              "  <thead>\n",
              "    <tr style=\"text-align: right;\">\n",
              "      <th></th>\n",
              "      <th>text</th>\n",
              "      <th>text_</th>\n",
              "    </tr>\n",
              "  </thead>\n",
              "  <tbody>\n",
              "    <tr>\n",
              "      <th>0</th>\n",
              "      <td>xxbos 3 xxmaj but xxunk xxmaj girl xxmaj friends - # xxunk xxmaj xxunk xxmaj movies http : / / t.co / xxunk xxbos xxunk : \" xxmaj it 's the xxunk semester of my first year … \" # xxunk # xxunk xxbos xxunk xxmaj great job on xxunk</td>\n",
              "      <td>3 xxmaj but xxunk xxmaj girl xxmaj friends - # xxunk xxmaj xxunk xxmaj movies http : / / t.co / xxunk xxbos xxunk : \" xxmaj it 's the xxunk semester of my first year … \" # xxunk # xxunk xxbos xxunk xxmaj great job on xxunk on</td>\n",
              "    </tr>\n",
              "    <tr>\n",
              "      <th>1</th>\n",
              "      <td>/ xxunk # xxmaj israel xxbos # xxmaj xxunk # xxmaj mom # xxmaj xxunk # xxmaj xxunk # xxmaj xxunk # xxmaj by # xxmaj reason # of # xxmaj xxunk : # xxmaj judge : a xxmaj florida judge ruled xxmaj friday that … http : / /</td>\n",
              "      <td>xxunk # xxmaj israel xxbos # xxmaj xxunk # xxmaj mom # xxmaj xxunk # xxmaj xxunk # xxmaj xxunk # xxmaj by # xxmaj reason # of # xxmaj xxunk : # xxmaj judge : a xxmaj florida judge ruled xxmaj friday that … http : / / t.co</td>\n",
              "    </tr>\n",
              "    <tr>\n",
              "      <th>2</th>\n",
              "      <td>xxunk xxbos xxunk xxunk xxmaj as a xxmaj red xxmaj sox xxunk , i can xxunk for xxmaj xxunk as a xxunk leader . xxmaj such a fun xxunk . xxbos says women &amp; blacks are a different \" xxunk \" @dolphin__man @rbrnetwork1 xxunk @timowensby @theoldbreed1775 xxbos xxunk yeah in</td>\n",
              "      <td>xxbos xxunk xxunk xxmaj as a xxmaj red xxmaj sox xxunk , i can xxunk for xxmaj xxunk as a xxunk leader . xxmaj such a fun xxunk . xxbos says women &amp; blacks are a different \" xxunk \" @dolphin__man @rbrnetwork1 xxunk @timowensby @theoldbreed1775 xxbos xxunk yeah in the</td>\n",
              "    </tr>\n",
              "  </tbody>\n",
              "</table>"
            ],
            "text/plain": [
              "<IPython.core.display.HTML object>"
            ]
          },
          "metadata": {}
        }
      ]
    },
    {
      "cell_type": "code",
      "source": [
        "learn = language_model_learner(dls_lm, AWD_LSTM, drop_mult=0.3,metrics=accuracy)\n",
        "learn.fit_one_cycle(1, 1e-2)\n",
        "learn.unfreeze()\n",
        "learn.fit_one_cycle(1, 1e-3)"
      ],
      "metadata": {
        "colab": {
          "base_uri": "https://localhost:8080/",
          "height": 144
        },
        "id": "VqQj192zZbtx",
        "outputId": "99836080-8040-4ce2-b549-0d5878213754"
      },
      "execution_count": null,
      "outputs": [
        {
          "output_type": "display_data",
          "data": {
            "text/html": [
              "<table border=\"1\" class=\"dataframe\">\n",
              "  <thead>\n",
              "    <tr style=\"text-align: left;\">\n",
              "      <th>epoch</th>\n",
              "      <th>train_loss</th>\n",
              "      <th>valid_loss</th>\n",
              "      <th>accuracy</th>\n",
              "      <th>time</th>\n",
              "    </tr>\n",
              "  </thead>\n",
              "  <tbody>\n",
              "    <tr>\n",
              "      <td>0</td>\n",
              "      <td>4.286803</td>\n",
              "      <td>3.998437</td>\n",
              "      <td>0.280764</td>\n",
              "      <td>00:10</td>\n",
              "    </tr>\n",
              "  </tbody>\n",
              "</table>"
            ],
            "text/plain": [
              "<IPython.core.display.HTML object>"
            ]
          },
          "metadata": {}
        },
        {
          "output_type": "display_data",
          "data": {
            "text/html": [
              "<table border=\"1\" class=\"dataframe\">\n",
              "  <thead>\n",
              "    <tr style=\"text-align: left;\">\n",
              "      <th>epoch</th>\n",
              "      <th>train_loss</th>\n",
              "      <th>valid_loss</th>\n",
              "      <th>accuracy</th>\n",
              "      <th>time</th>\n",
              "    </tr>\n",
              "  </thead>\n",
              "  <tbody>\n",
              "    <tr>\n",
              "      <td>0</td>\n",
              "      <td>3.562705</td>\n",
              "      <td>3.665323</td>\n",
              "      <td>0.319097</td>\n",
              "      <td>00:11</td>\n",
              "    </tr>\n",
              "  </tbody>\n",
              "</table>"
            ],
            "text/plain": [
              "<IPython.core.display.HTML object>"
            ]
          },
          "metadata": {}
        }
      ]
    },
    {
      "cell_type": "markdown",
      "source": [
        "Runs the algorithm for finding the learning rate"
      ],
      "metadata": {
        "id": "92wOR0VPj4nt"
      }
    },
    {
      "cell_type": "code",
      "source": [
        "learn.lr_find();"
      ],
      "metadata": {
        "colab": {
          "base_uri": "https://localhost:8080/",
          "height": 289
        },
        "id": "Mg-40MZO_0xa",
        "outputId": "cccc4291-c6fe-4197-92a0-bda4975b8bca"
      },
      "execution_count": null,
      "outputs": [
        {
          "output_type": "display_data",
          "data": {
            "text/html": [
              ""
            ],
            "text/plain": [
              "<IPython.core.display.HTML object>"
            ]
          },
          "metadata": {}
        },
        {
          "output_type": "display_data",
          "data": {
            "image/png": "[encoded data removed]",
            "text/plain": [
              "<Figure size 432x288 with 1 Axes>"
            ]
          },
          "metadata": {
            "needs_background": "light"
          }
        }
      ]
    },
    {
      "cell_type": "code",
      "source": [
        "learn.fit_one_cycle(5,0.001)"
      ],
      "metadata": {
        "colab": {
          "base_uri": "https://localhost:8080/",
          "height": 206
        },
        "id": "8-qoFytEAAyh",
        "outputId": "2518a9bb-f103-425d-b499-fbf4d58145eb"
      },
      "execution_count": null,
      "outputs": [
        {
          "output_type": "display_data",
          "data": {
            "text/html": [
              "<table border=\"1\" class=\"dataframe\">\n",
              "  <thead>\n",
              "    <tr style=\"text-align: left;\">\n",
              "      <th>epoch</th>\n",
              "      <th>train_loss</th>\n",
              "      <th>valid_loss</th>\n",
              "      <th>accuracy</th>\n",
              "      <th>time</th>\n",
              "    </tr>\n",
              "  </thead>\n",
              "  <tbody>\n",
              "    <tr>\n",
              "      <td>0</td>\n",
              "      <td>3.330883</td>\n",
              "      <td>3.640079</td>\n",
              "      <td>0.325903</td>\n",
              "      <td>00:11</td>\n",
              "    </tr>\n",
              "    <tr>\n",
              "      <td>1</td>\n",
              "      <td>3.254189</td>\n",
              "      <td>3.623593</td>\n",
              "      <td>0.324653</td>\n",
              "      <td>00:11</td>\n",
              "    </tr>\n",
              "    <tr>\n",
              "      <td>2</td>\n",
              "      <td>3.018371</td>\n",
              "      <td>3.680675</td>\n",
              "      <td>0.315347</td>\n",
              "      <td>00:11</td>\n",
              "    </tr>\n",
              "    <tr>\n",
              "      <td>3</td>\n",
              "      <td>2.710672</td>\n",
              "      <td>3.834084</td>\n",
              "      <td>0.311319</td>\n",
              "      <td>00:12</td>\n",
              "    </tr>\n",
              "    <tr>\n",
              "      <td>4</td>\n",
              "      <td>2.450310</td>\n",
              "      <td>3.926932</td>\n",
              "      <td>0.308750</td>\n",
              "      <td>00:11</td>\n",
              "    </tr>\n",
              "  </tbody>\n",
              "</table>"
            ],
            "text/plain": [
              "<IPython.core.display.HTML object>"
            ]
          },
          "metadata": {}
        }
      ]
    },
    {
      "cell_type": "code",
      "source": [
        "learn.unfreeze()\n",
        "learn.fit_one_cycle(5, 0.05)"
      ],
      "metadata": {
        "colab": {
          "base_uri": "https://localhost:8080/",
          "height": 206
        },
        "id": "iwA34op3ARRO",
        "outputId": "70d9e3e4-86a3-46a6-d476-3e2179907566"
      },
      "execution_count": null,
      "outputs": [
        {
          "output_type": "display_data",
          "data": {
            "text/html": [
              "<table border=\"1\" class=\"dataframe\">\n",
              "  <thead>\n",
              "    <tr style=\"text-align: left;\">\n",
              "      <th>epoch</th>\n",
              "      <th>train_loss</th>\n",
              "      <th>valid_loss</th>\n",
              "      <th>accuracy</th>\n",
              "      <th>time</th>\n",
              "    </tr>\n",
              "  </thead>\n",
              "  <tbody>\n",
              "    <tr>\n",
              "      <td>0</td>\n",
              "      <td>3.513954</td>\n",
              "      <td>4.048078</td>\n",
              "      <td>0.275972</td>\n",
              "      <td>00:11</td>\n",
              "    </tr>\n",
              "    <tr>\n",
              "      <td>1</td>\n",
              "      <td>3.729149</td>\n",
              "      <td>3.930224</td>\n",
              "      <td>0.297708</td>\n",
              "      <td>00:11</td>\n",
              "    </tr>\n",
              "    <tr>\n",
              "      <td>2</td>\n",
              "      <td>3.622025</td>\n",
              "      <td>3.915103</td>\n",
              "      <td>0.291319</td>\n",
              "      <td>00:11</td>\n",
              "    </tr>\n",
              "    <tr>\n",
              "      <td>3</td>\n",
              "      <td>3.374561</td>\n",
              "      <td>3.878287</td>\n",
              "      <td>0.308056</td>\n",
              "      <td>00:11</td>\n",
              "    </tr>\n",
              "    <tr>\n",
              "      <td>4</td>\n",
              "      <td>2.910490</td>\n",
              "      <td>4.057989</td>\n",
              "      <td>0.304375</td>\n",
              "      <td>00:11</td>\n",
              "    </tr>\n",
              "  </tbody>\n",
              "</table>"
            ],
            "text/plain": [
              "<IPython.core.display.HTML object>"
            ]
          },
          "metadata": {}
        }
      ]
    },
    {
      "cell_type": "markdown",
      "source": [
        "Predict the next 10 words:"
      ],
      "metadata": {
        "id": "UNfTo61TjPzx"
      }
    },
    {
      "cell_type": "code",
      "source": [
        "TEXT = \"What are we \"; N_WORDS = 10; N_SENTENCES = 2; \n",
        "preds = [learn.predict(TEXT, N_WORDS, temperature=0.75) for _ in range(N_SENTENCES)]\n",
        "print(\"\\n\".join(preds))"
      ],
      "metadata": {
        "colab": {
          "base_uri": "https://localhost:8080/",
          "height": 52
        },
        "id": "pE2bKOjAjP8J",
        "outputId": "c0f63228-0651-4039-afbd-c722970a74ba"
      },
      "execution_count": null,
      "outputs": [
        {
          "output_type": "display_data",
          "data": {
            "text/html": [
              ""
            ],
            "text/plain": [
              "<IPython.core.display.HTML object>"
            ]
          },
          "metadata": {}
        },
        {
          "output_type": "display_data",
          "data": {
            "text/html": [
              ""
            ],
            "text/plain": [
              "<IPython.core.display.HTML object>"
            ]
          },
          "metadata": {}
        },
        {
          "output_type": "stream",
          "name": "stdout",
          "text": [
            "What are we allowed to get 100 free followers ! # Gharwapsi\n",
            "What are we Wrong ? Get ready for the next\n"
          ]
        }
      ]
    },
    {
      "cell_type": "markdown",
      "source": [
        "Save the encoder"
      ],
      "metadata": {
        "id": "rJab_BTLCTRK"
      }
    },
    {
      "cell_type": "code",
      "source": [
        "learn.save_encoder('irony_enc')"
      ],
      "metadata": {
        "id": "gNXgt6dzklHz"
      },
      "execution_count": null,
      "outputs": []
    },
    {
      "cell_type": "markdown",
      "source": [
        "Training the classifier using the language model"
      ],
      "metadata": {
        "id": "O0-VH0RsmJA9"
      }
    },
    {
      "cell_type": "code",
      "source": [
        "#dls_clas = DataBlock(\n",
        "#    blocks=(TextBlock.from_df('Tweet text',vocab=dls_lm.vocab),CategoryBlock),\n",
        "#    get_x=ColReader('text'),\n",
        "#    get_y=ColReader('label'),\n",
        "#    splitter=ColSplitter())\n",
        "#).dataloaders(df, bs=64)\n",
        "\n",
        "clas = DataBlock(\n",
        "    blocks=(TextBlock.from_df('Tweet text', vocab=dls_lm.vocab, seq_len=50),CategoryBlock),\n",
        "    get_x=ColReader('text'),\n",
        "    get_y = ColReader('Label'),\n",
        "    splitter=ColSplitter())\n",
        "dls_clas = clas.dataloaders(df, bs=32)"
      ],
      "metadata": {
        "colab": {
          "base_uri": "https://localhost:8080/",
          "height": 17
        },
        "id": "SMy-fqiUHoyU",
        "outputId": "bd5b93c3-6cac-41f5-a1e6-ff048b16dd37"
      },
      "execution_count": null,
      "outputs": [
        {
          "output_type": "display_data",
          "data": {
            "text/html": [
              ""
            ],
            "text/plain": [
              "<IPython.core.display.HTML object>"
            ]
          },
          "metadata": {}
        }
      ]
    },
    {
      "cell_type": "markdown",
      "source": [
        "Carrega"
      ],
      "metadata": {
        "id": "LGcnAfvIXAGh"
      }
    },
    {
      "cell_type": "code",
      "source": [
        "class_learn = text_classifier_learner(dls_clas, AWD_LSTM, drop_mult=0.3,metrics=accuracy)\n",
        "class_learn.load_encoder('irony_enc')"
      ],
      "metadata": {
        "colab": {
          "base_uri": "https://localhost:8080/"
        },
        "id": "Iv8YaS3_XBRI",
        "outputId": "bf2c9659-11e1-43f8-c294-a2eecdcc5402"
      },
      "execution_count": null,
      "outputs": [
        {
          "output_type": "execute_result",
          "data": {
            "text/plain": [
              "<fastai.text.learner.TextLearner at 0x7f6af2318ad0>"
            ]
          },
          "metadata": {},
          "execution_count": 39
        }
      ]
    },
    {
      "cell_type": "code",
      "source": [
        "print(\"Fitting Classifier Object\")\n",
        "class_learn.fit_one_cycle(1, 1e-2)\n",
        "print(\"Fitting Classifier Object after freezing all but last 2 layers\")\n",
        "class_learn.freeze_to(-2)\n",
        "class_learn.fit_one_cycle(1, slice(5e-3/2., 5e-3))\n",
        "print(\"Fitting Classifier Object - discriminative learning\")\n",
        "class_learn.unfreeze()\n",
        "class_learn.fit_one_cycle(1, slice(2e-3/100, 2e-3))\n"
      ],
      "metadata": {
        "colab": {
          "base_uri": "https://localhost:8080/",
          "height": 260
        },
        "id": "FVhMHsF5j3hV",
        "outputId": "214b2131-dd8f-4297-9328-d03a190d90da"
      },
      "execution_count": null,
      "outputs": [
        {
          "output_type": "stream",
          "name": "stdout",
          "text": [
            "Fitting Classifier Object\n"
          ]
        },
        {
          "output_type": "display_data",
          "data": {
            "text/html": [
              "<table border=\"1\" class=\"dataframe\">\n",
              "  <thead>\n",
              "    <tr style=\"text-align: left;\">\n",
              "      <th>epoch</th>\n",
              "      <th>train_loss</th>\n",
              "      <th>valid_loss</th>\n",
              "      <th>accuracy</th>\n",
              "      <th>time</th>\n",
              "    </tr>\n",
              "  </thead>\n",
              "  <tbody>\n",
              "    <tr>\n",
              "      <td>0</td>\n",
              "      <td>0.664405</td>\n",
              "      <td>0.642668</td>\n",
              "      <td>0.625205</td>\n",
              "      <td>00:07</td>\n",
              "    </tr>\n",
              "  </tbody>\n",
              "</table>"
            ],
            "text/plain": [
              "<IPython.core.display.HTML object>"
            ]
          },
          "metadata": {}
        },
        {
          "output_type": "stream",
          "name": "stdout",
          "text": [
            "Fitting Classifier Object after freezing all but last 2 layers\n"
          ]
        },
        {
          "output_type": "display_data",
          "data": {
            "text/html": [
              "<table border=\"1\" class=\"dataframe\">\n",
              "  <thead>\n",
              "    <tr style=\"text-align: left;\">\n",
              "      <th>epoch</th>\n",
              "      <th>train_loss</th>\n",
              "      <th>valid_loss</th>\n",
              "      <th>accuracy</th>\n",
              "      <th>time</th>\n",
              "    </tr>\n",
              "  </thead>\n",
              "  <tbody>\n",
              "    <tr>\n",
              "      <td>0</td>\n",
              "      <td>0.625203</td>\n",
              "      <td>0.632466</td>\n",
              "      <td>0.628478</td>\n",
              "      <td>00:07</td>\n",
              "    </tr>\n",
              "  </tbody>\n",
              "</table>"
            ],
            "text/plain": [
              "<IPython.core.display.HTML object>"
            ]
          },
          "metadata": {}
        },
        {
          "output_type": "stream",
          "name": "stdout",
          "text": [
            "Fitting Classifier Object - discriminative learning\n"
          ]
        },
        {
          "output_type": "display_data",
          "data": {
            "text/html": [
              "<table border=\"1\" class=\"dataframe\">\n",
              "  <thead>\n",
              "    <tr style=\"text-align: left;\">\n",
              "      <th>epoch</th>\n",
              "      <th>train_loss</th>\n",
              "      <th>valid_loss</th>\n",
              "      <th>accuracy</th>\n",
              "      <th>time</th>\n",
              "    </tr>\n",
              "  </thead>\n",
              "  <tbody>\n",
              "    <tr>\n",
              "      <td>0</td>\n",
              "      <td>0.513570</td>\n",
              "      <td>0.642536</td>\n",
              "      <td>0.639935</td>\n",
              "      <td>00:10</td>\n",
              "    </tr>\n",
              "  </tbody>\n",
              "</table>"
            ],
            "text/plain": [
              "<IPython.core.display.HTML object>"
            ]
          },
          "metadata": {}
        }
      ]
    },
    {
      "cell_type": "code",
      "source": [
        "class_learn.fine_tune(10)"
      ],
      "metadata": {
        "colab": {
          "base_uri": "https://localhost:8080/",
          "height": 427
        },
        "id": "dQEY6I7cSZ4J",
        "outputId": "39628a03-9eef-417b-c5dc-cf4417d13206"
      },
      "execution_count": null,
      "outputs": [
        {
          "output_type": "display_data",
          "data": {
            "text/html": [
              "<table border=\"1\" class=\"dataframe\">\n",
              "  <thead>\n",
              "    <tr style=\"text-align: left;\">\n",
              "      <th>epoch</th>\n",
              "      <th>train_loss</th>\n",
              "      <th>valid_loss</th>\n",
              "      <th>accuracy</th>\n",
              "      <th>time</th>\n",
              "    </tr>\n",
              "  </thead>\n",
              "  <tbody>\n",
              "    <tr>\n",
              "      <td>0</td>\n",
              "      <td>0.456618</td>\n",
              "      <td>0.678839</td>\n",
              "      <td>0.618658</td>\n",
              "      <td>00:08</td>\n",
              "    </tr>\n",
              "  </tbody>\n",
              "</table>"
            ],
            "text/plain": [
              "<IPython.core.display.HTML object>"
            ]
          },
          "metadata": {}
        },
        {
          "output_type": "display_data",
          "data": {
            "text/html": [
              "<table border=\"1\" class=\"dataframe\">\n",
              "  <thead>\n",
              "    <tr style=\"text-align: left;\">\n",
              "      <th>epoch</th>\n",
              "      <th>train_loss</th>\n",
              "      <th>valid_loss</th>\n",
              "      <th>accuracy</th>\n",
              "      <th>time</th>\n",
              "    </tr>\n",
              "  </thead>\n",
              "  <tbody>\n",
              "    <tr>\n",
              "      <td>0</td>\n",
              "      <td>0.443677</td>\n",
              "      <td>0.678316</td>\n",
              "      <td>0.654664</td>\n",
              "      <td>00:11</td>\n",
              "    </tr>\n",
              "    <tr>\n",
              "      <td>1</td>\n",
              "      <td>0.413129</td>\n",
              "      <td>0.707651</td>\n",
              "      <td>0.641571</td>\n",
              "      <td>00:10</td>\n",
              "    </tr>\n",
              "    <tr>\n",
              "      <td>2</td>\n",
              "      <td>0.408687</td>\n",
              "      <td>0.751930</td>\n",
              "      <td>0.656301</td>\n",
              "      <td>00:10</td>\n",
              "    </tr>\n",
              "    <tr>\n",
              "      <td>3</td>\n",
              "      <td>0.364237</td>\n",
              "      <td>0.767302</td>\n",
              "      <td>0.638298</td>\n",
              "      <td>00:10</td>\n",
              "    </tr>\n",
              "    <tr>\n",
              "      <td>4</td>\n",
              "      <td>0.326305</td>\n",
              "      <td>0.853961</td>\n",
              "      <td>0.625205</td>\n",
              "      <td>00:11</td>\n",
              "    </tr>\n",
              "    <tr>\n",
              "      <td>5</td>\n",
              "      <td>0.275324</td>\n",
              "      <td>0.897281</td>\n",
              "      <td>0.623568</td>\n",
              "      <td>00:11</td>\n",
              "    </tr>\n",
              "    <tr>\n",
              "      <td>6</td>\n",
              "      <td>0.250480</td>\n",
              "      <td>0.881085</td>\n",
              "      <td>0.617021</td>\n",
              "      <td>00:11</td>\n",
              "    </tr>\n",
              "    <tr>\n",
              "      <td>7</td>\n",
              "      <td>0.222500</td>\n",
              "      <td>0.917485</td>\n",
              "      <td>0.608838</td>\n",
              "      <td>00:11</td>\n",
              "    </tr>\n",
              "    <tr>\n",
              "      <td>8</td>\n",
              "      <td>0.213745</td>\n",
              "      <td>0.924667</td>\n",
              "      <td>0.621931</td>\n",
              "      <td>00:11</td>\n",
              "    </tr>\n",
              "    <tr>\n",
              "      <td>9</td>\n",
              "      <td>0.197715</td>\n",
              "      <td>0.913751</td>\n",
              "      <td>0.615385</td>\n",
              "      <td>00:11</td>\n",
              "    </tr>\n",
              "  </tbody>\n",
              "</table>"
            ],
            "text/plain": [
              "<IPython.core.display.HTML object>"
            ]
          },
          "metadata": {}
        }
      ]
    },
    {
      "cell_type": "markdown",
      "source": [
        "Get the test set predictions"
      ],
      "metadata": {
        "id": "igghBQ9MXM8a"
      }
    },
    {
      "cell_type": "code",
      "source": [
        "pred_dl = dls_clas.test_dl(df_test['Tweet text'])\n",
        "\n",
        "preds = class_learn.get_preds(dl=pred_dl, with_input=True)"
      ],
      "metadata": {
        "colab": {
          "base_uri": "https://localhost:8080/",
          "height": 17
        },
        "id": "jxjt8jLSFlEo",
        "outputId": "94cb5269-e7cc-45a1-81e1-e895ef51a7d4"
      },
      "execution_count": null,
      "outputs": [
        {
          "output_type": "display_data",
          "data": {
            "text/html": [
              ""
            ],
            "text/plain": [
              "<IPython.core.display.HTML object>"
            ]
          },
          "metadata": {}
        }
      ]
    },
    {
      "cell_type": "code",
      "source": [
        "y_test = df_test['Label']"
      ],
      "metadata": {
        "id": "fLFWM3nBUPz6"
      },
      "execution_count": null,
      "outputs": []
    },
    {
      "cell_type": "code",
      "source": [
        "y_pred = np.argmax(preds[1],axis=1)\n",
        "\n",
        "print(classification_report(y_pred,y_test))"
      ],
      "metadata": {
        "id": "MKnED_dta8Jd",
        "colab": {
          "base_uri": "https://localhost:8080/"
        },
        "outputId": "d1dc50e6-a589-42cd-e4f1-8ca4c7772f63"
      },
      "execution_count": null,
      "outputs": [
        {
          "output_type": "stream",
          "name": "stdout",
          "text": [
            "              precision    recall  f1-score   support\n",
            "\n",
            "           0       0.66      0.75      0.70       415\n",
            "           1       0.66      0.56      0.61       369\n",
            "\n",
            "    accuracy                           0.66       784\n",
            "   macro avg       0.66      0.65      0.65       784\n",
            "weighted avg       0.66      0.66      0.65       784\n",
            "\n"
          ]
        }
      ]
    },
    {
      "cell_type": "code",
      "source": [
        ""
      ],
      "metadata": {
        "id": "hSVPoplFSKPU"
      },
      "execution_count": null,
      "outputs": []
    }
  ]
}