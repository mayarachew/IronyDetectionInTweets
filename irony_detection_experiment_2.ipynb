{
  "cells": [
    {
      "cell_type": "markdown",
      "metadata": {
        "id": "view-in-github",
        "colab_type": "text"
      },
      "source": [
        "<a href=\"https://colab.research.google.com/github/mayarachew/IronyDetectionInTweets/blob/main/irony_detection_experiment_2.ipynb\" target=\"_parent\"><img src=\"https://colab.research.google.com/assets/colab-badge.svg\" alt=\"Open In Colab\"/></a>"
      ]
    },
    {
      "cell_type": "markdown",
      "metadata": {
        "id": "x0GcUGoUGM_x"
      },
      "source": [
        "# Imports"
      ]
    },
    {
      "cell_type": "code",
      "execution_count": 2,
      "metadata": {
        "colab": {
          "base_uri": "https://localhost:8080/"
        },
        "id": "wK_Q5jIiR1zT",
        "outputId": "522e0bc3-1859-4dcf-8739-724b5f2b5d84"
      },
      "outputs": [
        {
          "output_type": "stream",
          "name": "stdout",
          "text": [
            "[nltk_data] Downloading package punkt to /root/nltk_data...\n",
            "[nltk_data]   Unzipping tokenizers/punkt.zip.\n"
          ]
        }
      ],
      "source": [
        "# Dataset\n",
        "from sklearn.datasets import fetch_20newsgroups\n",
        "\n",
        "from pprint import pprint\n",
        "import pandas as pd\n",
        "import numpy as np\n",
        "import matplotlib.pyplot as plt\n",
        "\n",
        "# Vectorizing and spliting\n",
        "from sklearn.feature_extraction.text import TfidfVectorizer\n",
        "from gensim.models import Word2Vec\n",
        "from gensim.models.doc2vec import Doc2Vec, TaggedDocument\n",
        "from sklearn.model_selection import KFold\n",
        "from sklearn.model_selection import GridSearchCV\n",
        "\n",
        "# Classifications\n",
        "from sklearn.svm import SVC\n",
        "from sklearn.model_selection import train_test_split\n",
        "from sklearn.metrics import classification_report\n",
        "\n",
        "# Confusion matrix\n",
        "from sklearn.metrics import confusion_matrix\n",
        "from sklearn.metrics import plot_confusion_matrix\n",
        "\n",
        "# Preprocessing\n",
        "import re, string\n",
        "import nltk\n",
        "from nltk.tokenize.treebank import TreebankWordDetokenizer\n",
        "from nltk.stem import LancasterStemmer, WordNetLemmatizer\n",
        "from nltk.corpus import stopwords \n",
        "from nltk.tokenize import TweetTokenizer\n",
        "nltk.download('punkt')\n",
        "from sklearn.preprocessing import MinMaxScaler\n",
        "\n",
        "import time\n",
        "from tqdm import tqdm\n",
        "import warnings\n",
        "warnings.filterwarnings(\"ignore\")\n",
        "\n",
        "# Classification\n",
        "from sklearn.naive_bayes import MultinomialNB\n",
        "from sklearn.ensemble import RandomForestClassifier\n",
        "from sklearn.svm import SVC\n",
        "from sklearn.metrics import classification_report\n",
        "\n",
        "# Test hyperparameters\n",
        "from sklearn.model_selection import RandomizedSearchCV\n",
        "\n",
        "# Confusion matrix\n",
        "from sklearn.metrics import confusion_matrix, ConfusionMatrixDisplay"
      ]
    },
    {
      "cell_type": "markdown",
      "metadata": {
        "id": "FLCiHXTJSQsD"
      },
      "source": [
        "# Read files"
      ]
    },
    {
      "cell_type": "code",
      "execution_count": 3,
      "metadata": {
        "id": "dpIvPP92T0Y3"
      },
      "outputs": [],
      "source": [
        "def read_files(file_path):\n",
        "  print()\n",
        "  print(file_path)\n",
        "\n",
        "  # Read tweets\n",
        "  df = pd.read_csv(file_path, encoding='utf8', sep='\\t')\n",
        "  \n",
        "  # Remove 'Tweet index' column\n",
        "  df = df.iloc[: , 1:]\n",
        "\n",
        "  # Drop rows with nan values\n",
        "  df = df.dropna()\n",
        "\n",
        "  # Print (rows, columns) without nan values\n",
        "  print('Shape:', df.shape)\n",
        "\n",
        "  # Print head of data\n",
        "  print(df.head())\n",
        "\n",
        "  # Find labels (columns)\n",
        "  labels = df['Label'].unique()\n",
        "\n",
        "  # Print labels\n",
        "  print('Labels:', labels) \n",
        "\n",
        "  return df"
      ]
    },
    {
      "cell_type": "code",
      "execution_count": 8,
      "metadata": {
        "colab": {
          "base_uri": "https://localhost:8080/"
        },
        "id": "QzToQD5fUbjF",
        "outputId": "94dfb718-fb30-4477-f09e-8edddec79d5d"
      },
      "outputs": [
        {
          "output_type": "stream",
          "name": "stdout",
          "text": [
            "\n",
            "ironico-train.txt\n",
            "Shape: (9868, 2)\n",
            "                                                text        Label\n",
            "0  Jogo será em Manaus, muito mais longe que a Co...      ironico\n",
            "1  Diferença de renda entre brancos enegros cresc...  nao-ironico\n",
            "2  ECONOMIA CRISE RECESSÃO FORATEMER DIRETASJÁ: C...  nao-ironico\n",
            "3  Instagram, aquele programa de tirar foto da co...      ironico\n",
            "4  • MARQUEM OS AMIGOS •bomdia boatarde boanoite ...      ironico\n",
            "Labels: ['ironico' 'nao-ironico']\n",
            "\n",
            "ironico-test.txt\n",
            "Shape: (2310, 2)\n",
            "                                                text        Label\n",
            "0  Reforma trabalhista elevará produtividade, diz...  nao-ironico\n",
            "1  humornegro  Aconteceu comigo, dentro da minha ...      ironico\n",
            "2  Acho impressionante a capacidade do ser humano...      ironico\n",
            "3  Rodrigo Caetano incompetente, vascaíno, trouxe...      ironico\n",
            "4                   tens razão ela é super feia ..        ironico\n",
            "Labels: ['nao-ironico' 'ironico']\n"
          ]
        }
      ],
      "source": [
        "tweets_train_df = read_files('ironico-train.txt')\n",
        "tweets_test_df = read_files('ironico-test.txt')"
      ]
    },
    {
      "cell_type": "markdown",
      "metadata": {
        "id": "ePkf1I-gSUoU"
      },
      "source": [
        "# Preprocessing"
      ]
    },
    {
      "cell_type": "code",
      "execution_count": 9,
      "metadata": {
        "id": "-PpDU5LFMKaU"
      },
      "outputs": [],
      "source": [
        "def preprocessing(tweets):\n",
        "  # Define Labels\n",
        "  tweets['Label'] = tweets['Label'].replace(['ironico', 'nao-ironico'], [1,0])\n",
        "  tweets.rename(columns = {'text': 'Tweet text'}, inplace=True)\n",
        "\n",
        "  # Remove links\n",
        "  tweets['Tweet text'] = tweets['Tweet text'].str.replace(\n",
        "      \"\\S*https?:\\S*\", \"\", regex=True\n",
        "  )\n",
        "\n",
        "  # Remove mentions\n",
        "  tweets['Tweet text'] = tweets['Tweet text'].str.replace(\n",
        "      \"@[^ ]*\", \"\", regex=True\n",
        "  )\n",
        "\n",
        "  # Convert to lower case\n",
        "  tweets['Tweet text'] = tweets['Tweet text'].str.lower()\n",
        "\n",
        "  # Remove spaces x2\n",
        "  tweets['Tweet text'] = tweets['Tweet text'].str.replace(\n",
        "      \"[ ]{2,}\", \"\", regex=True\n",
        "  )\n",
        "\n",
        "  print(tweets.head())\n",
        "\n",
        "  return tweets"
      ]
    },
    {
      "cell_type": "code",
      "execution_count": 10,
      "metadata": {
        "colab": {
          "base_uri": "https://localhost:8080/"
        },
        "id": "W6wTN310QqLM",
        "outputId": "03ef7864-739b-443d-e6d3-5bb5d7a43c5c"
      },
      "outputs": [
        {
          "output_type": "stream",
          "name": "stdout",
          "text": [
            "\n",
            "tweets_train_df_pp\n",
            "                                          Tweet text  Label\n",
            "0  jogo será em manaus, muito mais longe que a co...      1\n",
            "1  diferença de renda entre brancos enegros cresc...      0\n",
            "2  economia crise recessão foratemer diretasjá: c...      0\n",
            "3  instagram, aquele programa de tirar foto da co...      1\n",
            "4  • marquem os amigos •bomdia boatarde boanoitef...      1\n",
            "\n",
            "tweets_test_df_pp\n",
            "                                          Tweet text  Label\n",
            "0  reforma trabalhista elevará produtividade, diz...      0\n",
            "1  humornegroaconteceu comigo, dentro da minha fa...      1\n",
            "2  acho impressionante a capacidade do ser humano...      1\n",
            "3  rodrigo caetano incompetente, vascaíno, trouxe...      1\n",
            "4                     tens razão ela é super feia ..      1\n"
          ]
        }
      ],
      "source": [
        "print('\\ntweets_train_df_pp')\n",
        "tweets_train_df_pp = preprocessing(tweets_train_df)\n",
        "print('\\ntweets_test_df_pp')\n",
        "tweets_test_df_pp = preprocessing(tweets_test_df)"
      ]
    },
    {
      "cell_type": "markdown",
      "metadata": {
        "id": "X671XcdFIe6B"
      },
      "source": [
        "# TF-IDF"
      ]
    },
    {
      "cell_type": "code",
      "execution_count": 11,
      "metadata": {
        "id": "9_rrF-fAVqhl"
      },
      "outputs": [],
      "source": [
        "def apply_tfidf(X):\n",
        "  # Convert data into a matrix of TF-IDF features\n",
        "  vectorizer = TfidfVectorizer(norm=\"l1\")\n",
        "  features = vectorizer.fit_transform(X)\n",
        "  X_tfidf = pd.DataFrame(features.todense(), columns=vectorizer.get_feature_names())\n",
        "  \n",
        "  return X_tfidf"
      ]
    },
    {
      "cell_type": "code",
      "execution_count": 12,
      "metadata": {
        "id": "PdABR9CxV6K9",
        "colab": {
          "base_uri": "https://localhost:8080/"
        },
        "outputId": "dc8af3c6-c345-48de-a965-ce403b31ed8f"
      },
      "outputs": [
        {
          "output_type": "stream",
          "name": "stdout",
          "text": [
            "(9868, 20671) (2310, 7855)\n"
          ]
        }
      ],
      "source": [
        "X_tfidf_train_h = apply_tfidf(tweets_train_df_pp['Tweet text'])\n",
        "X_tfidf_test_h = apply_tfidf(tweets_test_df_pp['Tweet text'])\n",
        "\n",
        "print(X_tfidf_train_h.shape, X_tfidf_test_h.shape)"
      ]
    },
    {
      "cell_type": "code",
      "source": [
        "X = tweets_train_df_pp['Tweet text'].append(tweets_test_df_pp['Tweet text'])\n",
        "X_tfidf = apply_tfidf(X)\n",
        "\n",
        "X_tfidf.shape"
      ],
      "metadata": {
        "colab": {
          "base_uri": "https://localhost:8080/"
        },
        "id": "5_u9U1CaK-6v",
        "outputId": "d8d3d4bd-d73a-4fee-9c18-abc71d853014"
      },
      "execution_count": 13,
      "outputs": [
        {
          "output_type": "execute_result",
          "data": {
            "text/plain": [
              "(12178, 23690)"
            ]
          },
          "metadata": {},
          "execution_count": 13
        }
      ]
    },
    {
      "cell_type": "code",
      "source": [
        "# Get len\n",
        "rows_tweets_train = len(tweets_train_df_pp['Tweet text'])\n",
        "\n",
        "rows_tweets_test = len(tweets_test_df_pp['Tweet text'])\n",
        "\n",
        "# Divide tfidf\n",
        "X_tfidf_train = X_tfidf[:rows_tweets_train]\n",
        "X_tfidf.drop(X_tfidf.index[:rows_tweets_train])\n",
        "\n",
        "X_tfidf_test = X_tfidf[:rows_tweets_test]\n",
        "X_tfidf.drop(X_tfidf.index[:rows_tweets_test])"
      ],
      "metadata": {
        "colab": {
          "base_uri": "https://localhost:8080/",
          "height": 0
        },
        "id": "Ba2KcsRcKJn4",
        "outputId": "521b30b9-e02d-4491-b777-e1c0892130dc"
      },
      "execution_count": 14,
      "outputs": [
        {
          "output_type": "execute_result",
          "data": {
            "text/html": [
              "\n",
              "  <div id=\"df-53d04766-75c4-4fd3-a343-dbe663ebe918\">\n",
              "    <div class=\"colab-df-container\">\n",
              "      <div>\n",
              "<style scoped>\n",
              "    .dataframe tbody tr th:only-of-type {\n",
              "        vertical-align: middle;\n",
              "    }\n",
              "\n",
              "    .dataframe tbody tr th {\n",
              "        vertical-align: top;\n",
              "    }\n",
              "\n",
              "    .dataframe thead th {\n",
              "        text-align: right;\n",
              "    }\n",
              "</style>\n",
              "<table border=\"1\" class=\"dataframe\">\n",
              "  <thead>\n",
              "    <tr style=\"text-align: right;\">\n",
              "      <th></th>\n",
              "      <th>00</th>\n",
              "      <th>000</th>\n",
              "      <th>001</th>\n",
              "      <th>00hs</th>\n",
              "      <th>00politicaspublicas</th>\n",
              "      <th>01</th>\n",
              "      <th>012</th>\n",
              "      <th>02</th>\n",
              "      <th>03</th>\n",
              "      <th>04</th>\n",
              "      <th>047</th>\n",
              "      <th>05</th>\n",
              "      <th>06</th>\n",
              "      <th>07</th>\n",
              "      <th>08</th>\n",
              "      <th>08fiquei</th>\n",
              "      <th>09</th>\n",
              "      <th>0ibxxrocnc</th>\n",
              "      <th>10</th>\n",
              "      <th>100</th>\n",
              "      <th>1000</th>\n",
              "      <th>10000</th>\n",
              "      <th>100000</th>\n",
              "      <th>100fanti</th>\n",
              "      <th>100happydaysheart</th>\n",
              "      <th>101</th>\n",
              "      <th>107</th>\n",
              "      <th>1075</th>\n",
              "      <th>109</th>\n",
              "      <th>10h</th>\n",
              "      <th>10m</th>\n",
              "      <th>10mil</th>\n",
              "      <th>10min</th>\n",
              "      <th>10on</th>\n",
              "      <th>10ª</th>\n",
              "      <th>11</th>\n",
              "      <th>110</th>\n",
              "      <th>111</th>\n",
              "      <th>112</th>\n",
              "      <th>118</th>\n",
              "      <th>...</th>\n",
              "      <th>ñpode</th>\n",
              "      <th>óbvia</th>\n",
              "      <th>óbviasirônia</th>\n",
              "      <th>óbvio</th>\n",
              "      <th>óculos</th>\n",
              "      <th>ódio</th>\n",
              "      <th>óhahahaha</th>\n",
              "      <th>óia</th>\n",
              "      <th>óleo</th>\n",
              "      <th>ópera</th>\n",
              "      <th>óptima</th>\n",
              "      <th>órfã</th>\n",
              "      <th>órgão</th>\n",
              "      <th>óscar</th>\n",
              "      <th>ótima</th>\n",
              "      <th>ótimaparabéns</th>\n",
              "      <th>ótimas</th>\n",
              "      <th>ótimo</th>\n",
              "      <th>ótimos</th>\n",
              "      <th>ótimosábado</th>\n",
              "      <th>óvulos</th>\n",
              "      <th>óó</th>\n",
              "      <th>ôe</th>\n",
              "      <th>ômega3</th>\n",
              "      <th>ônibus</th>\n",
              "      <th>úlitmos</th>\n",
              "      <th>últim</th>\n",
              "      <th>última</th>\n",
              "      <th>últimamente</th>\n",
              "      <th>últimas</th>\n",
              "      <th>último</th>\n",
              "      <th>últimoesfuerzo</th>\n",
              "      <th>últimos</th>\n",
              "      <th>única</th>\n",
              "      <th>únicas</th>\n",
              "      <th>único</th>\n",
              "      <th>útero</th>\n",
              "      <th>útil</th>\n",
              "      <th>ṕraia</th>\n",
              "      <th>방탄소년단</th>\n",
              "    </tr>\n",
              "  </thead>\n",
              "  <tbody>\n",
              "    <tr>\n",
              "      <th>2310</th>\n",
              "      <td>0.0</td>\n",
              "      <td>0.0</td>\n",
              "      <td>0.0</td>\n",
              "      <td>0.0</td>\n",
              "      <td>0.0</td>\n",
              "      <td>0.0</td>\n",
              "      <td>0.0</td>\n",
              "      <td>0.0</td>\n",
              "      <td>0.0</td>\n",
              "      <td>0.0</td>\n",
              "      <td>0.0</td>\n",
              "      <td>0.0</td>\n",
              "      <td>0.0</td>\n",
              "      <td>0.0</td>\n",
              "      <td>0.0</td>\n",
              "      <td>0.0</td>\n",
              "      <td>0.0</td>\n",
              "      <td>0.0</td>\n",
              "      <td>0.0</td>\n",
              "      <td>0.0</td>\n",
              "      <td>0.0</td>\n",
              "      <td>0.0</td>\n",
              "      <td>0.0</td>\n",
              "      <td>0.0</td>\n",
              "      <td>0.0</td>\n",
              "      <td>0.0</td>\n",
              "      <td>0.0</td>\n",
              "      <td>0.0</td>\n",
              "      <td>0.0</td>\n",
              "      <td>0.0</td>\n",
              "      <td>0.0</td>\n",
              "      <td>0.0</td>\n",
              "      <td>0.0</td>\n",
              "      <td>0.0</td>\n",
              "      <td>0.0</td>\n",
              "      <td>0.0</td>\n",
              "      <td>0.0</td>\n",
              "      <td>0.0</td>\n",
              "      <td>0.0</td>\n",
              "      <td>0.0</td>\n",
              "      <td>...</td>\n",
              "      <td>0.0</td>\n",
              "      <td>0.0</td>\n",
              "      <td>0.0</td>\n",
              "      <td>0.0</td>\n",
              "      <td>0.0</td>\n",
              "      <td>0.0</td>\n",
              "      <td>0.0</td>\n",
              "      <td>0.0</td>\n",
              "      <td>0.0</td>\n",
              "      <td>0.0</td>\n",
              "      <td>0.0</td>\n",
              "      <td>0.0</td>\n",
              "      <td>0.0</td>\n",
              "      <td>0.0</td>\n",
              "      <td>0.0</td>\n",
              "      <td>0.0</td>\n",
              "      <td>0.0</td>\n",
              "      <td>0.0</td>\n",
              "      <td>0.0</td>\n",
              "      <td>0.0</td>\n",
              "      <td>0.0</td>\n",
              "      <td>0.0</td>\n",
              "      <td>0.0</td>\n",
              "      <td>0.0</td>\n",
              "      <td>0.0</td>\n",
              "      <td>0.0</td>\n",
              "      <td>0.0</td>\n",
              "      <td>0.0</td>\n",
              "      <td>0.0</td>\n",
              "      <td>0.0</td>\n",
              "      <td>0.0</td>\n",
              "      <td>0.0</td>\n",
              "      <td>0.0</td>\n",
              "      <td>0.0</td>\n",
              "      <td>0.0</td>\n",
              "      <td>0.0</td>\n",
              "      <td>0.0</td>\n",
              "      <td>0.0</td>\n",
              "      <td>0.0</td>\n",
              "      <td>0.0</td>\n",
              "    </tr>\n",
              "    <tr>\n",
              "      <th>2311</th>\n",
              "      <td>0.0</td>\n",
              "      <td>0.0</td>\n",
              "      <td>0.0</td>\n",
              "      <td>0.0</td>\n",
              "      <td>0.0</td>\n",
              "      <td>0.0</td>\n",
              "      <td>0.0</td>\n",
              "      <td>0.0</td>\n",
              "      <td>0.0</td>\n",
              "      <td>0.0</td>\n",
              "      <td>0.0</td>\n",
              "      <td>0.0</td>\n",
              "      <td>0.0</td>\n",
              "      <td>0.0</td>\n",
              "      <td>0.0</td>\n",
              "      <td>0.0</td>\n",
              "      <td>0.0</td>\n",
              "      <td>0.0</td>\n",
              "      <td>0.0</td>\n",
              "      <td>0.0</td>\n",
              "      <td>0.0</td>\n",
              "      <td>0.0</td>\n",
              "      <td>0.0</td>\n",
              "      <td>0.0</td>\n",
              "      <td>0.0</td>\n",
              "      <td>0.0</td>\n",
              "      <td>0.0</td>\n",
              "      <td>0.0</td>\n",
              "      <td>0.0</td>\n",
              "      <td>0.0</td>\n",
              "      <td>0.0</td>\n",
              "      <td>0.0</td>\n",
              "      <td>0.0</td>\n",
              "      <td>0.0</td>\n",
              "      <td>0.0</td>\n",
              "      <td>0.0</td>\n",
              "      <td>0.0</td>\n",
              "      <td>0.0</td>\n",
              "      <td>0.0</td>\n",
              "      <td>0.0</td>\n",
              "      <td>...</td>\n",
              "      <td>0.0</td>\n",
              "      <td>0.0</td>\n",
              "      <td>0.0</td>\n",
              "      <td>0.0</td>\n",
              "      <td>0.0</td>\n",
              "      <td>0.0</td>\n",
              "      <td>0.0</td>\n",
              "      <td>0.0</td>\n",
              "      <td>0.0</td>\n",
              "      <td>0.0</td>\n",
              "      <td>0.0</td>\n",
              "      <td>0.0</td>\n",
              "      <td>0.0</td>\n",
              "      <td>0.0</td>\n",
              "      <td>0.0</td>\n",
              "      <td>0.0</td>\n",
              "      <td>0.0</td>\n",
              "      <td>0.0</td>\n",
              "      <td>0.0</td>\n",
              "      <td>0.0</td>\n",
              "      <td>0.0</td>\n",
              "      <td>0.0</td>\n",
              "      <td>0.0</td>\n",
              "      <td>0.0</td>\n",
              "      <td>0.0</td>\n",
              "      <td>0.0</td>\n",
              "      <td>0.0</td>\n",
              "      <td>0.0</td>\n",
              "      <td>0.0</td>\n",
              "      <td>0.0</td>\n",
              "      <td>0.0</td>\n",
              "      <td>0.0</td>\n",
              "      <td>0.0</td>\n",
              "      <td>0.0</td>\n",
              "      <td>0.0</td>\n",
              "      <td>0.0</td>\n",
              "      <td>0.0</td>\n",
              "      <td>0.0</td>\n",
              "      <td>0.0</td>\n",
              "      <td>0.0</td>\n",
              "    </tr>\n",
              "    <tr>\n",
              "      <th>2312</th>\n",
              "      <td>0.0</td>\n",
              "      <td>0.0</td>\n",
              "      <td>0.0</td>\n",
              "      <td>0.0</td>\n",
              "      <td>0.0</td>\n",
              "      <td>0.0</td>\n",
              "      <td>0.0</td>\n",
              "      <td>0.0</td>\n",
              "      <td>0.0</td>\n",
              "      <td>0.0</td>\n",
              "      <td>0.0</td>\n",
              "      <td>0.0</td>\n",
              "      <td>0.0</td>\n",
              "      <td>0.0</td>\n",
              "      <td>0.0</td>\n",
              "      <td>0.0</td>\n",
              "      <td>0.0</td>\n",
              "      <td>0.0</td>\n",
              "      <td>0.0</td>\n",
              "      <td>0.0</td>\n",
              "      <td>0.0</td>\n",
              "      <td>0.0</td>\n",
              "      <td>0.0</td>\n",
              "      <td>0.0</td>\n",
              "      <td>0.0</td>\n",
              "      <td>0.0</td>\n",
              "      <td>0.0</td>\n",
              "      <td>0.0</td>\n",
              "      <td>0.0</td>\n",
              "      <td>0.0</td>\n",
              "      <td>0.0</td>\n",
              "      <td>0.0</td>\n",
              "      <td>0.0</td>\n",
              "      <td>0.0</td>\n",
              "      <td>0.0</td>\n",
              "      <td>0.0</td>\n",
              "      <td>0.0</td>\n",
              "      <td>0.0</td>\n",
              "      <td>0.0</td>\n",
              "      <td>0.0</td>\n",
              "      <td>...</td>\n",
              "      <td>0.0</td>\n",
              "      <td>0.0</td>\n",
              "      <td>0.0</td>\n",
              "      <td>0.0</td>\n",
              "      <td>0.0</td>\n",
              "      <td>0.0</td>\n",
              "      <td>0.0</td>\n",
              "      <td>0.0</td>\n",
              "      <td>0.0</td>\n",
              "      <td>0.0</td>\n",
              "      <td>0.0</td>\n",
              "      <td>0.0</td>\n",
              "      <td>0.0</td>\n",
              "      <td>0.0</td>\n",
              "      <td>0.0</td>\n",
              "      <td>0.0</td>\n",
              "      <td>0.0</td>\n",
              "      <td>0.0</td>\n",
              "      <td>0.0</td>\n",
              "      <td>0.0</td>\n",
              "      <td>0.0</td>\n",
              "      <td>0.0</td>\n",
              "      <td>0.0</td>\n",
              "      <td>0.0</td>\n",
              "      <td>0.0</td>\n",
              "      <td>0.0</td>\n",
              "      <td>0.0</td>\n",
              "      <td>0.0</td>\n",
              "      <td>0.0</td>\n",
              "      <td>0.0</td>\n",
              "      <td>0.0</td>\n",
              "      <td>0.0</td>\n",
              "      <td>0.0</td>\n",
              "      <td>0.0</td>\n",
              "      <td>0.0</td>\n",
              "      <td>0.0</td>\n",
              "      <td>0.0</td>\n",
              "      <td>0.0</td>\n",
              "      <td>0.0</td>\n",
              "      <td>0.0</td>\n",
              "    </tr>\n",
              "    <tr>\n",
              "      <th>2313</th>\n",
              "      <td>0.0</td>\n",
              "      <td>0.0</td>\n",
              "      <td>0.0</td>\n",
              "      <td>0.0</td>\n",
              "      <td>0.0</td>\n",
              "      <td>0.0</td>\n",
              "      <td>0.0</td>\n",
              "      <td>0.0</td>\n",
              "      <td>0.0</td>\n",
              "      <td>0.0</td>\n",
              "      <td>0.0</td>\n",
              "      <td>0.0</td>\n",
              "      <td>0.0</td>\n",
              "      <td>0.0</td>\n",
              "      <td>0.0</td>\n",
              "      <td>0.0</td>\n",
              "      <td>0.0</td>\n",
              "      <td>0.0</td>\n",
              "      <td>0.0</td>\n",
              "      <td>0.0</td>\n",
              "      <td>0.0</td>\n",
              "      <td>0.0</td>\n",
              "      <td>0.0</td>\n",
              "      <td>0.0</td>\n",
              "      <td>0.0</td>\n",
              "      <td>0.0</td>\n",
              "      <td>0.0</td>\n",
              "      <td>0.0</td>\n",
              "      <td>0.0</td>\n",
              "      <td>0.0</td>\n",
              "      <td>0.0</td>\n",
              "      <td>0.0</td>\n",
              "      <td>0.0</td>\n",
              "      <td>0.0</td>\n",
              "      <td>0.0</td>\n",
              "      <td>0.0</td>\n",
              "      <td>0.0</td>\n",
              "      <td>0.0</td>\n",
              "      <td>0.0</td>\n",
              "      <td>0.0</td>\n",
              "      <td>...</td>\n",
              "      <td>0.0</td>\n",
              "      <td>0.0</td>\n",
              "      <td>0.0</td>\n",
              "      <td>0.0</td>\n",
              "      <td>0.0</td>\n",
              "      <td>0.0</td>\n",
              "      <td>0.0</td>\n",
              "      <td>0.0</td>\n",
              "      <td>0.0</td>\n",
              "      <td>0.0</td>\n",
              "      <td>0.0</td>\n",
              "      <td>0.0</td>\n",
              "      <td>0.0</td>\n",
              "      <td>0.0</td>\n",
              "      <td>0.0</td>\n",
              "      <td>0.0</td>\n",
              "      <td>0.0</td>\n",
              "      <td>0.0</td>\n",
              "      <td>0.0</td>\n",
              "      <td>0.0</td>\n",
              "      <td>0.0</td>\n",
              "      <td>0.0</td>\n",
              "      <td>0.0</td>\n",
              "      <td>0.0</td>\n",
              "      <td>0.0</td>\n",
              "      <td>0.0</td>\n",
              "      <td>0.0</td>\n",
              "      <td>0.0</td>\n",
              "      <td>0.0</td>\n",
              "      <td>0.0</td>\n",
              "      <td>0.0</td>\n",
              "      <td>0.0</td>\n",
              "      <td>0.0</td>\n",
              "      <td>0.0</td>\n",
              "      <td>0.0</td>\n",
              "      <td>0.0</td>\n",
              "      <td>0.0</td>\n",
              "      <td>0.0</td>\n",
              "      <td>0.0</td>\n",
              "      <td>0.0</td>\n",
              "    </tr>\n",
              "    <tr>\n",
              "      <th>2314</th>\n",
              "      <td>0.0</td>\n",
              "      <td>0.0</td>\n",
              "      <td>0.0</td>\n",
              "      <td>0.0</td>\n",
              "      <td>0.0</td>\n",
              "      <td>0.0</td>\n",
              "      <td>0.0</td>\n",
              "      <td>0.0</td>\n",
              "      <td>0.0</td>\n",
              "      <td>0.0</td>\n",
              "      <td>0.0</td>\n",
              "      <td>0.0</td>\n",
              "      <td>0.0</td>\n",
              "      <td>0.0</td>\n",
              "      <td>0.0</td>\n",
              "      <td>0.0</td>\n",
              "      <td>0.0</td>\n",
              "      <td>0.0</td>\n",
              "      <td>0.0</td>\n",
              "      <td>0.0</td>\n",
              "      <td>0.0</td>\n",
              "      <td>0.0</td>\n",
              "      <td>0.0</td>\n",
              "      <td>0.0</td>\n",
              "      <td>0.0</td>\n",
              "      <td>0.0</td>\n",
              "      <td>0.0</td>\n",
              "      <td>0.0</td>\n",
              "      <td>0.0</td>\n",
              "      <td>0.0</td>\n",
              "      <td>0.0</td>\n",
              "      <td>0.0</td>\n",
              "      <td>0.0</td>\n",
              "      <td>0.0</td>\n",
              "      <td>0.0</td>\n",
              "      <td>0.0</td>\n",
              "      <td>0.0</td>\n",
              "      <td>0.0</td>\n",
              "      <td>0.0</td>\n",
              "      <td>0.0</td>\n",
              "      <td>...</td>\n",
              "      <td>0.0</td>\n",
              "      <td>0.0</td>\n",
              "      <td>0.0</td>\n",
              "      <td>0.0</td>\n",
              "      <td>0.0</td>\n",
              "      <td>0.0</td>\n",
              "      <td>0.0</td>\n",
              "      <td>0.0</td>\n",
              "      <td>0.0</td>\n",
              "      <td>0.0</td>\n",
              "      <td>0.0</td>\n",
              "      <td>0.0</td>\n",
              "      <td>0.0</td>\n",
              "      <td>0.0</td>\n",
              "      <td>0.0</td>\n",
              "      <td>0.0</td>\n",
              "      <td>0.0</td>\n",
              "      <td>0.0</td>\n",
              "      <td>0.0</td>\n",
              "      <td>0.0</td>\n",
              "      <td>0.0</td>\n",
              "      <td>0.0</td>\n",
              "      <td>0.0</td>\n",
              "      <td>0.0</td>\n",
              "      <td>0.0</td>\n",
              "      <td>0.0</td>\n",
              "      <td>0.0</td>\n",
              "      <td>0.0</td>\n",
              "      <td>0.0</td>\n",
              "      <td>0.0</td>\n",
              "      <td>0.0</td>\n",
              "      <td>0.0</td>\n",
              "      <td>0.0</td>\n",
              "      <td>0.0</td>\n",
              "      <td>0.0</td>\n",
              "      <td>0.0</td>\n",
              "      <td>0.0</td>\n",
              "      <td>0.0</td>\n",
              "      <td>0.0</td>\n",
              "      <td>0.0</td>\n",
              "    </tr>\n",
              "    <tr>\n",
              "      <th>...</th>\n",
              "      <td>...</td>\n",
              "      <td>...</td>\n",
              "      <td>...</td>\n",
              "      <td>...</td>\n",
              "      <td>...</td>\n",
              "      <td>...</td>\n",
              "      <td>...</td>\n",
              "      <td>...</td>\n",
              "      <td>...</td>\n",
              "      <td>...</td>\n",
              "      <td>...</td>\n",
              "      <td>...</td>\n",
              "      <td>...</td>\n",
              "      <td>...</td>\n",
              "      <td>...</td>\n",
              "      <td>...</td>\n",
              "      <td>...</td>\n",
              "      <td>...</td>\n",
              "      <td>...</td>\n",
              "      <td>...</td>\n",
              "      <td>...</td>\n",
              "      <td>...</td>\n",
              "      <td>...</td>\n",
              "      <td>...</td>\n",
              "      <td>...</td>\n",
              "      <td>...</td>\n",
              "      <td>...</td>\n",
              "      <td>...</td>\n",
              "      <td>...</td>\n",
              "      <td>...</td>\n",
              "      <td>...</td>\n",
              "      <td>...</td>\n",
              "      <td>...</td>\n",
              "      <td>...</td>\n",
              "      <td>...</td>\n",
              "      <td>...</td>\n",
              "      <td>...</td>\n",
              "      <td>...</td>\n",
              "      <td>...</td>\n",
              "      <td>...</td>\n",
              "      <td>...</td>\n",
              "      <td>...</td>\n",
              "      <td>...</td>\n",
              "      <td>...</td>\n",
              "      <td>...</td>\n",
              "      <td>...</td>\n",
              "      <td>...</td>\n",
              "      <td>...</td>\n",
              "      <td>...</td>\n",
              "      <td>...</td>\n",
              "      <td>...</td>\n",
              "      <td>...</td>\n",
              "      <td>...</td>\n",
              "      <td>...</td>\n",
              "      <td>...</td>\n",
              "      <td>...</td>\n",
              "      <td>...</td>\n",
              "      <td>...</td>\n",
              "      <td>...</td>\n",
              "      <td>...</td>\n",
              "      <td>...</td>\n",
              "      <td>...</td>\n",
              "      <td>...</td>\n",
              "      <td>...</td>\n",
              "      <td>...</td>\n",
              "      <td>...</td>\n",
              "      <td>...</td>\n",
              "      <td>...</td>\n",
              "      <td>...</td>\n",
              "      <td>...</td>\n",
              "      <td>...</td>\n",
              "      <td>...</td>\n",
              "      <td>...</td>\n",
              "      <td>...</td>\n",
              "      <td>...</td>\n",
              "      <td>...</td>\n",
              "      <td>...</td>\n",
              "      <td>...</td>\n",
              "      <td>...</td>\n",
              "      <td>...</td>\n",
              "      <td>...</td>\n",
              "    </tr>\n",
              "    <tr>\n",
              "      <th>12173</th>\n",
              "      <td>0.0</td>\n",
              "      <td>0.0</td>\n",
              "      <td>0.0</td>\n",
              "      <td>0.0</td>\n",
              "      <td>0.0</td>\n",
              "      <td>0.0</td>\n",
              "      <td>0.0</td>\n",
              "      <td>0.0</td>\n",
              "      <td>0.0</td>\n",
              "      <td>0.0</td>\n",
              "      <td>0.0</td>\n",
              "      <td>0.0</td>\n",
              "      <td>0.0</td>\n",
              "      <td>0.0</td>\n",
              "      <td>0.0</td>\n",
              "      <td>0.0</td>\n",
              "      <td>0.0</td>\n",
              "      <td>0.0</td>\n",
              "      <td>0.0</td>\n",
              "      <td>0.0</td>\n",
              "      <td>0.0</td>\n",
              "      <td>0.0</td>\n",
              "      <td>0.0</td>\n",
              "      <td>0.0</td>\n",
              "      <td>0.0</td>\n",
              "      <td>0.0</td>\n",
              "      <td>0.0</td>\n",
              "      <td>0.0</td>\n",
              "      <td>0.0</td>\n",
              "      <td>0.0</td>\n",
              "      <td>0.0</td>\n",
              "      <td>0.0</td>\n",
              "      <td>0.0</td>\n",
              "      <td>0.0</td>\n",
              "      <td>0.0</td>\n",
              "      <td>0.0</td>\n",
              "      <td>0.0</td>\n",
              "      <td>0.0</td>\n",
              "      <td>0.0</td>\n",
              "      <td>0.0</td>\n",
              "      <td>...</td>\n",
              "      <td>0.0</td>\n",
              "      <td>0.0</td>\n",
              "      <td>0.0</td>\n",
              "      <td>0.0</td>\n",
              "      <td>0.0</td>\n",
              "      <td>0.0</td>\n",
              "      <td>0.0</td>\n",
              "      <td>0.0</td>\n",
              "      <td>0.0</td>\n",
              "      <td>0.0</td>\n",
              "      <td>0.0</td>\n",
              "      <td>0.0</td>\n",
              "      <td>0.0</td>\n",
              "      <td>0.0</td>\n",
              "      <td>0.0</td>\n",
              "      <td>0.0</td>\n",
              "      <td>0.0</td>\n",
              "      <td>0.0</td>\n",
              "      <td>0.0</td>\n",
              "      <td>0.0</td>\n",
              "      <td>0.0</td>\n",
              "      <td>0.0</td>\n",
              "      <td>0.0</td>\n",
              "      <td>0.0</td>\n",
              "      <td>0.0</td>\n",
              "      <td>0.0</td>\n",
              "      <td>0.0</td>\n",
              "      <td>0.0</td>\n",
              "      <td>0.0</td>\n",
              "      <td>0.0</td>\n",
              "      <td>0.0</td>\n",
              "      <td>0.0</td>\n",
              "      <td>0.0</td>\n",
              "      <td>0.0</td>\n",
              "      <td>0.0</td>\n",
              "      <td>0.0</td>\n",
              "      <td>0.0</td>\n",
              "      <td>0.0</td>\n",
              "      <td>0.0</td>\n",
              "      <td>0.0</td>\n",
              "    </tr>\n",
              "    <tr>\n",
              "      <th>12174</th>\n",
              "      <td>0.0</td>\n",
              "      <td>0.0</td>\n",
              "      <td>0.0</td>\n",
              "      <td>0.0</td>\n",
              "      <td>0.0</td>\n",
              "      <td>0.0</td>\n",
              "      <td>0.0</td>\n",
              "      <td>0.0</td>\n",
              "      <td>0.0</td>\n",
              "      <td>0.0</td>\n",
              "      <td>0.0</td>\n",
              "      <td>0.0</td>\n",
              "      <td>0.0</td>\n",
              "      <td>0.0</td>\n",
              "      <td>0.0</td>\n",
              "      <td>0.0</td>\n",
              "      <td>0.0</td>\n",
              "      <td>0.0</td>\n",
              "      <td>0.0</td>\n",
              "      <td>0.0</td>\n",
              "      <td>0.0</td>\n",
              "      <td>0.0</td>\n",
              "      <td>0.0</td>\n",
              "      <td>0.0</td>\n",
              "      <td>0.0</td>\n",
              "      <td>0.0</td>\n",
              "      <td>0.0</td>\n",
              "      <td>0.0</td>\n",
              "      <td>0.0</td>\n",
              "      <td>0.0</td>\n",
              "      <td>0.0</td>\n",
              "      <td>0.0</td>\n",
              "      <td>0.0</td>\n",
              "      <td>0.0</td>\n",
              "      <td>0.0</td>\n",
              "      <td>0.0</td>\n",
              "      <td>0.0</td>\n",
              "      <td>0.0</td>\n",
              "      <td>0.0</td>\n",
              "      <td>0.0</td>\n",
              "      <td>...</td>\n",
              "      <td>0.0</td>\n",
              "      <td>0.0</td>\n",
              "      <td>0.0</td>\n",
              "      <td>0.0</td>\n",
              "      <td>0.0</td>\n",
              "      <td>0.0</td>\n",
              "      <td>0.0</td>\n",
              "      <td>0.0</td>\n",
              "      <td>0.0</td>\n",
              "      <td>0.0</td>\n",
              "      <td>0.0</td>\n",
              "      <td>0.0</td>\n",
              "      <td>0.0</td>\n",
              "      <td>0.0</td>\n",
              "      <td>0.0</td>\n",
              "      <td>0.0</td>\n",
              "      <td>0.0</td>\n",
              "      <td>0.0</td>\n",
              "      <td>0.0</td>\n",
              "      <td>0.0</td>\n",
              "      <td>0.0</td>\n",
              "      <td>0.0</td>\n",
              "      <td>0.0</td>\n",
              "      <td>0.0</td>\n",
              "      <td>0.0</td>\n",
              "      <td>0.0</td>\n",
              "      <td>0.0</td>\n",
              "      <td>0.0</td>\n",
              "      <td>0.0</td>\n",
              "      <td>0.0</td>\n",
              "      <td>0.0</td>\n",
              "      <td>0.0</td>\n",
              "      <td>0.0</td>\n",
              "      <td>0.0</td>\n",
              "      <td>0.0</td>\n",
              "      <td>0.0</td>\n",
              "      <td>0.0</td>\n",
              "      <td>0.0</td>\n",
              "      <td>0.0</td>\n",
              "      <td>0.0</td>\n",
              "    </tr>\n",
              "    <tr>\n",
              "      <th>12175</th>\n",
              "      <td>0.0</td>\n",
              "      <td>0.0</td>\n",
              "      <td>0.0</td>\n",
              "      <td>0.0</td>\n",
              "      <td>0.0</td>\n",
              "      <td>0.0</td>\n",
              "      <td>0.0</td>\n",
              "      <td>0.0</td>\n",
              "      <td>0.0</td>\n",
              "      <td>0.0</td>\n",
              "      <td>0.0</td>\n",
              "      <td>0.0</td>\n",
              "      <td>0.0</td>\n",
              "      <td>0.0</td>\n",
              "      <td>0.0</td>\n",
              "      <td>0.0</td>\n",
              "      <td>0.0</td>\n",
              "      <td>0.0</td>\n",
              "      <td>0.0</td>\n",
              "      <td>0.0</td>\n",
              "      <td>0.0</td>\n",
              "      <td>0.0</td>\n",
              "      <td>0.0</td>\n",
              "      <td>0.0</td>\n",
              "      <td>0.0</td>\n",
              "      <td>0.0</td>\n",
              "      <td>0.0</td>\n",
              "      <td>0.0</td>\n",
              "      <td>0.0</td>\n",
              "      <td>0.0</td>\n",
              "      <td>0.0</td>\n",
              "      <td>0.0</td>\n",
              "      <td>0.0</td>\n",
              "      <td>0.0</td>\n",
              "      <td>0.0</td>\n",
              "      <td>0.0</td>\n",
              "      <td>0.0</td>\n",
              "      <td>0.0</td>\n",
              "      <td>0.0</td>\n",
              "      <td>0.0</td>\n",
              "      <td>...</td>\n",
              "      <td>0.0</td>\n",
              "      <td>0.0</td>\n",
              "      <td>0.0</td>\n",
              "      <td>0.0</td>\n",
              "      <td>0.0</td>\n",
              "      <td>0.0</td>\n",
              "      <td>0.0</td>\n",
              "      <td>0.0</td>\n",
              "      <td>0.0</td>\n",
              "      <td>0.0</td>\n",
              "      <td>0.0</td>\n",
              "      <td>0.0</td>\n",
              "      <td>0.0</td>\n",
              "      <td>0.0</td>\n",
              "      <td>0.0</td>\n",
              "      <td>0.0</td>\n",
              "      <td>0.0</td>\n",
              "      <td>0.0</td>\n",
              "      <td>0.0</td>\n",
              "      <td>0.0</td>\n",
              "      <td>0.0</td>\n",
              "      <td>0.0</td>\n",
              "      <td>0.0</td>\n",
              "      <td>0.0</td>\n",
              "      <td>0.0</td>\n",
              "      <td>0.0</td>\n",
              "      <td>0.0</td>\n",
              "      <td>0.0</td>\n",
              "      <td>0.0</td>\n",
              "      <td>0.0</td>\n",
              "      <td>0.0</td>\n",
              "      <td>0.0</td>\n",
              "      <td>0.0</td>\n",
              "      <td>0.0</td>\n",
              "      <td>0.0</td>\n",
              "      <td>0.0</td>\n",
              "      <td>0.0</td>\n",
              "      <td>0.0</td>\n",
              "      <td>0.0</td>\n",
              "      <td>0.0</td>\n",
              "    </tr>\n",
              "    <tr>\n",
              "      <th>12176</th>\n",
              "      <td>0.0</td>\n",
              "      <td>0.0</td>\n",
              "      <td>0.0</td>\n",
              "      <td>0.0</td>\n",
              "      <td>0.0</td>\n",
              "      <td>0.0</td>\n",
              "      <td>0.0</td>\n",
              "      <td>0.0</td>\n",
              "      <td>0.0</td>\n",
              "      <td>0.0</td>\n",
              "      <td>0.0</td>\n",
              "      <td>0.0</td>\n",
              "      <td>0.0</td>\n",
              "      <td>0.0</td>\n",
              "      <td>0.0</td>\n",
              "      <td>0.0</td>\n",
              "      <td>0.0</td>\n",
              "      <td>0.0</td>\n",
              "      <td>0.0</td>\n",
              "      <td>0.0</td>\n",
              "      <td>0.0</td>\n",
              "      <td>0.0</td>\n",
              "      <td>0.0</td>\n",
              "      <td>0.0</td>\n",
              "      <td>0.0</td>\n",
              "      <td>0.0</td>\n",
              "      <td>0.0</td>\n",
              "      <td>0.0</td>\n",
              "      <td>0.0</td>\n",
              "      <td>0.0</td>\n",
              "      <td>0.0</td>\n",
              "      <td>0.0</td>\n",
              "      <td>0.0</td>\n",
              "      <td>0.0</td>\n",
              "      <td>0.0</td>\n",
              "      <td>0.0</td>\n",
              "      <td>0.0</td>\n",
              "      <td>0.0</td>\n",
              "      <td>0.0</td>\n",
              "      <td>0.0</td>\n",
              "      <td>...</td>\n",
              "      <td>0.0</td>\n",
              "      <td>0.0</td>\n",
              "      <td>0.0</td>\n",
              "      <td>0.0</td>\n",
              "      <td>0.0</td>\n",
              "      <td>0.0</td>\n",
              "      <td>0.0</td>\n",
              "      <td>0.0</td>\n",
              "      <td>0.0</td>\n",
              "      <td>0.0</td>\n",
              "      <td>0.0</td>\n",
              "      <td>0.0</td>\n",
              "      <td>0.0</td>\n",
              "      <td>0.0</td>\n",
              "      <td>0.0</td>\n",
              "      <td>0.0</td>\n",
              "      <td>0.0</td>\n",
              "      <td>0.0</td>\n",
              "      <td>0.0</td>\n",
              "      <td>0.0</td>\n",
              "      <td>0.0</td>\n",
              "      <td>0.0</td>\n",
              "      <td>0.0</td>\n",
              "      <td>0.0</td>\n",
              "      <td>0.0</td>\n",
              "      <td>0.0</td>\n",
              "      <td>0.0</td>\n",
              "      <td>0.0</td>\n",
              "      <td>0.0</td>\n",
              "      <td>0.0</td>\n",
              "      <td>0.0</td>\n",
              "      <td>0.0</td>\n",
              "      <td>0.0</td>\n",
              "      <td>0.0</td>\n",
              "      <td>0.0</td>\n",
              "      <td>0.0</td>\n",
              "      <td>0.0</td>\n",
              "      <td>0.0</td>\n",
              "      <td>0.0</td>\n",
              "      <td>0.0</td>\n",
              "    </tr>\n",
              "    <tr>\n",
              "      <th>12177</th>\n",
              "      <td>0.0</td>\n",
              "      <td>0.0</td>\n",
              "      <td>0.0</td>\n",
              "      <td>0.0</td>\n",
              "      <td>0.0</td>\n",
              "      <td>0.0</td>\n",
              "      <td>0.0</td>\n",
              "      <td>0.0</td>\n",
              "      <td>0.0</td>\n",
              "      <td>0.0</td>\n",
              "      <td>0.0</td>\n",
              "      <td>0.0</td>\n",
              "      <td>0.0</td>\n",
              "      <td>0.0</td>\n",
              "      <td>0.0</td>\n",
              "      <td>0.0</td>\n",
              "      <td>0.0</td>\n",
              "      <td>0.0</td>\n",
              "      <td>0.0</td>\n",
              "      <td>0.0</td>\n",
              "      <td>0.0</td>\n",
              "      <td>0.0</td>\n",
              "      <td>0.0</td>\n",
              "      <td>0.0</td>\n",
              "      <td>0.0</td>\n",
              "      <td>0.0</td>\n",
              "      <td>0.0</td>\n",
              "      <td>0.0</td>\n",
              "      <td>0.0</td>\n",
              "      <td>0.0</td>\n",
              "      <td>0.0</td>\n",
              "      <td>0.0</td>\n",
              "      <td>0.0</td>\n",
              "      <td>0.0</td>\n",
              "      <td>0.0</td>\n",
              "      <td>0.0</td>\n",
              "      <td>0.0</td>\n",
              "      <td>0.0</td>\n",
              "      <td>0.0</td>\n",
              "      <td>0.0</td>\n",
              "      <td>...</td>\n",
              "      <td>0.0</td>\n",
              "      <td>0.0</td>\n",
              "      <td>0.0</td>\n",
              "      <td>0.0</td>\n",
              "      <td>0.0</td>\n",
              "      <td>0.0</td>\n",
              "      <td>0.0</td>\n",
              "      <td>0.0</td>\n",
              "      <td>0.0</td>\n",
              "      <td>0.0</td>\n",
              "      <td>0.0</td>\n",
              "      <td>0.0</td>\n",
              "      <td>0.0</td>\n",
              "      <td>0.0</td>\n",
              "      <td>0.0</td>\n",
              "      <td>0.0</td>\n",
              "      <td>0.0</td>\n",
              "      <td>0.0</td>\n",
              "      <td>0.0</td>\n",
              "      <td>0.0</td>\n",
              "      <td>0.0</td>\n",
              "      <td>0.0</td>\n",
              "      <td>0.0</td>\n",
              "      <td>0.0</td>\n",
              "      <td>0.0</td>\n",
              "      <td>0.0</td>\n",
              "      <td>0.0</td>\n",
              "      <td>0.0</td>\n",
              "      <td>0.0</td>\n",
              "      <td>0.0</td>\n",
              "      <td>0.0</td>\n",
              "      <td>0.0</td>\n",
              "      <td>0.0</td>\n",
              "      <td>0.0</td>\n",
              "      <td>0.0</td>\n",
              "      <td>0.0</td>\n",
              "      <td>0.0</td>\n",
              "      <td>0.0</td>\n",
              "      <td>0.0</td>\n",
              "      <td>0.0</td>\n",
              "    </tr>\n",
              "  </tbody>\n",
              "</table>\n",
              "<p>9868 rows × 23690 columns</p>\n",
              "</div>\n",
              "      <button class=\"colab-df-convert\" onclick=\"convertToInteractive('df-53d04766-75c4-4fd3-a343-dbe663ebe918')\"\n",
              "              title=\"Convert this dataframe to an interactive table.\"\n",
              "              style=\"display:none;\">\n",
              "        \n",
              "  <svg xmlns=\"http://www.w3.org/2000/svg\" height=\"24px\"viewBox=\"0 0 24 24\"\n",
              "       width=\"24px\">\n",
              "    <path d=\"M0 0h24v24H0V0z\" fill=\"none\"/>\n",
              "    <path d=\"M18.56 5.44l.94 2.06.94-2.06 2.06-.94-2.06-.94-.94-2.06-.94 2.06-2.06.94zm-11 1L8.5 8.5l.94-2.06 2.06-.94-2.06-.94L8.5 2.5l-.94 2.06-2.06.94zm10 10l.94 2.06.94-2.06 2.06-.94-2.06-.94-.94-2.06-.94 2.06-2.06.94z\"/><path d=\"M17.41 7.96l-1.37-1.37c-.4-.4-.92-.59-1.43-.59-.52 0-1.04.2-1.43.59L10.3 9.45l-7.72 7.72c-.78.78-.78 2.05 0 2.83L4 21.41c.39.39.9.59 1.41.59.51 0 1.02-.2 1.41-.59l7.78-7.78 2.81-2.81c.8-.78.8-2.07 0-2.86zM5.41 20L4 18.59l7.72-7.72 1.47 1.35L5.41 20z\"/>\n",
              "  </svg>\n",
              "      </button>\n",
              "      \n",
              "  <style>\n",
              "    .colab-df-container {\n",
              "      display:flex;\n",
              "      flex-wrap:wrap;\n",
              "      gap: 12px;\n",
              "    }\n",
              "\n",
              "    .colab-df-convert {\n",
              "      background-color: #E8F0FE;\n",
              "      border: none;\n",
              "      border-radius: 50%;\n",
              "      cursor: pointer;\n",
              "      display: none;\n",
              "      fill: #1967D2;\n",
              "      height: 32px;\n",
              "      padding: 0 0 0 0;\n",
              "      width: 32px;\n",
              "    }\n",
              "\n",
              "    .colab-df-convert:hover {\n",
              "      background-color: #E2EBFA;\n",
              "      box-shadow: 0px 1px 2px rgba(60, 64, 67, 0.3), 0px 1px 3px 1px rgba(60, 64, 67, 0.15);\n",
              "      fill: #174EA6;\n",
              "    }\n",
              "\n",
              "    [theme=dark] .colab-df-convert {\n",
              "      background-color: #3B4455;\n",
              "      fill: #D2E3FC;\n",
              "    }\n",
              "\n",
              "    [theme=dark] .colab-df-convert:hover {\n",
              "      background-color: #434B5C;\n",
              "      box-shadow: 0px 1px 3px 1px rgba(0, 0, 0, 0.15);\n",
              "      filter: drop-shadow(0px 1px 2px rgba(0, 0, 0, 0.3));\n",
              "      fill: #FFFFFF;\n",
              "    }\n",
              "  </style>\n",
              "\n",
              "      <script>\n",
              "        const buttonEl =\n",
              "          document.querySelector('#df-53d04766-75c4-4fd3-a343-dbe663ebe918 button.colab-df-convert');\n",
              "        buttonEl.style.display =\n",
              "          google.colab.kernel.accessAllowed ? 'block' : 'none';\n",
              "\n",
              "        async function convertToInteractive(key) {\n",
              "          const element = document.querySelector('#df-53d04766-75c4-4fd3-a343-dbe663ebe918');\n",
              "          const dataTable =\n",
              "            await google.colab.kernel.invokeFunction('convertToInteractive',\n",
              "                                                     [key], {});\n",
              "          if (!dataTable) return;\n",
              "\n",
              "          const docLinkHtml = 'Like what you see? Visit the ' +\n",
              "            '<a target=\"_blank\" href=https://colab.research.google.com/notebooks/data_table.ipynb>data table notebook</a>'\n",
              "            + ' to learn more about interactive tables.';\n",
              "          element.innerHTML = '';\n",
              "          dataTable['output_type'] = 'display_data';\n",
              "          await google.colab.output.renderOutput(dataTable, element);\n",
              "          const docLink = document.createElement('div');\n",
              "          docLink.innerHTML = docLinkHtml;\n",
              "          element.appendChild(docLink);\n",
              "        }\n",
              "      </script>\n",
              "    </div>\n",
              "  </div>\n",
              "  "
            ],
            "text/plain": [
              "        00  000  001  00hs  ...  útero  útil  ṕraia  방탄소년단\n",
              "2310   0.0  0.0  0.0   0.0  ...    0.0   0.0    0.0    0.0\n",
              "2311   0.0  0.0  0.0   0.0  ...    0.0   0.0    0.0    0.0\n",
              "2312   0.0  0.0  0.0   0.0  ...    0.0   0.0    0.0    0.0\n",
              "2313   0.0  0.0  0.0   0.0  ...    0.0   0.0    0.0    0.0\n",
              "2314   0.0  0.0  0.0   0.0  ...    0.0   0.0    0.0    0.0\n",
              "...    ...  ...  ...   ...  ...    ...   ...    ...    ...\n",
              "12173  0.0  0.0  0.0   0.0  ...    0.0   0.0    0.0    0.0\n",
              "12174  0.0  0.0  0.0   0.0  ...    0.0   0.0    0.0    0.0\n",
              "12175  0.0  0.0  0.0   0.0  ...    0.0   0.0    0.0    0.0\n",
              "12176  0.0  0.0  0.0   0.0  ...    0.0   0.0    0.0    0.0\n",
              "12177  0.0  0.0  0.0   0.0  ...    0.0   0.0    0.0    0.0\n",
              "\n",
              "[9868 rows x 23690 columns]"
            ]
          },
          "metadata": {},
          "execution_count": 14
        }
      ]
    },
    {
      "cell_type": "code",
      "execution_count": 15,
      "metadata": {
        "colab": {
          "base_uri": "https://localhost:8080/"
        },
        "id": "DOfq0VV7mXY2",
        "outputId": "848ee1ae-48de-4ae5-f00d-44d2a64159cd"
      },
      "outputs": [
        {
          "output_type": "stream",
          "name": "stdout",
          "text": [
            "(9868, 23690) (2310, 23690)\n"
          ]
        }
      ],
      "source": [
        "print(X_tfidf_train.shape,\n",
        "      X_tfidf_test.shape)"
      ]
    },
    {
      "cell_type": "markdown",
      "metadata": {
        "id": "GXS1rcH2tryv"
      },
      "source": [
        "# Word2Vec"
      ]
    },
    {
      "cell_type": "code",
      "execution_count": 23,
      "metadata": {
        "id": "NHChee6JwBKg"
      },
      "outputs": [],
      "source": [
        "def apply_word2vec(X):\n",
        "  # Tokenize\n",
        "  X = [TweetTokenizer().tokenize(text) for text in X]\n",
        "\n",
        "  # Define Word2Vec\n",
        "  vectorizer = Word2Vec(X, window=5, min_count=1, workers=4)\n",
        "  X_word2vec = []\n",
        "\n",
        "  # Sum embeddings\n",
        "  for text in X:\n",
        "    vectorizer.train(text, total_examples=1, epochs=1)\n",
        "    words = [vectorizer.wv[word] for word in text]\n",
        "    embeddings = np.sum(words, axis=0)\n",
        "    X_word2vec.append(embeddings)\n",
        "\n",
        "  return X_word2vec"
      ]
    },
    {
      "cell_type": "code",
      "execution_count": 24,
      "metadata": {
        "id": "QlCGJbDcwP8F"
      },
      "outputs": [],
      "source": [
        "X_word2vec_train = apply_word2vec(tweets_train_df_pp['Tweet text'])\n",
        "X_word2vec_test = apply_word2vec(tweets_test_df_pp['Tweet text'])"
      ]
    },
    {
      "cell_type": "code",
      "execution_count": 25,
      "metadata": {
        "colab": {
          "base_uri": "https://localhost:8080/"
        },
        "id": "dsSEToJRwP8G",
        "outputId": "61e08a39-1720-4adc-9b49-876d88f0ebe5"
      },
      "outputs": [
        {
          "output_type": "execute_result",
          "data": {
            "text/plain": [
              "array([ -6.5982485 ,  -2.5607972 , -12.566344  ,  -6.567514  ,\n",
              "         0.27118278, -10.178909  ,   2.7426372 ,  -1.9999963 ,\n",
              "         7.1199703 ,   8.288435  , -12.910002  ,  -3.219226  ,\n",
              "         5.952793  ,  -7.0894666 ,  -0.5355723 ,  -7.528922  ,\n",
              "         8.933626  ,   4.7216883 ,  -0.32701597,   0.3083505 ,\n",
              "         2.8497603 ,  -0.17206517, -10.113854  ,   3.2153356 ,\n",
              "         3.5779781 ,  -6.376062  , -11.759377  ,  -9.749552  ,\n",
              "        -6.837224  ,  -1.3443983 ,  -4.2490325 ,  11.975881  ,\n",
              "         3.2107534 ,  -3.1035736 ,   3.5913894 ,  -2.5562177 ,\n",
              "        14.11853   ,   1.1018894 ,   5.3348465 ,  -0.2881456 ,\n",
              "        -7.3811274 ,   7.1101236 ,  -4.7145214 ,   1.2495685 ,\n",
              "         7.992506  , -10.541563  ,  -0.83102214,   6.8195972 ,\n",
              "        -0.17705984,  -3.2717621 ,  -8.021229  ,   8.101253  ,\n",
              "        -3.5094829 ,   0.05383798,   2.3388014 ,  11.021433  ,\n",
              "         2.7063138 ,  -2.3306248 ,  -2.1082354 ,   9.284414  ,\n",
              "       -10.0649605 ,  -4.4043427 ,  -7.6678214 , -10.614845  ,\n",
              "         9.157481  ,   3.2432966 ,   7.9246826 ,  -1.9856606 ,\n",
              "         1.1467706 ,   2.0609117 ,   5.108776  ,   9.208993  ,\n",
              "         1.0665687 ,   8.33154   ,  -2.4261208 ,   8.624837  ,\n",
              "        -5.016282  ,  -7.4311595 ,   1.803936  ,   3.22103   ,\n",
              "        12.831611  ,  -6.4114733 ,  -1.5122845 ,  -4.2938237 ,\n",
              "       -15.1799345 ,  12.71134   ,   3.0246809 ,   7.835587  ,\n",
              "        -1.8993357 ,   0.22590536,   8.031769  ,  -7.246909  ,\n",
              "         3.4210525 ,  -3.5037932 ,   7.3406334 ,  -2.0202644 ,\n",
              "        18.457731  , -14.523379  ,  -4.1210537 ,  -9.681455  ],\n",
              "      dtype=float32)"
            ]
          },
          "metadata": {},
          "execution_count": 25
        }
      ],
      "source": [
        "X_word2vec_train[0]"
      ]
    },
    {
      "cell_type": "code",
      "source": [
        "# Normalize data for word2vec Naive Bayes\n",
        "scaler = MinMaxScaler()\n",
        "\n",
        "X_word2vec_train_normalized = scaler.fit(X_word2vec_train).transform(X_word2vec_train)\n",
        "X_word2vec_test_normalized = scaler.fit(X_word2vec_test).transform(X_word2vec_test)"
      ],
      "metadata": {
        "id": "exED2tHtqSps"
      },
      "execution_count": 26,
      "outputs": []
    },
    {
      "cell_type": "markdown",
      "metadata": {
        "id": "mPbEkoXg46tZ"
      },
      "source": [
        "# Test hyperparameters"
      ]
    },
    {
      "cell_type": "code",
      "execution_count": 11,
      "metadata": {
        "id": "rkkpw1tGiE5C"
      },
      "outputs": [],
      "source": [
        "def test_hyperparameters(classifier, X_train, y_train):\n",
        "    parameters = {}\n",
        "    classification = None\n",
        "\n",
        "    if classifier == 'Random Forest':\n",
        "        parameters = {'n_estimators': [100, 300, 500], \"max_depth\": [\n",
        "            3, 5, 7, None], 'criterion': ['gini', 'entropy'], 'max_features': ['auto', 'sqrt', 'log2']}\n",
        "        classification = RandomForestClassifier(random_state=0)\n",
        "    elif classifier == 'Naive Bayes':\n",
        "        parameters = {'alpha': [1, 0.1, 0.01, 0.001, 0.0001]}\n",
        "        classification = MultinomialNB()\n",
        "    elif classifier == 'SVM':\n",
        "        parameters = {'kernel': ['rbf', 'poly', 'sigmoid', 'linear'], \"C\": [1, 10, 100, 1000]}\n",
        "        classification = SVC(random_state=0)\n",
        "\n",
        "    score = 'f1'\n",
        "\n",
        "    print(\"# Defining hyperparameters based on %s\" % score)\n",
        "    print()\n",
        "\n",
        "    clf = RandomizedSearchCV(classification, parameters, scoring=\"%s_macro\" % score, cv=5)\n",
        "    clf.fit(X_train, y_train)\n",
        "\n",
        "    print(\"Best hyperparameters:\")\n",
        "    print()\n",
        "    print(clf.best_params_)"
      ]
    },
    {
      "cell_type": "markdown",
      "metadata": {
        "id": "4HFFJe7DIfXd"
      },
      "source": [
        "Test tfidf hyperparameters"
      ]
    },
    {
      "cell_type": "code",
      "execution_count": null,
      "metadata": {
        "colab": {
          "base_uri": "https://localhost:8080/"
        },
        "id": "K6P9aw3Zbpf4",
        "outputId": "90565567-56e0-448e-bdf0-6d04e0c20a07"
      },
      "outputs": [
        {
          "name": "stdout",
          "output_type": "stream",
          "text": [
            "# Defining hyperparameters based on f1\n",
            "\n",
            "Best hyperparameters:\n",
            "\n",
            "{'alpha': 0.0001}\n"
          ]
        }
      ],
      "source": [
        "test_hyperparameters('Naive Bayes', X_tfidf_train_h, tweets_train_df['Label'])"
      ]
    },
    {
      "cell_type": "code",
      "execution_count": 12,
      "metadata": {
        "colab": {
          "base_uri": "https://localhost:8080/"
        },
        "id": "Hj5FpbhqHrl1",
        "outputId": "11b64858-158f-4bd8-8ccb-3b4d8ca7f7db"
      },
      "outputs": [
        {
          "output_type": "stream",
          "name": "stdout",
          "text": [
            "# Defining hyperparameters based on f1\n",
            "\n",
            "Best hyperparameters:\n",
            "\n",
            "{'kernel': 'linear', 'C': 1000}\n"
          ]
        }
      ],
      "source": [
        "test_hyperparameters('SVM', X_tfidf_test_h, tweets_test_df['Label'])"
      ]
    },
    {
      "cell_type": "code",
      "execution_count": 13,
      "metadata": {
        "id": "XQGwUKXdHtEl",
        "colab": {
          "base_uri": "https://localhost:8080/"
        },
        "outputId": "1d3553bc-d71d-40f9-ebc7-c135636cf1a3"
      },
      "outputs": [
        {
          "output_type": "stream",
          "name": "stdout",
          "text": [
            "# Defining hyperparameters based on f1\n",
            "\n",
            "Best hyperparameters:\n",
            "\n",
            "{'n_estimators': 100, 'max_features': 'auto', 'max_depth': None, 'criterion': 'gini'}\n"
          ]
        }
      ],
      "source": [
        "test_hyperparameters('Random Forest', X_tfidf_test_h, tweets_test_df['Label'])"
      ]
    },
    {
      "cell_type": "markdown",
      "metadata": {
        "id": "aBcPcqwEIZab"
      },
      "source": [
        "Test word2vec hyperparameters"
      ]
    },
    {
      "cell_type": "code",
      "execution_count": 18,
      "metadata": {
        "id": "hTFHyFf6yUCH",
        "colab": {
          "base_uri": "https://localhost:8080/"
        },
        "outputId": "273d15fd-c559-414b-962f-ef0025082efd"
      },
      "outputs": [
        {
          "output_type": "stream",
          "name": "stdout",
          "text": [
            "# Defining hyperparameters based on f1\n",
            "\n",
            "Best hyperparameters:\n",
            "\n",
            "{'alpha': 0.1}\n"
          ]
        }
      ],
      "source": [
        "test_hyperparameters('Naive Bayes', X_word2vec_train_normalized, tweets_train_df['Label'])"
      ]
    },
    {
      "cell_type": "code",
      "execution_count": 20,
      "metadata": {
        "id": "OmOjS_5VIXL8",
        "colab": {
          "base_uri": "https://localhost:8080/"
        },
        "outputId": "ad4f4fc9-0a9b-4fe9-8e5d-f8d91498128e"
      },
      "outputs": [
        {
          "output_type": "stream",
          "name": "stdout",
          "text": [
            "# Defining hyperparameters based on f1\n",
            "\n",
            "Best hyperparameters:\n",
            "\n",
            "{'kernel': 'linear', 'C': 100}\n"
          ]
        }
      ],
      "source": [
        "test_hyperparameters('SVM', X_word2vec_train, tweets_train_df['Label'])"
      ]
    },
    {
      "cell_type": "code",
      "execution_count": 19,
      "metadata": {
        "id": "V56OxAlrIVAA",
        "colab": {
          "base_uri": "https://localhost:8080/"
        },
        "outputId": "fa946b2f-1031-4426-aae5-3ee42bc8e07f"
      },
      "outputs": [
        {
          "output_type": "stream",
          "name": "stdout",
          "text": [
            "# Defining hyperparameters based on f1\n",
            "\n",
            "Best hyperparameters:\n",
            "\n",
            "{'n_estimators': 100, 'max_features': 'auto', 'max_depth': None, 'criterion': 'entropy'}\n"
          ]
        }
      ],
      "source": [
        "test_hyperparameters('Random Forest', X_word2vec_train, tweets_train_df['Label'])"
      ]
    },
    {
      "cell_type": "markdown",
      "metadata": {
        "id": "alc4gj9MjFOf"
      },
      "source": [
        "# Classification"
      ]
    },
    {
      "cell_type": "code",
      "execution_count": 16,
      "metadata": {
        "id": "n9g6xVuliG67"
      },
      "outputs": [],
      "source": [
        "def createClassifier(classifier, x_train, y_train, x_test, y_test):\n",
        "    # Create classifier\n",
        "    classifier.fit(x_train, y_train)\n",
        "\n",
        "    # Define test labels\n",
        "    y_true, y_pred = y_test, classifier.predict(x_test)\n",
        "\n",
        "    print('Classification report: ')\n",
        "    print(classification_report(y_true, y_pred, zero_division=1))\n",
        "    \n",
        "    return y_pred"
      ]
    },
    {
      "cell_type": "code",
      "execution_count": 17,
      "metadata": {
        "id": "U5G3en-JbGhd"
      },
      "outputs": [],
      "source": [
        "def plotConfusionMatrix(classifier, x_test, y_test):\n",
        "    ConfusionMatrixDisplay.from_estimator(classifier, x_test, y_test, cmap=plt.cm.Blues)\n",
        "    plt.show()\n",
        "\n",
        "    return;"
      ]
    },
    {
      "cell_type": "code",
      "execution_count": 18,
      "metadata": {
        "id": "4-6XM1EQoxN1"
      },
      "outputs": [],
      "source": [
        "y_tweets_train_df = tweets_train_df['Label']\n",
        "\n",
        "y_test = tweets_test_df['Label']"
      ]
    },
    {
      "cell_type": "code",
      "execution_count": 22,
      "metadata": {
        "id": "3JCAQO0-bthS",
        "colab": {
          "base_uri": "https://localhost:8080/",
          "height": 470
        },
        "outputId": "44be19ca-2ff3-4d10-ee21-707c39de9c71"
      },
      "outputs": [
        {
          "output_type": "stream",
          "name": "stdout",
          "text": [
            "Classification report: \n",
            "              precision    recall  f1-score   support\n",
            "\n",
            "           0       0.21      0.20      0.21       408\n",
            "           1       0.83      0.84      0.83      1902\n",
            "\n",
            "    accuracy                           0.73      2310\n",
            "   macro avg       0.52      0.52      0.52      2310\n",
            "weighted avg       0.72      0.73      0.72      2310\n",
            "\n",
            "Confusion Matrix: \n"
          ]
        },
        {
          "output_type": "display_data",
          "data": {
            "image/png": "[encoded data removed]",
            "text/plain": [
              "<Figure size 432x288 with 2 Axes>"
            ]
          },
          "metadata": {
            "needs_background": "light"
          }
        }
      ],
      "source": [
        "# TF-IDF and Naive Bayes\n",
        "nb_clf = MultinomialNB(alpha=0.0001)\n",
        "\n",
        "y_pred = createClassifier(nb_clf, X_tfidf_train, y_tweets_train_df, \n",
        "                          X_tfidf_test, y_test)\n",
        "\n",
        "print('Confusion Matrix: ')\n",
        "plotConfusionMatrix(nb_clf, X_tfidf_test, y_test)"
      ]
    },
    {
      "cell_type": "code",
      "execution_count": 27,
      "metadata": {
        "id": "mviBNYcusw4S",
        "colab": {
          "base_uri": "https://localhost:8080/",
          "height": 470
        },
        "outputId": "e8fe4ff6-f803-4418-c4a9-2943382ea4a0"
      },
      "outputs": [
        {
          "output_type": "stream",
          "name": "stdout",
          "text": [
            "Classification report: \n",
            "              precision    recall  f1-score   support\n",
            "\n",
            "           0       0.21      0.21      0.21       408\n",
            "           1       0.83      0.83      0.83      1902\n",
            "\n",
            "    accuracy                           0.72      2310\n",
            "   macro avg       0.52      0.52      0.52      2310\n",
            "weighted avg       0.72      0.72      0.72      2310\n",
            "\n",
            "Confusion Matrix: \n"
          ]
        },
        {
          "output_type": "display_data",
          "data": {
            "image/png": "[encoded data removed]",
            "text/plain": [
              "<Figure size 432x288 with 2 Axes>"
            ]
          },
          "metadata": {
            "needs_background": "light"
          }
        }
      ],
      "source": [
        "# TF-IDF and Support Vector Machine\n",
        "svm_clf = SVC(kernel='linear', C=1000)\n",
        "\n",
        "y_pred = createClassifier(svm_clf, X_tfidf_train, y_tweets_train_df, \n",
        "                          X_tfidf_test, y_test)\n",
        "\n",
        "print('Confusion Matrix: ')\n",
        "plotConfusionMatrix(svm_clf, X_tfidf_test, y_test)"
      ]
    },
    {
      "cell_type": "code",
      "execution_count": 20,
      "metadata": {
        "id": "UPtxEU_9sbbg",
        "colab": {
          "base_uri": "https://localhost:8080/",
          "height": 470
        },
        "outputId": "c424c4cf-dafc-4261-ffc3-e9a4faf18778"
      },
      "outputs": [
        {
          "output_type": "stream",
          "name": "stdout",
          "text": [
            "Classification report: \n",
            "              precision    recall  f1-score   support\n",
            "\n",
            "           0       0.21      0.21      0.21       408\n",
            "           1       0.83      0.83      0.83      1902\n",
            "\n",
            "    accuracy                           0.72      2310\n",
            "   macro avg       0.52      0.52      0.52      2310\n",
            "weighted avg       0.72      0.72      0.72      2310\n",
            "\n",
            "Confusion Matrix: \n"
          ]
        },
        {
          "output_type": "display_data",
          "data": {
            "image/png": "[encoded data removed]",
            "text/plain": [
              "<Figure size 432x288 with 2 Axes>"
            ]
          },
          "metadata": {
            "needs_background": "light"
          }
        }
      ],
      "source": [
        "# TF-IDF and Random Forest\n",
        "rf_clf = RandomForestClassifier(n_estimators=100, max_features='auto', max_depth=None, criterion='gini')\n",
        "\n",
        "y_pred = createClassifier(rf_clf, X_tfidf_train, y_tweets_train_df, \n",
        "                          X_tfidf_test, y_test)\n",
        "\n",
        "print('Confusion Matrix: ')\n",
        "plotConfusionMatrix(rf_clf, X_tfidf_test, y_test)"
      ]
    },
    {
      "cell_type": "code",
      "execution_count": 29,
      "metadata": {
        "id": "K5F6hRMKvGHZ",
        "colab": {
          "base_uri": "https://localhost:8080/",
          "height": 470
        },
        "outputId": "ca996570-3e8d-4903-bf7c-585dcaa3563c"
      },
      "outputs": [
        {
          "output_type": "stream",
          "name": "stdout",
          "text": [
            "Classification report: \n",
            "              precision    recall  f1-score   support\n",
            "\n",
            "           0       1.00      0.00      0.00       408\n",
            "           1       0.82      1.00      0.90      1902\n",
            "\n",
            "    accuracy                           0.82      2310\n",
            "   macro avg       0.91      0.50      0.45      2310\n",
            "weighted avg       0.85      0.82      0.74      2310\n",
            "\n",
            "Confusion Matrix: \n"
          ]
        },
        {
          "output_type": "display_data",
          "data": {
            "image/png": "[encoded data removed]",
            "text/plain": [
              "<Figure size 432x288 with 2 Axes>"
            ]
          },
          "metadata": {
            "needs_background": "light"
          }
        }
      ],
      "source": [
        "# Word2vec and Naive Bayes\n",
        "nb_clf = MultinomialNB(alpha=0.1)\n",
        "\n",
        "y_pred = createClassifier(nb_clf, X_word2vec_train_normalized, y_tweets_train_df, \n",
        "                          X_word2vec_test, y_test)\n",
        "\n",
        "print('Confusion Matrix: ')\n",
        "plotConfusionMatrix(nb_clf, X_word2vec_test, y_test)"
      ]
    },
    {
      "cell_type": "code",
      "execution_count": 30,
      "metadata": {
        "id": "o13drwMuvGHa",
        "colab": {
          "base_uri": "https://localhost:8080/",
          "height": 470
        },
        "outputId": "bcbd1e2b-7cc5-4cd4-c9af-9fcd075cf139"
      },
      "outputs": [
        {
          "output_type": "stream",
          "name": "stdout",
          "text": [
            "Classification report: \n",
            "              precision    recall  f1-score   support\n",
            "\n",
            "           0       0.18      1.00      0.30       408\n",
            "           1       1.00      0.01      0.02      1902\n",
            "\n",
            "    accuracy                           0.18      2310\n",
            "   macro avg       0.59      0.50      0.16      2310\n",
            "weighted avg       0.85      0.18      0.07      2310\n",
            "\n",
            "Confusion Matrix: \n"
          ]
        },
        {
          "output_type": "display_data",
          "data": {
            "image/png": "[encoded data removed]",
            "text/plain": [
              "<Figure size 432x288 with 2 Axes>"
            ]
          },
          "metadata": {
            "needs_background": "light"
          }
        }
      ],
      "source": [
        "# Word2vec and Support Vector Machine\n",
        "svm_clf = SVC(kernel='linear', C=100)\n",
        "\n",
        "y_pred = createClassifier(svm_clf, X_word2vec_train, y_tweets_train_df, \n",
        "                          X_word2vec_test, y_test)\n",
        "\n",
        "print('Confusion Matrix: ')\n",
        "plotConfusionMatrix(svm_clf, X_word2vec_test, y_test)"
      ]
    },
    {
      "cell_type": "code",
      "execution_count": 31,
      "metadata": {
        "id": "JG_44USsvGHa",
        "colab": {
          "base_uri": "https://localhost:8080/",
          "height": 470
        },
        "outputId": "f393543a-69e2-4882-db75-c5e0d0a50c1a"
      },
      "outputs": [
        {
          "output_type": "stream",
          "name": "stdout",
          "text": [
            "Classification report: \n",
            "              precision    recall  f1-score   support\n",
            "\n",
            "           0       0.07      0.00      0.00       408\n",
            "           1       0.82      0.99      0.90      1902\n",
            "\n",
            "    accuracy                           0.82      2310\n",
            "   macro avg       0.45      0.50      0.45      2310\n",
            "weighted avg       0.69      0.82      0.74      2310\n",
            "\n",
            "Confusion Matrix: \n"
          ]
        },
        {
          "output_type": "display_data",
          "data": {
            "image/png": "[encoded data removed]",
            "text/plain": [
              "<Figure size 432x288 with 2 Axes>"
            ]
          },
          "metadata": {
            "needs_background": "light"
          }
        }
      ],
      "source": [
        "# Word2vec and Random Forest\n",
        "rf_clf = RandomForestClassifier(n_estimators=100, max_features='auto', max_depth=None, criterion='entropy')\n",
        "\n",
        "y_pred = createClassifier(rf_clf, X_word2vec_train, y_tweets_train_df, \n",
        "                          X_word2vec_test, y_test)\n",
        "\n",
        "print('Confusion Matrix: ')\n",
        "plotConfusionMatrix(rf_clf, X_word2vec_test, y_test)"
      ]
    }
  ],
  "metadata": {
    "colab": {
      "collapsed_sections": [
        "x0GcUGoUGM_x",
        "FLCiHXTJSQsD",
        "ePkf1I-gSUoU"
      ],
      "name": "irony_detection_experiment_2.ipynb",
      "provenance": [],
      "authorship_tag": "ABX9TyO5/DvLyVmcCzZuA6usOYT9",
      "include_colab_link": true
    },
    "kernelspec": {
      "display_name": "Python 3",
      "name": "python3"
    },
    "language_info": {
      "name": "python"
    }
  },
  "nbformat": 4,
  "nbformat_minor": 0
}